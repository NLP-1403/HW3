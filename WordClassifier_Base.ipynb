{
 "cells": [
  {
   "metadata": {
    "ExecuteTime": {
     "end_time": "2024-07-11T13:32:32.453294Z",
     "start_time": "2024-07-11T13:32:32.449206Z"
    }
   },
   "cell_type": "code",
   "source": [
    "# from google.colab import drive\n",
    "# drive.mount('/content/drive')"
   ],
   "id": "37e3ecc5130dd1ed",
   "outputs": [],
   "execution_count": 297
  },
  {
   "metadata": {
    "ExecuteTime": {
     "end_time": "2024-07-11T13:32:33.814793Z",
     "start_time": "2024-07-11T13:32:33.811698Z"
    }
   },
   "cell_type": "code",
   "source": [
    "url = 'drive/MyDrive/a/'\n",
    "url = ''"
   ],
   "id": "e970955e59a3f3c2",
   "outputs": [],
   "execution_count": 298
  },
  {
   "metadata": {},
   "cell_type": "markdown",
   "source": "# Preprocessing",
   "id": "def4fcb574720415"
  },
  {
   "metadata": {},
   "cell_type": "markdown",
   "source": "## Importing Libraries",
   "id": "bdaea4dcc8c2e0b4"
  },
  {
   "metadata": {
    "ExecuteTime": {
     "end_time": "2024-07-11T13:32:33.866951Z",
     "start_time": "2024-07-11T13:32:33.864481Z"
    }
   },
   "cell_type": "code",
   "source": "# !pip install hazm",
   "id": "d7e65022b96537bf",
   "outputs": [],
   "execution_count": 299
  },
  {
   "metadata": {
    "ExecuteTime": {
     "end_time": "2024-07-11T13:56:35.206433Z",
     "start_time": "2024-07-11T13:56:35.200891Z"
    }
   },
   "cell_type": "code",
   "source": [
    "import pandas as pd\n",
    "from tqdm.notebook import tqdm\n",
    "import numpy as np\n",
    "import re\n",
    "from hazm import InformalNormalizer, Normalizer, word_tokenize\n",
    "import matplotlib.pyplot as plt\n",
    "import plotly.express as px\n",
    "import seaborn as sns"
   ],
   "id": "caf8ed523a74f5cb",
   "outputs": [],
   "execution_count": 397
  },
  {
   "metadata": {},
   "cell_type": "markdown",
   "source": "## preprocessing prepared data (taghche.csv)",
   "id": "7d7cd10c0fe46889"
  },
  {
   "metadata": {
    "ExecuteTime": {
     "end_time": "2024-07-11T13:32:34.157966Z",
     "start_time": "2024-07-11T13:32:34.140948Z"
    }
   },
   "cell_type": "code",
   "source": "tqdm.pandas()",
   "id": "3d3729624c59f9b7",
   "outputs": [],
   "execution_count": 301
  },
  {
   "cell_type": "code",
   "id": "initial_id",
   "metadata": {
    "collapsed": true,
    "ExecuteTime": {
     "end_time": "2024-07-11T13:32:34.759069Z",
     "start_time": "2024-07-11T13:32:34.247652Z"
    }
   },
   "source": [
    "prepared_data: pd.DataFrame = pd.read_csv(url + 'datasets/taghche.csv')\n",
    "prepared_data = prepared_data[['comment', 'bookname', 'bookID']]"
   ],
   "outputs": [],
   "execution_count": 302
  },
  {
   "metadata": {
    "ExecuteTime": {
     "end_time": "2024-07-11T13:32:34.778552Z",
     "start_time": "2024-07-11T13:32:34.761139Z"
    }
   },
   "cell_type": "code",
   "source": "prepared_data.head()",
   "id": "c7c751dd317e7678",
   "outputs": [
    {
     "data": {
      "text/plain": [
       "                                             comment  \\\n",
       "0  اسم کتاب   No one writes to the Colonel\\nترجمش...   \n",
       "1  طاقچه عزیز،نام کتاب\"کسی به سرهنگ نامه نمینویسد...   \n",
       "2  بنظرم این اثر مارکز خیلی از صد سال تنهایی که ب...   \n",
       "3  به نظر کتاب خوبی میومد اما من از ترجمش خوشم نی...   \n",
       "4                                      کتاب خوبی است   \n",
       "\n",
       "                            bookname  bookID  \n",
       "0  سرهنگ کسی ندارد برایش نامه بنویسد     3.0  \n",
       "1  سرهنگ کسی ندارد برایش نامه بنویسد     3.0  \n",
       "2  سرهنگ کسی ندارد برایش نامه بنویسد     3.0  \n",
       "3  سرهنگ کسی ندارد برایش نامه بنویسد     3.0  \n",
       "4  سرهنگ کسی ندارد برایش نامه بنویسد     3.0  "
      ],
      "text/html": [
       "<div>\n",
       "<style scoped>\n",
       "    .dataframe tbody tr th:only-of-type {\n",
       "        vertical-align: middle;\n",
       "    }\n",
       "\n",
       "    .dataframe tbody tr th {\n",
       "        vertical-align: top;\n",
       "    }\n",
       "\n",
       "    .dataframe thead th {\n",
       "        text-align: right;\n",
       "    }\n",
       "</style>\n",
       "<table border=\"1\" class=\"dataframe\">\n",
       "  <thead>\n",
       "    <tr style=\"text-align: right;\">\n",
       "      <th></th>\n",
       "      <th>comment</th>\n",
       "      <th>bookname</th>\n",
       "      <th>bookID</th>\n",
       "    </tr>\n",
       "  </thead>\n",
       "  <tbody>\n",
       "    <tr>\n",
       "      <th>0</th>\n",
       "      <td>اسم کتاب   No one writes to the Colonel\\nترجمش...</td>\n",
       "      <td>سرهنگ کسی ندارد برایش نامه بنویسد</td>\n",
       "      <td>3.0</td>\n",
       "    </tr>\n",
       "    <tr>\n",
       "      <th>1</th>\n",
       "      <td>طاقچه عزیز،نام کتاب\"کسی به سرهنگ نامه نمینویسد...</td>\n",
       "      <td>سرهنگ کسی ندارد برایش نامه بنویسد</td>\n",
       "      <td>3.0</td>\n",
       "    </tr>\n",
       "    <tr>\n",
       "      <th>2</th>\n",
       "      <td>بنظرم این اثر مارکز خیلی از صد سال تنهایی که ب...</td>\n",
       "      <td>سرهنگ کسی ندارد برایش نامه بنویسد</td>\n",
       "      <td>3.0</td>\n",
       "    </tr>\n",
       "    <tr>\n",
       "      <th>3</th>\n",
       "      <td>به نظر کتاب خوبی میومد اما من از ترجمش خوشم نی...</td>\n",
       "      <td>سرهنگ کسی ندارد برایش نامه بنویسد</td>\n",
       "      <td>3.0</td>\n",
       "    </tr>\n",
       "    <tr>\n",
       "      <th>4</th>\n",
       "      <td>کتاب خوبی است</td>\n",
       "      <td>سرهنگ کسی ندارد برایش نامه بنویسد</td>\n",
       "      <td>3.0</td>\n",
       "    </tr>\n",
       "  </tbody>\n",
       "</table>\n",
       "</div>"
      ]
     },
     "execution_count": 303,
     "metadata": {},
     "output_type": "execute_result"
    }
   ],
   "execution_count": 303
  },
  {
   "metadata": {
    "ExecuteTime": {
     "end_time": "2024-07-11T13:32:34.798981Z",
     "start_time": "2024-07-11T13:32:34.787361Z"
    }
   },
   "cell_type": "code",
   "source": [
    "chars_stop_words = ''\n",
    "with open(url + 'stopwords/chars (without digits).txt', 'r', encoding='utf-8') as file:\n",
    "    chars_stop_words = ''.join(file.read().splitlines())\n",
    "\n",
    "chars_stop_words = chars_stop_words.replace('[', '\\[')\n",
    "chars_stop_words = chars_stop_words.replace(']', '\\]')\n",
    "chars_pattern = re.compile(f'[{chars_stop_words}]')\n",
    "chars_pattern"
   ],
   "id": "bd59dc1f5b219367",
   "outputs": [
    {
     "data": {
      "text/plain": [
       "re.compile(r'[\\ufeff!\"#()*,-./:\\[\\]«»،؛؟…$ًٌٍَُِّْءٰٔ﷼]', re.UNICODE)"
      ]
     },
     "execution_count": 304,
     "metadata": {},
     "output_type": "execute_result"
    }
   ],
   "execution_count": 304
  },
  {
   "metadata": {
    "ExecuteTime": {
     "end_time": "2024-07-11T13:32:34.813258Z",
     "start_time": "2024-07-11T13:32:34.802920Z"
    }
   },
   "cell_type": "code",
   "source": [
    "# https://stackoverflow.com/questions/33404752/removing-emojis-from-a-string-in-python\n",
    "emojis_pattern = re.compile(\"[\"\n",
    "                            u\"\\U0001F600-\\U0001F64F\"  # emoticons\n",
    "                            u\"\\U0001F300-\\U0001F5FF\"  # symbols & pictographs\n",
    "                            u\"\\U0001F680-\\U0001F6FF\"  # transport & map symbols\n",
    "                            u\"\\U0001F1E0-\\U0001F1FF\"  # flags (iOS)\n",
    "                            \"]+\")\n",
    "emojis_pattern"
   ],
   "id": "f3dfc0ccaed98d21",
   "outputs": [
    {
     "data": {
      "text/plain": [
       "re.compile(r'[😀-🙏🌀-🗿🚀-\\U0001f6ff\\U0001f1e0-🇿]+', re.UNICODE)"
      ]
     },
     "execution_count": 305,
     "metadata": {},
     "output_type": "execute_result"
    }
   ],
   "execution_count": 305
  },
  {
   "metadata": {
    "ExecuteTime": {
     "end_time": "2024-07-11T13:32:34.836486Z",
     "start_time": "2024-07-11T13:32:34.818276Z"
    }
   },
   "cell_type": "code",
   "source": [
    "def elementary_preprocess(text):\n",
    "    global chars_pattern, emojis_pattern\n",
    "\n",
    "    text = str(text)\n",
    "    text = chars_pattern.sub(r' ', text)\n",
    "    text = emojis_pattern.sub(r' ', text)\n",
    "    return text.translate(str.maketrans('0123456789', '۰۱۲۳۴۵۶۷۸۹'))\n",
    "\n",
    "\n",
    "def higher_preprocess(text, is_informal=False):\n",
    "    global normalizer\n",
    "\n",
    "    text = str(text)\n",
    "    \n",
    "    if is_informal:\n",
    "        text = informal_normalizer_function(text)\n",
    "    else:\n",
    "        text = normalizer.normalize(text)\n",
    "    \n",
    "    text = word_tokenize(text)\n",
    "    return text\n",
    "\n",
    "\n",
    "# customizing InformalNormalizer().normalize()\n",
    "# For seeing differences, you can see InformalNormalizer().normalize() method\n",
    "def informal_normalizer_function(text):\n",
    "    global informal_normalizer\n",
    "    text = str(text)\n",
    "\n",
    "    informal_normalizer = InformalNormalizer()\n",
    "    text = Normalizer.normalize(informal_normalizer, text)\n",
    "    sents = [\n",
    "        informal_normalizer.word_tokenizer.tokenize(sentence)\n",
    "        for sentence in informal_normalizer.sent_tokenizer.tokenize(text)\n",
    "    ]\n",
    "\n",
    "    normalized = [[informal_normalizer.normalized_word(word)[0] for word in sent] for sent in sents]\n",
    "    normalized = np.array(normalized, dtype=object)\n",
    "    return np.hstack(normalized)"
   ],
   "id": "b5a5f26fadc093b3",
   "outputs": [],
   "execution_count": 306
  },
  {
   "metadata": {
    "ExecuteTime": {
     "end_time": "2024-07-11T13:32:46.587894Z",
     "start_time": "2024-07-11T13:32:34.849268Z"
    }
   },
   "cell_type": "code",
   "source": [
    "normalizer = Normalizer()\n",
    "informal_normalizer = InformalNormalizer()"
   ],
   "id": "a4e102550cbbb4de",
   "outputs": [],
   "execution_count": 307
  },
  {
   "metadata": {
    "ExecuteTime": {
     "end_time": "2024-07-11T13:32:49.256059Z",
     "start_time": "2024-07-11T13:32:46.590006Z"
    }
   },
   "cell_type": "code",
   "source": [
    "for column in prepared_data.columns:\n",
    "    if column == 'bookID':\n",
    "        continue\n",
    "    \n",
    "    print(f'Column: {column}')\n",
    "    prepared_data[column] = prepared_data[column].progress_apply(elementary_preprocess)"
   ],
   "id": "cf3e30caaf92a2c3",
   "outputs": [
    {
     "name": "stdout",
     "output_type": "stream",
     "text": [
      "Column: comment\n"
     ]
    },
    {
     "data": {
      "text/plain": [
       "  0%|          | 0/69829 [00:00<?, ?it/s]"
      ],
      "application/vnd.jupyter.widget-view+json": {
       "version_major": 2,
       "version_minor": 0,
       "model_id": "fc7bfbf2789744fb821906e6167283f7"
      }
     },
     "metadata": {},
     "output_type": "display_data"
    },
    {
     "name": "stdout",
     "output_type": "stream",
     "text": [
      "Column: bookname\n"
     ]
    },
    {
     "data": {
      "text/plain": [
       "  0%|          | 0/69829 [00:00<?, ?it/s]"
      ],
      "application/vnd.jupyter.widget-view+json": {
       "version_major": 2,
       "version_minor": 0,
       "model_id": "df91cd76e36e4adba05c1ab7e460c55f"
      }
     },
     "metadata": {},
     "output_type": "display_data"
    }
   ],
   "execution_count": 308
  },
  {
   "metadata": {
    "ExecuteTime": {
     "end_time": "2024-07-11T13:33:27.260857Z",
     "start_time": "2024-07-11T13:32:49.258341Z"
    }
   },
   "cell_type": "code",
   "source": [
    "# When you want to do informal normalization, uncomment following lines\n",
    "# for column in prepared_data.columns:\n",
    "#     if column == 'bookID':\n",
    "#         continue\n",
    "# \n",
    "#     progress_bar = tqdm(total=len(prepared_data[column]))\n",
    "#     prepared_data[column] = prepared_data[column].progress_apply(lambda x: higher_preprocess(x, True))\n",
    "\n",
    "\n",
    "for column in prepared_data.columns:\n",
    "    if column == 'bookID':\n",
    "        continue\n",
    "    \n",
    "    print(f'Column: {column}')\n",
    "    prepared_data[column] = prepared_data[column].progress_apply(higher_preprocess)"
   ],
   "id": "5a9126f12f034114",
   "outputs": [
    {
     "name": "stdout",
     "output_type": "stream",
     "text": [
      "Column: comment\n"
     ]
    },
    {
     "data": {
      "text/plain": [
       "  0%|          | 0/69829 [00:00<?, ?it/s]"
      ],
      "application/vnd.jupyter.widget-view+json": {
       "version_major": 2,
       "version_minor": 0,
       "model_id": "efa0e81116de453f8a45ba4f78b44057"
      }
     },
     "metadata": {},
     "output_type": "display_data"
    },
    {
     "name": "stdout",
     "output_type": "stream",
     "text": [
      "Column: bookname\n"
     ]
    },
    {
     "data": {
      "text/plain": [
       "  0%|          | 0/69829 [00:00<?, ?it/s]"
      ],
      "application/vnd.jupyter.widget-view+json": {
       "version_major": 2,
       "version_minor": 0,
       "model_id": "2c80fe558eb84df499aec0d610d8eb79"
      }
     },
     "metadata": {},
     "output_type": "display_data"
    }
   ],
   "execution_count": 309
  },
  {
   "metadata": {
    "ExecuteTime": {
     "end_time": "2024-07-11T13:33:27.270318Z",
     "start_time": "2024-07-11T13:33:27.266767Z"
    }
   },
   "cell_type": "code",
   "source": [
    "# prepared_data.to_csv('datasets/preprocessed/preprocessed_taghche.csv')\n",
    "# prepared_data = pd.read_csv('datasets/preprocessed/preprocessed_taghche.csv')"
   ],
   "id": "c51b943a48f57242",
   "outputs": [],
   "execution_count": 310
  },
  {
   "metadata": {
    "ExecuteTime": {
     "end_time": "2024-07-11T13:33:27.319986Z",
     "start_time": "2024-07-11T13:33:27.272283Z"
    }
   },
   "cell_type": "code",
   "source": [
    "before_dropping = len(prepared_data)\n",
    "prepared_data = prepared_data[prepared_data['comment'].apply(lambda x: len(x)) != 0]\n",
    "print(f'Dropped {before_dropping - len(prepared_data)} rows with empty comment.')"
   ],
   "id": "cd369fa0f740de30",
   "outputs": [
    {
     "name": "stdout",
     "output_type": "stream",
     "text": [
      "Dropped 431 rows with empty comment.\n"
     ]
    }
   ],
   "execution_count": 311
  },
  {
   "metadata": {
    "ExecuteTime": {
     "end_time": "2024-07-11T13:33:27.338712Z",
     "start_time": "2024-07-11T13:33:27.322210Z"
    }
   },
   "cell_type": "code",
   "source": [
    "before_dropping = len(prepared_data)\n",
    "prepared_data = prepared_data.dropna(subset=['bookID'])\n",
    "print(f'Dropped {before_dropping - len(prepared_data)} rows with NaN bookID.')"
   ],
   "id": "3881302a542222ef",
   "outputs": [
    {
     "name": "stdout",
     "output_type": "stream",
     "text": [
      "Dropped 39 rows with NaN bookID.\n"
     ]
    }
   ],
   "execution_count": 312
  },
  {
   "metadata": {
    "ExecuteTime": {
     "end_time": "2024-07-11T13:33:27.355163Z",
     "start_time": "2024-07-11T13:33:27.341143Z"
    }
   },
   "cell_type": "code",
   "source": "prepared_data.head()",
   "id": "2e1d673b6c484593",
   "outputs": [
    {
     "data": {
      "text/plain": [
       "                                             comment  \\\n",
       "0  [اسم, کتاب, No, one, writes, to, the, Colonel,...   \n",
       "1  [طاقچه, عزیز, نام, کتاب, کسی, به, سرهنگ, نامه,...   \n",
       "2  [بنظرم, این, اثر, مارکز, خیلی, از, صد, سال, تن...   \n",
       "3  [به, نظر, کتاب, خوبی, میومد, اما, من, از, ترجم...   \n",
       "4                                  [کتاب, خوبی, است]   \n",
       "\n",
       "                                   bookname  bookID  \n",
       "0  [سرهنگ, کسی, ندارد, برایش, نامه, بنویسد]     3.0  \n",
       "1  [سرهنگ, کسی, ندارد, برایش, نامه, بنویسد]     3.0  \n",
       "2  [سرهنگ, کسی, ندارد, برایش, نامه, بنویسد]     3.0  \n",
       "3  [سرهنگ, کسی, ندارد, برایش, نامه, بنویسد]     3.0  \n",
       "4  [سرهنگ, کسی, ندارد, برایش, نامه, بنویسد]     3.0  "
      ],
      "text/html": [
       "<div>\n",
       "<style scoped>\n",
       "    .dataframe tbody tr th:only-of-type {\n",
       "        vertical-align: middle;\n",
       "    }\n",
       "\n",
       "    .dataframe tbody tr th {\n",
       "        vertical-align: top;\n",
       "    }\n",
       "\n",
       "    .dataframe thead th {\n",
       "        text-align: right;\n",
       "    }\n",
       "</style>\n",
       "<table border=\"1\" class=\"dataframe\">\n",
       "  <thead>\n",
       "    <tr style=\"text-align: right;\">\n",
       "      <th></th>\n",
       "      <th>comment</th>\n",
       "      <th>bookname</th>\n",
       "      <th>bookID</th>\n",
       "    </tr>\n",
       "  </thead>\n",
       "  <tbody>\n",
       "    <tr>\n",
       "      <th>0</th>\n",
       "      <td>[اسم, کتاب, No, one, writes, to, the, Colonel,...</td>\n",
       "      <td>[سرهنگ, کسی, ندارد, برایش, نامه, بنویسد]</td>\n",
       "      <td>3.0</td>\n",
       "    </tr>\n",
       "    <tr>\n",
       "      <th>1</th>\n",
       "      <td>[طاقچه, عزیز, نام, کتاب, کسی, به, سرهنگ, نامه,...</td>\n",
       "      <td>[سرهنگ, کسی, ندارد, برایش, نامه, بنویسد]</td>\n",
       "      <td>3.0</td>\n",
       "    </tr>\n",
       "    <tr>\n",
       "      <th>2</th>\n",
       "      <td>[بنظرم, این, اثر, مارکز, خیلی, از, صد, سال, تن...</td>\n",
       "      <td>[سرهنگ, کسی, ندارد, برایش, نامه, بنویسد]</td>\n",
       "      <td>3.0</td>\n",
       "    </tr>\n",
       "    <tr>\n",
       "      <th>3</th>\n",
       "      <td>[به, نظر, کتاب, خوبی, میومد, اما, من, از, ترجم...</td>\n",
       "      <td>[سرهنگ, کسی, ندارد, برایش, نامه, بنویسد]</td>\n",
       "      <td>3.0</td>\n",
       "    </tr>\n",
       "    <tr>\n",
       "      <th>4</th>\n",
       "      <td>[کتاب, خوبی, است]</td>\n",
       "      <td>[سرهنگ, کسی, ندارد, برایش, نامه, بنویسد]</td>\n",
       "      <td>3.0</td>\n",
       "    </tr>\n",
       "  </tbody>\n",
       "</table>\n",
       "</div>"
      ]
     },
     "execution_count": 313,
     "metadata": {},
     "output_type": "execute_result"
    }
   ],
   "execution_count": 313
  },
  {
   "metadata": {},
   "cell_type": "markdown",
   "source": "## preprocessing crawled data (books_data_part_*.csv)",
   "id": "19cc4838b56da980"
  },
  {
   "metadata": {
    "ExecuteTime": {
     "end_time": "2024-07-11T13:33:28.614177Z",
     "start_time": "2024-07-11T13:33:27.357658Z"
    }
   },
   "cell_type": "code",
   "source": [
    "ALL_PARTS_LEN = 19\n",
    "crawled_data: pd.DataFrame = pd.read_csv(url + 'datasets/books data/books_data_part_1.csv')\n",
    "for i in range(2, ALL_PARTS_LEN + 1):\n",
    "    crawled_data = pd.concat([crawled_data, pd.read_csv(url + f'datasets/books data/books_data_part_{i}.csv')],\n",
    "                             ignore_index=True)"
   ],
   "id": "ddb3e98c34282776",
   "outputs": [],
   "execution_count": 314
  },
  {
   "metadata": {
    "ExecuteTime": {
     "end_time": "2024-07-11T13:33:28.880251Z",
     "start_time": "2024-07-11T13:33:28.618323Z"
    }
   },
   "cell_type": "code",
   "source": [
    "# sort authors in order to drop duplicates\n",
    "new_author_function = lambda x: ' $ '.join(sorted(str(x).split(' $ ')))\n",
    "crawled_data['author'] = crawled_data['author'].apply(new_author_function)"
   ],
   "id": "9fca1a1b98601fb2",
   "outputs": [],
   "execution_count": 315
  },
  {
   "metadata": {
    "ExecuteTime": {
     "end_time": "2024-07-11T13:33:29.185750Z",
     "start_time": "2024-07-11T13:33:28.913630Z"
    }
   },
   "cell_type": "code",
   "source": [
    "before_dropping = len(crawled_data)\n",
    "crawled_data = crawled_data.drop_duplicates()\n",
    "print(f'Dropped {before_dropping - len(crawled_data)} duplicates.')"
   ],
   "id": "542c164cfa0c2a69",
   "outputs": [
    {
     "name": "stdout",
     "output_type": "stream",
     "text": [
      "Dropped 4 duplicates.\n"
     ]
    }
   ],
   "execution_count": 316
  },
  {
   "metadata": {
    "ExecuteTime": {
     "end_time": "2024-07-11T13:33:29.219580Z",
     "start_time": "2024-07-11T13:33:29.188243Z"
    }
   },
   "cell_type": "code",
   "source": [
    "before_dropping = len(crawled_data)\n",
    "crawled_data = crawled_data.dropna(subset=['id'])\n",
    "print(f'Dropped {before_dropping - len(crawled_data)} rows with NaN id.')"
   ],
   "id": "98625c67edad772a",
   "outputs": [
    {
     "name": "stdout",
     "output_type": "stream",
     "text": [
      "Dropped 1 rows with NaN id.\n"
     ]
    }
   ],
   "execution_count": 317
  },
  {
   "metadata": {
    "ExecuteTime": {
     "end_time": "2024-07-11T13:33:29.533107Z",
     "start_time": "2024-07-11T13:33:29.243261Z"
    }
   },
   "cell_type": "code",
   "source": [
    "new_author_function = lambda x: set(x.split(' $ '))\n",
    "crawled_data['author'] = crawled_data['author'].apply(new_author_function)"
   ],
   "id": "ff1ac4627815bd4d",
   "outputs": [],
   "execution_count": 318
  },
  {
   "metadata": {
    "ExecuteTime": {
     "end_time": "2024-07-11T13:33:30.088303Z",
     "start_time": "2024-07-11T13:33:29.540522Z"
    }
   },
   "cell_type": "code",
   "source": [
    "# convert each author to an independent row\n",
    "# because I want to find each author independently in the comments\n",
    "crawled_data = crawled_data.explode('author')\n",
    "crawled_data = crawled_data.reset_index(drop=True)"
   ],
   "id": "9b990dab3438e35a",
   "outputs": [],
   "execution_count": 319
  },
  {
   "metadata": {
    "ExecuteTime": {
     "end_time": "2024-07-11T13:33:36.654222Z",
     "start_time": "2024-07-11T13:33:30.092021Z"
    }
   },
   "cell_type": "code",
   "source": [
    "for column in crawled_data.columns:\n",
    "    if column == 'id':\n",
    "        continue\n",
    "    \n",
    "    print(f'Column: {column}')\n",
    "    crawled_data[column] = crawled_data[column].progress_apply(elementary_preprocess)"
   ],
   "id": "da685cdb02c57667",
   "outputs": [
    {
     "name": "stdout",
     "output_type": "stream",
     "text": [
      "Column: name\n"
     ]
    },
    {
     "data": {
      "text/plain": [
       "  0%|          | 0/200574 [00:00<?, ?it/s]"
      ],
      "application/vnd.jupyter.widget-view+json": {
       "version_major": 2,
       "version_minor": 0,
       "model_id": "865fb93c2b6644f180c4c443427292f0"
      }
     },
     "metadata": {},
     "output_type": "display_data"
    },
    {
     "name": "stdout",
     "output_type": "stream",
     "text": [
      "Column: author\n"
     ]
    },
    {
     "data": {
      "text/plain": [
       "  0%|          | 0/200574 [00:00<?, ?it/s]"
      ],
      "application/vnd.jupyter.widget-view+json": {
       "version_major": 2,
       "version_minor": 0,
       "model_id": "0800e880775647cabbfa418b962337d3"
      }
     },
     "metadata": {},
     "output_type": "display_data"
    },
    {
     "name": "stdout",
     "output_type": "stream",
     "text": [
      "Column: translator\n"
     ]
    },
    {
     "data": {
      "text/plain": [
       "  0%|          | 0/200574 [00:00<?, ?it/s]"
      ],
      "application/vnd.jupyter.widget-view+json": {
       "version_major": 2,
       "version_minor": 0,
       "model_id": "fe8c4b8ab1dd4567bed2f77913dfd7b6"
      }
     },
     "metadata": {},
     "output_type": "display_data"
    },
    {
     "name": "stdout",
     "output_type": "stream",
     "text": [
      "Column: publisher\n"
     ]
    },
    {
     "data": {
      "text/plain": [
       "  0%|          | 0/200574 [00:00<?, ?it/s]"
      ],
      "application/vnd.jupyter.widget-view+json": {
       "version_major": 2,
       "version_minor": 0,
       "model_id": "551eb01421694234aa2880ed1199bcd8"
      }
     },
     "metadata": {},
     "output_type": "display_data"
    }
   ],
   "execution_count": 320
  },
  {
   "metadata": {
    "ExecuteTime": {
     "end_time": "2024-07-11T13:36:35.867705Z",
     "start_time": "2024-07-11T13:33:36.657499Z"
    }
   },
   "cell_type": "code",
   "source": [
    "for column in crawled_data.columns:\n",
    "    if column == 'id':\n",
    "        continue\n",
    "        \n",
    "    print(f'Column: {column}')\n",
    "    crawled_data[column] = crawled_data[column].progress_apply(higher_preprocess)"
   ],
   "id": "4e7c114cbe660b58",
   "outputs": [
    {
     "name": "stdout",
     "output_type": "stream",
     "text": [
      "Column: name\n"
     ]
    },
    {
     "data": {
      "text/plain": [
       "  0%|          | 0/200574 [00:00<?, ?it/s]"
      ],
      "application/vnd.jupyter.widget-view+json": {
       "version_major": 2,
       "version_minor": 0,
       "model_id": "e160404c7c1b45e9b49a8b64085fd869"
      }
     },
     "metadata": {},
     "output_type": "display_data"
    },
    {
     "name": "stdout",
     "output_type": "stream",
     "text": [
      "Column: author\n"
     ]
    },
    {
     "data": {
      "text/plain": [
       "  0%|          | 0/200574 [00:00<?, ?it/s]"
      ],
      "application/vnd.jupyter.widget-view+json": {
       "version_major": 2,
       "version_minor": 0,
       "model_id": "6f3b874ad4894db6961128b97f43fa31"
      }
     },
     "metadata": {},
     "output_type": "display_data"
    },
    {
     "name": "stdout",
     "output_type": "stream",
     "text": [
      "Column: translator\n"
     ]
    },
    {
     "data": {
      "text/plain": [
       "  0%|          | 0/200574 [00:00<?, ?it/s]"
      ],
      "application/vnd.jupyter.widget-view+json": {
       "version_major": 2,
       "version_minor": 0,
       "model_id": "df1b26100578445bb79418fa724a622a"
      }
     },
     "metadata": {},
     "output_type": "display_data"
    },
    {
     "name": "stdout",
     "output_type": "stream",
     "text": [
      "Column: publisher\n"
     ]
    },
    {
     "data": {
      "text/plain": [
       "  0%|          | 0/200574 [00:00<?, ?it/s]"
      ],
      "application/vnd.jupyter.widget-view+json": {
       "version_major": 2,
       "version_minor": 0,
       "model_id": "48a747e94cb44b44b731aa53cb011799"
      }
     },
     "metadata": {},
     "output_type": "display_data"
    }
   ],
   "execution_count": 321
  },
  {
   "metadata": {
    "ExecuteTime": {
     "end_time": "2024-07-11T13:36:35.873833Z",
     "start_time": "2024-07-11T13:36:35.870524Z"
    }
   },
   "cell_type": "code",
   "source": [
    "# crawled_data.to_csv('datasets/preprocessed/crawled_data.csv')\n",
    "# crawled_data = pd.read_csv('datasets/preprocessed/crawled_data.csv')"
   ],
   "id": "77988791459d1db",
   "outputs": [],
   "execution_count": 322
  },
  {
   "metadata": {
    "ExecuteTime": {
     "end_time": "2024-07-11T13:36:35.895341Z",
     "start_time": "2024-07-11T13:36:35.875710Z"
    }
   },
   "cell_type": "code",
   "source": "crawled_data.head()",
   "id": "cc7ff06613b1d25d",
   "outputs": [
    {
     "data": {
      "text/plain": [
       "         id                                             name  \\\n",
       "0     100.0    [هفت, گام, برای, شروع, موفق, یک, کسب, و, کار]   \n",
       "1    1000.0                                   [آرزوی, شهادت]   \n",
       "2   10000.0                  [شرق, ۱۳۹۵, سه‌شنبه, ۱۸, خرداد]   \n",
       "3  100000.0       [محمدعلی, فروغی, و, ساختارهای, نوین, مدنی]   \n",
       "4  100001.0  [روزنامه, سازندگی, شماره, ۹۵۷, ۲۲, خرداد, ۱۴۰۰]   \n",
       "\n",
       "                  author                   translator  \\\n",
       "0            [نعیم, ظفر]  [محسن, سحر, حاجیانی, بحریه]   \n",
       "1  [سید, اسماعیل, گوهری]                        [nan]   \n",
       "2                  [nan]                        [nan]   \n",
       "3      [علی‌اصغر, حقدار]                        [nan]   \n",
       "4                  [nan]                        [nan]   \n",
       "\n",
       "                           publisher  \n",
       "0  [انتشارات, سازمان, مدیریت, صنعتی]  \n",
       "1   [انتشارات, علمی, فرهنگی, الحیاة]  \n",
       "2                     [روزنامه, شرق]  \n",
       "3                   [انتشارات, کویر]  \n",
       "4                 [روزنامه, سازندگی]  "
      ],
      "text/html": [
       "<div>\n",
       "<style scoped>\n",
       "    .dataframe tbody tr th:only-of-type {\n",
       "        vertical-align: middle;\n",
       "    }\n",
       "\n",
       "    .dataframe tbody tr th {\n",
       "        vertical-align: top;\n",
       "    }\n",
       "\n",
       "    .dataframe thead th {\n",
       "        text-align: right;\n",
       "    }\n",
       "</style>\n",
       "<table border=\"1\" class=\"dataframe\">\n",
       "  <thead>\n",
       "    <tr style=\"text-align: right;\">\n",
       "      <th></th>\n",
       "      <th>id</th>\n",
       "      <th>name</th>\n",
       "      <th>author</th>\n",
       "      <th>translator</th>\n",
       "      <th>publisher</th>\n",
       "    </tr>\n",
       "  </thead>\n",
       "  <tbody>\n",
       "    <tr>\n",
       "      <th>0</th>\n",
       "      <td>100.0</td>\n",
       "      <td>[هفت, گام, برای, شروع, موفق, یک, کسب, و, کار]</td>\n",
       "      <td>[نعیم, ظفر]</td>\n",
       "      <td>[محسن, سحر, حاجیانی, بحریه]</td>\n",
       "      <td>[انتشارات, سازمان, مدیریت, صنعتی]</td>\n",
       "    </tr>\n",
       "    <tr>\n",
       "      <th>1</th>\n",
       "      <td>1000.0</td>\n",
       "      <td>[آرزوی, شهادت]</td>\n",
       "      <td>[سید, اسماعیل, گوهری]</td>\n",
       "      <td>[nan]</td>\n",
       "      <td>[انتشارات, علمی, فرهنگی, الحیاة]</td>\n",
       "    </tr>\n",
       "    <tr>\n",
       "      <th>2</th>\n",
       "      <td>10000.0</td>\n",
       "      <td>[شرق, ۱۳۹۵, سه‌شنبه, ۱۸, خرداد]</td>\n",
       "      <td>[nan]</td>\n",
       "      <td>[nan]</td>\n",
       "      <td>[روزنامه, شرق]</td>\n",
       "    </tr>\n",
       "    <tr>\n",
       "      <th>3</th>\n",
       "      <td>100000.0</td>\n",
       "      <td>[محمدعلی, فروغی, و, ساختارهای, نوین, مدنی]</td>\n",
       "      <td>[علی‌اصغر, حقدار]</td>\n",
       "      <td>[nan]</td>\n",
       "      <td>[انتشارات, کویر]</td>\n",
       "    </tr>\n",
       "    <tr>\n",
       "      <th>4</th>\n",
       "      <td>100001.0</td>\n",
       "      <td>[روزنامه, سازندگی, شماره, ۹۵۷, ۲۲, خرداد, ۱۴۰۰]</td>\n",
       "      <td>[nan]</td>\n",
       "      <td>[nan]</td>\n",
       "      <td>[روزنامه, سازندگی]</td>\n",
       "    </tr>\n",
       "  </tbody>\n",
       "</table>\n",
       "</div>"
      ]
     },
     "execution_count": 323,
     "metadata": {},
     "output_type": "execute_result"
    }
   ],
   "execution_count": 323
  },
  {
   "metadata": {},
   "cell_type": "markdown",
   "source": "## Merging prepared and crawled data",
   "id": "79281c7a1fff1b5e"
  },
  {
   "metadata": {
    "ExecuteTime": {
     "end_time": "2024-07-11T13:36:35.973680Z",
     "start_time": "2024-07-11T13:36:35.897456Z"
    }
   },
   "cell_type": "code",
   "source": [
    "data: pd.DataFrame = pd.merge(prepared_data, crawled_data, left_on='bookID', right_on='id')\n",
    "data = data.drop(columns=['bookID'])"
   ],
   "id": "9ed0ed01441c9608",
   "outputs": [],
   "execution_count": 324
  },
  {
   "metadata": {
    "ExecuteTime": {
     "end_time": "2024-07-11T13:36:35.995936Z",
     "start_time": "2024-07-11T13:36:35.975486Z"
    }
   },
   "cell_type": "code",
   "source": [
    "print(f'Prepared data: {len(prepared_data)}')\n",
    "print(f'Crawled data: {len(crawled_data)}')\n",
    "print(f'Merged data: {len(data)}')"
   ],
   "id": "2bf38c6a6e056e2f",
   "outputs": [
    {
     "name": "stdout",
     "output_type": "stream",
     "text": [
      "Prepared data: 69359\n",
      "Crawled data: 200574\n",
      "Merged data: 74386\n"
     ]
    },
    {
     "data": {
      "text/plain": [
       "                                             comment  \\\n",
       "0  [اسم, کتاب, No, one, writes, to, the, Colonel,...   \n",
       "1  [طاقچه, عزیز, نام, کتاب, کسی, به, سرهنگ, نامه,...   \n",
       "2  [بنظرم, این, اثر, مارکز, خیلی, از, صد, سال, تن...   \n",
       "3  [به, نظر, کتاب, خوبی, میومد, اما, من, از, ترجم...   \n",
       "4                                  [کتاب, خوبی, است]   \n",
       "\n",
       "                                   bookname   id  \\\n",
       "0  [سرهنگ, کسی, ندارد, برایش, نامه, بنویسد]  3.0   \n",
       "1  [سرهنگ, کسی, ندارد, برایش, نامه, بنویسد]  3.0   \n",
       "2  [سرهنگ, کسی, ندارد, برایش, نامه, بنویسد]  3.0   \n",
       "3  [سرهنگ, کسی, ندارد, برایش, نامه, بنویسد]  3.0   \n",
       "4  [سرهنگ, کسی, ندارد, برایش, نامه, بنویسد]  3.0   \n",
       "\n",
       "                                       name                   author  \\\n",
       "0  [سرهنگ, کسی, ندارد, برایش, نامه, بنویسد]  [گابریل, گارسیا, مارکز]   \n",
       "1  [سرهنگ, کسی, ندارد, برایش, نامه, بنویسد]  [گابریل, گارسیا, مارکز]   \n",
       "2  [سرهنگ, کسی, ندارد, برایش, نامه, بنویسد]  [گابریل, گارسیا, مارکز]   \n",
       "3  [سرهنگ, کسی, ندارد, برایش, نامه, بنویسد]  [گابریل, گارسیا, مارکز]   \n",
       "4  [سرهنگ, کسی, ندارد, برایش, نامه, بنویسد]  [گابریل, گارسیا, مارکز]   \n",
       "\n",
       "        translator                          publisher  \n",
       "0  [نازنین, نوذری]  [موسسه, فرهنگی, هنری, نوروز, هنر]  \n",
       "1  [نازنین, نوذری]  [موسسه, فرهنگی, هنری, نوروز, هنر]  \n",
       "2  [نازنین, نوذری]  [موسسه, فرهنگی, هنری, نوروز, هنر]  \n",
       "3  [نازنین, نوذری]  [موسسه, فرهنگی, هنری, نوروز, هنر]  \n",
       "4  [نازنین, نوذری]  [موسسه, فرهنگی, هنری, نوروز, هنر]  "
      ],
      "text/html": [
       "<div>\n",
       "<style scoped>\n",
       "    .dataframe tbody tr th:only-of-type {\n",
       "        vertical-align: middle;\n",
       "    }\n",
       "\n",
       "    .dataframe tbody tr th {\n",
       "        vertical-align: top;\n",
       "    }\n",
       "\n",
       "    .dataframe thead th {\n",
       "        text-align: right;\n",
       "    }\n",
       "</style>\n",
       "<table border=\"1\" class=\"dataframe\">\n",
       "  <thead>\n",
       "    <tr style=\"text-align: right;\">\n",
       "      <th></th>\n",
       "      <th>comment</th>\n",
       "      <th>bookname</th>\n",
       "      <th>id</th>\n",
       "      <th>name</th>\n",
       "      <th>author</th>\n",
       "      <th>translator</th>\n",
       "      <th>publisher</th>\n",
       "    </tr>\n",
       "  </thead>\n",
       "  <tbody>\n",
       "    <tr>\n",
       "      <th>0</th>\n",
       "      <td>[اسم, کتاب, No, one, writes, to, the, Colonel,...</td>\n",
       "      <td>[سرهنگ, کسی, ندارد, برایش, نامه, بنویسد]</td>\n",
       "      <td>3.0</td>\n",
       "      <td>[سرهنگ, کسی, ندارد, برایش, نامه, بنویسد]</td>\n",
       "      <td>[گابریل, گارسیا, مارکز]</td>\n",
       "      <td>[نازنین, نوذری]</td>\n",
       "      <td>[موسسه, فرهنگی, هنری, نوروز, هنر]</td>\n",
       "    </tr>\n",
       "    <tr>\n",
       "      <th>1</th>\n",
       "      <td>[طاقچه, عزیز, نام, کتاب, کسی, به, سرهنگ, نامه,...</td>\n",
       "      <td>[سرهنگ, کسی, ندارد, برایش, نامه, بنویسد]</td>\n",
       "      <td>3.0</td>\n",
       "      <td>[سرهنگ, کسی, ندارد, برایش, نامه, بنویسد]</td>\n",
       "      <td>[گابریل, گارسیا, مارکز]</td>\n",
       "      <td>[نازنین, نوذری]</td>\n",
       "      <td>[موسسه, فرهنگی, هنری, نوروز, هنر]</td>\n",
       "    </tr>\n",
       "    <tr>\n",
       "      <th>2</th>\n",
       "      <td>[بنظرم, این, اثر, مارکز, خیلی, از, صد, سال, تن...</td>\n",
       "      <td>[سرهنگ, کسی, ندارد, برایش, نامه, بنویسد]</td>\n",
       "      <td>3.0</td>\n",
       "      <td>[سرهنگ, کسی, ندارد, برایش, نامه, بنویسد]</td>\n",
       "      <td>[گابریل, گارسیا, مارکز]</td>\n",
       "      <td>[نازنین, نوذری]</td>\n",
       "      <td>[موسسه, فرهنگی, هنری, نوروز, هنر]</td>\n",
       "    </tr>\n",
       "    <tr>\n",
       "      <th>3</th>\n",
       "      <td>[به, نظر, کتاب, خوبی, میومد, اما, من, از, ترجم...</td>\n",
       "      <td>[سرهنگ, کسی, ندارد, برایش, نامه, بنویسد]</td>\n",
       "      <td>3.0</td>\n",
       "      <td>[سرهنگ, کسی, ندارد, برایش, نامه, بنویسد]</td>\n",
       "      <td>[گابریل, گارسیا, مارکز]</td>\n",
       "      <td>[نازنین, نوذری]</td>\n",
       "      <td>[موسسه, فرهنگی, هنری, نوروز, هنر]</td>\n",
       "    </tr>\n",
       "    <tr>\n",
       "      <th>4</th>\n",
       "      <td>[کتاب, خوبی, است]</td>\n",
       "      <td>[سرهنگ, کسی, ندارد, برایش, نامه, بنویسد]</td>\n",
       "      <td>3.0</td>\n",
       "      <td>[سرهنگ, کسی, ندارد, برایش, نامه, بنویسد]</td>\n",
       "      <td>[گابریل, گارسیا, مارکز]</td>\n",
       "      <td>[نازنین, نوذری]</td>\n",
       "      <td>[موسسه, فرهنگی, هنری, نوروز, هنر]</td>\n",
       "    </tr>\n",
       "  </tbody>\n",
       "</table>\n",
       "</div>"
      ]
     },
     "execution_count": 325,
     "metadata": {},
     "output_type": "execute_result"
    }
   ],
   "execution_count": 325
  },
  {
   "metadata": {},
   "cell_type": "code",
   "outputs": [],
   "execution_count": null,
   "source": "data.head()",
   "id": "c9ccf7f5676f5f9f"
  },
  {
   "metadata": {
    "ExecuteTime": {
     "end_time": "2024-07-11T13:36:36.000770Z",
     "start_time": "2024-07-11T13:36:35.997547Z"
    }
   },
   "cell_type": "code",
   "source": [
    "# data.to_csv('datasets/preprocessed/data.csv')\n",
    "# data = pd.read_csv('datasets/preprocessed/data.csv')"
   ],
   "id": "918c08b69b70325a",
   "outputs": [],
   "execution_count": 326
  },
  {
   "metadata": {
    "ExecuteTime": {
     "end_time": "2024-07-11T13:36:36.065488Z",
     "start_time": "2024-07-11T13:36:36.002945Z"
    }
   },
   "cell_type": "code",
   "source": [
    "crawled_books = set(crawled_data['id'].values)\n",
    "prepared_books = prepared_data[['bookID']].copy()\n",
    "\n",
    "unavailable_books = prepared_books[~prepared_books['bookID'].apply(lambda x: x in crawled_books)]\n",
    "unavailable_books = unavailable_books.drop_duplicates()\n",
    "print(f'Unavailable books (The page has 404 error): {len(unavailable_books)}')\n",
    "unavailable_books"
   ],
   "id": "2c4ba25b104a2188",
   "outputs": [
    {
     "name": "stdout",
     "output_type": "stream",
     "text": [
      "Unavailable books (The page has 404 error): 10\n"
     ]
    },
    {
     "data": {
      "text/plain": [
       "        bookID\n",
       "7458       1.0\n",
       "7682       2.0\n",
       "21944      0.0\n",
       "26052      7.0\n",
       "30150      6.0\n",
       "41373     10.0\n",
       "49272      4.0\n",
       "52089  30658.0\n",
       "52636  30925.0\n",
       "58179  38430.0"
      ],
      "text/html": [
       "<div>\n",
       "<style scoped>\n",
       "    .dataframe tbody tr th:only-of-type {\n",
       "        vertical-align: middle;\n",
       "    }\n",
       "\n",
       "    .dataframe tbody tr th {\n",
       "        vertical-align: top;\n",
       "    }\n",
       "\n",
       "    .dataframe thead th {\n",
       "        text-align: right;\n",
       "    }\n",
       "</style>\n",
       "<table border=\"1\" class=\"dataframe\">\n",
       "  <thead>\n",
       "    <tr style=\"text-align: right;\">\n",
       "      <th></th>\n",
       "      <th>bookID</th>\n",
       "    </tr>\n",
       "  </thead>\n",
       "  <tbody>\n",
       "    <tr>\n",
       "      <th>7458</th>\n",
       "      <td>1.0</td>\n",
       "    </tr>\n",
       "    <tr>\n",
       "      <th>7682</th>\n",
       "      <td>2.0</td>\n",
       "    </tr>\n",
       "    <tr>\n",
       "      <th>21944</th>\n",
       "      <td>0.0</td>\n",
       "    </tr>\n",
       "    <tr>\n",
       "      <th>26052</th>\n",
       "      <td>7.0</td>\n",
       "    </tr>\n",
       "    <tr>\n",
       "      <th>30150</th>\n",
       "      <td>6.0</td>\n",
       "    </tr>\n",
       "    <tr>\n",
       "      <th>41373</th>\n",
       "      <td>10.0</td>\n",
       "    </tr>\n",
       "    <tr>\n",
       "      <th>49272</th>\n",
       "      <td>4.0</td>\n",
       "    </tr>\n",
       "    <tr>\n",
       "      <th>52089</th>\n",
       "      <td>30658.0</td>\n",
       "    </tr>\n",
       "    <tr>\n",
       "      <th>52636</th>\n",
       "      <td>30925.0</td>\n",
       "    </tr>\n",
       "    <tr>\n",
       "      <th>58179</th>\n",
       "      <td>38430.0</td>\n",
       "    </tr>\n",
       "  </tbody>\n",
       "</table>\n",
       "</div>"
      ]
     },
     "execution_count": 327,
     "metadata": {},
     "output_type": "execute_result"
    }
   ],
   "execution_count": 327
  },
  {
   "metadata": {
    "ExecuteTime": {
     "end_time": "2024-07-11T13:36:36.074141Z",
     "start_time": "2024-07-11T13:36:36.067665Z"
    }
   },
   "cell_type": "code",
   "source": [
    "with open('unavailable_books_list.txt', 'w', encoding='utf-8') as file:\n",
    "    unavailable_books_list = unavailable_books['bookID'].values.flatten()\n",
    "    unavailable_books_list = unavailable_books_list[~np.isnan(unavailable_books_list)]\n",
    "    unavailable_books_list = unavailable_books_list.astype(int)\n",
    "    unavailable_books_list = unavailable_books_list.tolist()\n",
    "    unavailable_books_list = sorted(list(set(unavailable_books_list)))\n",
    "    file.write(str(unavailable_books_list))"
   ],
   "id": "9fba6d818202b7f5",
   "outputs": [],
   "execution_count": 328
  },
  {
   "metadata": {},
   "cell_type": "markdown",
   "source": "# Labeling",
   "id": "280620f9fb070b1a"
  },
  {
   "metadata": {
    "ExecuteTime": {
     "end_time": "2024-07-11T13:36:36.133207Z",
     "start_time": "2024-07-11T13:36:36.076156Z"
    }
   },
   "cell_type": "code",
   "source": [
    "labeled_data = data.copy()\n",
    "labeled_data['label'] = [[0]] * len(labeled_data)\n",
    "labeled_data.head()"
   ],
   "id": "fe44b9919ee2a11b",
   "outputs": [
    {
     "data": {
      "text/plain": [
       "                                             comment  \\\n",
       "0  [اسم, کتاب, No, one, writes, to, the, Colonel,...   \n",
       "1  [طاقچه, عزیز, نام, کتاب, کسی, به, سرهنگ, نامه,...   \n",
       "2  [بنظرم, این, اثر, مارکز, خیلی, از, صد, سال, تن...   \n",
       "3  [به, نظر, کتاب, خوبی, میومد, اما, من, از, ترجم...   \n",
       "4                                  [کتاب, خوبی, است]   \n",
       "\n",
       "                                   bookname   id  \\\n",
       "0  [سرهنگ, کسی, ندارد, برایش, نامه, بنویسد]  3.0   \n",
       "1  [سرهنگ, کسی, ندارد, برایش, نامه, بنویسد]  3.0   \n",
       "2  [سرهنگ, کسی, ندارد, برایش, نامه, بنویسد]  3.0   \n",
       "3  [سرهنگ, کسی, ندارد, برایش, نامه, بنویسد]  3.0   \n",
       "4  [سرهنگ, کسی, ندارد, برایش, نامه, بنویسد]  3.0   \n",
       "\n",
       "                                       name                   author  \\\n",
       "0  [سرهنگ, کسی, ندارد, برایش, نامه, بنویسد]  [گابریل, گارسیا, مارکز]   \n",
       "1  [سرهنگ, کسی, ندارد, برایش, نامه, بنویسد]  [گابریل, گارسیا, مارکز]   \n",
       "2  [سرهنگ, کسی, ندارد, برایش, نامه, بنویسد]  [گابریل, گارسیا, مارکز]   \n",
       "3  [سرهنگ, کسی, ندارد, برایش, نامه, بنویسد]  [گابریل, گارسیا, مارکز]   \n",
       "4  [سرهنگ, کسی, ندارد, برایش, نامه, بنویسد]  [گابریل, گارسیا, مارکز]   \n",
       "\n",
       "        translator                          publisher label  \n",
       "0  [نازنین, نوذری]  [موسسه, فرهنگی, هنری, نوروز, هنر]   [0]  \n",
       "1  [نازنین, نوذری]  [موسسه, فرهنگی, هنری, نوروز, هنر]   [0]  \n",
       "2  [نازنین, نوذری]  [موسسه, فرهنگی, هنری, نوروز, هنر]   [0]  \n",
       "3  [نازنین, نوذری]  [موسسه, فرهنگی, هنری, نوروز, هنر]   [0]  \n",
       "4  [نازنین, نوذری]  [موسسه, فرهنگی, هنری, نوروز, هنر]   [0]  "
      ],
      "text/html": [
       "<div>\n",
       "<style scoped>\n",
       "    .dataframe tbody tr th:only-of-type {\n",
       "        vertical-align: middle;\n",
       "    }\n",
       "\n",
       "    .dataframe tbody tr th {\n",
       "        vertical-align: top;\n",
       "    }\n",
       "\n",
       "    .dataframe thead th {\n",
       "        text-align: right;\n",
       "    }\n",
       "</style>\n",
       "<table border=\"1\" class=\"dataframe\">\n",
       "  <thead>\n",
       "    <tr style=\"text-align: right;\">\n",
       "      <th></th>\n",
       "      <th>comment</th>\n",
       "      <th>bookname</th>\n",
       "      <th>id</th>\n",
       "      <th>name</th>\n",
       "      <th>author</th>\n",
       "      <th>translator</th>\n",
       "      <th>publisher</th>\n",
       "      <th>label</th>\n",
       "    </tr>\n",
       "  </thead>\n",
       "  <tbody>\n",
       "    <tr>\n",
       "      <th>0</th>\n",
       "      <td>[اسم, کتاب, No, one, writes, to, the, Colonel,...</td>\n",
       "      <td>[سرهنگ, کسی, ندارد, برایش, نامه, بنویسد]</td>\n",
       "      <td>3.0</td>\n",
       "      <td>[سرهنگ, کسی, ندارد, برایش, نامه, بنویسد]</td>\n",
       "      <td>[گابریل, گارسیا, مارکز]</td>\n",
       "      <td>[نازنین, نوذری]</td>\n",
       "      <td>[موسسه, فرهنگی, هنری, نوروز, هنر]</td>\n",
       "      <td>[0]</td>\n",
       "    </tr>\n",
       "    <tr>\n",
       "      <th>1</th>\n",
       "      <td>[طاقچه, عزیز, نام, کتاب, کسی, به, سرهنگ, نامه,...</td>\n",
       "      <td>[سرهنگ, کسی, ندارد, برایش, نامه, بنویسد]</td>\n",
       "      <td>3.0</td>\n",
       "      <td>[سرهنگ, کسی, ندارد, برایش, نامه, بنویسد]</td>\n",
       "      <td>[گابریل, گارسیا, مارکز]</td>\n",
       "      <td>[نازنین, نوذری]</td>\n",
       "      <td>[موسسه, فرهنگی, هنری, نوروز, هنر]</td>\n",
       "      <td>[0]</td>\n",
       "    </tr>\n",
       "    <tr>\n",
       "      <th>2</th>\n",
       "      <td>[بنظرم, این, اثر, مارکز, خیلی, از, صد, سال, تن...</td>\n",
       "      <td>[سرهنگ, کسی, ندارد, برایش, نامه, بنویسد]</td>\n",
       "      <td>3.0</td>\n",
       "      <td>[سرهنگ, کسی, ندارد, برایش, نامه, بنویسد]</td>\n",
       "      <td>[گابریل, گارسیا, مارکز]</td>\n",
       "      <td>[نازنین, نوذری]</td>\n",
       "      <td>[موسسه, فرهنگی, هنری, نوروز, هنر]</td>\n",
       "      <td>[0]</td>\n",
       "    </tr>\n",
       "    <tr>\n",
       "      <th>3</th>\n",
       "      <td>[به, نظر, کتاب, خوبی, میومد, اما, من, از, ترجم...</td>\n",
       "      <td>[سرهنگ, کسی, ندارد, برایش, نامه, بنویسد]</td>\n",
       "      <td>3.0</td>\n",
       "      <td>[سرهنگ, کسی, ندارد, برایش, نامه, بنویسد]</td>\n",
       "      <td>[گابریل, گارسیا, مارکز]</td>\n",
       "      <td>[نازنین, نوذری]</td>\n",
       "      <td>[موسسه, فرهنگی, هنری, نوروز, هنر]</td>\n",
       "      <td>[0]</td>\n",
       "    </tr>\n",
       "    <tr>\n",
       "      <th>4</th>\n",
       "      <td>[کتاب, خوبی, است]</td>\n",
       "      <td>[سرهنگ, کسی, ندارد, برایش, نامه, بنویسد]</td>\n",
       "      <td>3.0</td>\n",
       "      <td>[سرهنگ, کسی, ندارد, برایش, نامه, بنویسد]</td>\n",
       "      <td>[گابریل, گارسیا, مارکز]</td>\n",
       "      <td>[نازنین, نوذری]</td>\n",
       "      <td>[موسسه, فرهنگی, هنری, نوروز, هنر]</td>\n",
       "      <td>[0]</td>\n",
       "    </tr>\n",
       "  </tbody>\n",
       "</table>\n",
       "</div>"
      ]
     },
     "execution_count": 329,
     "metadata": {},
     "output_type": "execute_result"
    }
   ],
   "execution_count": 329
  },
  {
   "metadata": {
    "ExecuteTime": {
     "end_time": "2024-07-11T13:36:36.138756Z",
     "start_time": "2024-07-11T13:36:36.135141Z"
    }
   },
   "cell_type": "code",
   "source": "tags = ['name', 'author', 'translator', 'publisher']",
   "id": "b3c1e82f4a25fb15",
   "outputs": [],
   "execution_count": 330
  },
  {
   "metadata": {
    "ExecuteTime": {
     "end_time": "2024-07-11T13:36:36.161231Z",
     "start_time": "2024-07-11T13:36:36.140952Z"
    }
   },
   "cell_type": "code",
   "source": [
    "def get_label(tag):\n",
    "    if tag == 'name':\n",
    "        return 'Book'\n",
    "    elif tag == 'author':\n",
    "        return 'Author'\n",
    "    elif tag == 'translator':\n",
    "        return 'Translator'\n",
    "    elif tag == 'publisher':\n",
    "        return 'Publisher'\n",
    "    else:\n",
    "        return None\n",
    "\n",
    "\n",
    "def convert_index_to_label(index, tag):\n",
    "    labels = []\n",
    "\n",
    "    for i in range(len(index)):\n",
    "        if index[i] == -1:\n",
    "            labels.append('O')\n",
    "        else:\n",
    "            if i == 0 or index[i - 1] == -1 or index[i] - index[i - 1] != 1:\n",
    "                labels.append(f'B-{get_label(tag)}')\n",
    "            else:\n",
    "                labels.append(f'I-{get_label(tag)}')\n",
    "\n",
    "    return labels\n",
    "\n",
    "\n",
    "def combine_labels(labels):\n",
    "    global tags\n",
    "\n",
    "    result = []\n",
    "\n",
    "    for i in range(len(labels[tags[0]])):\n",
    "        name = labels[tags[0]][i] if len(labels[tags[0]]) > 0 else 'O'\n",
    "        author = labels[tags[1]][i] if len(labels[tags[1]]) > 0 else 'O'\n",
    "        translator = labels[tags[2]][i] if len(labels[tags[2]]) > 0 else 'O'\n",
    "        publisher = labels[tags[3]][i] if len(labels[tags[3]]) > 0 else 'O'\n",
    "\n",
    "        if name != 'O':\n",
    "            result.append(name)\n",
    "        elif author != 'O':\n",
    "            result.append(author)\n",
    "        elif translator != 'O':\n",
    "            result.append(translator)\n",
    "        elif publisher != 'O':\n",
    "            result.append(publisher)\n",
    "        else:\n",
    "            result.append('O')\n",
    "\n",
    "    return result\n",
    "\n",
    "\n",
    "def get_labels(row):\n",
    "    indexes = {\n",
    "        tag: []\n",
    "        for tag in tags\n",
    "    }\n",
    "    labels = {\n",
    "        tag: []\n",
    "        for tag in tags\n",
    "    }\n",
    "\n",
    "    for tag in tags:\n",
    "        cell = row[tag]\n",
    "        if cell == {np.nan}:\n",
    "            continue\n",
    "\n",
    "        filled_indexes = set()\n",
    "        for word in row['comment']:\n",
    "            try:\n",
    "                current_index = cell.index(word)\n",
    "                if current_index in filled_indexes:\n",
    "                    raise ValueError\n",
    "                indexes[tag].append(current_index)\n",
    "                filled_indexes.add(current_index)\n",
    "            except ValueError:\n",
    "                indexes[tag].append(-1)\n",
    "\n",
    "        labels[tag] = convert_index_to_label(indexes[tag], tag)\n",
    "\n",
    "    return combine_labels(labels)"
   ],
   "id": "dc1455794ce1b8b7",
   "outputs": [],
   "execution_count": 331
  },
  {
   "metadata": {
    "ExecuteTime": {
     "end_time": "2024-07-11T13:36:49.347038Z",
     "start_time": "2024-07-11T13:36:36.163086Z"
    }
   },
   "cell_type": "code",
   "source": "labeled_data['label'] = labeled_data.progress_apply(get_labels, axis=1)",
   "id": "fa75f6245ae38e38",
   "outputs": [
    {
     "data": {
      "text/plain": [
       "  0%|          | 0/74386 [00:00<?, ?it/s]"
      ],
      "application/vnd.jupyter.widget-view+json": {
       "version_major": 2,
       "version_minor": 0,
       "model_id": "e18732bf45ec46c0a3b23ebf9526597f"
      }
     },
     "metadata": {},
     "output_type": "display_data"
    }
   ],
   "execution_count": 332
  },
  {
   "metadata": {
    "ExecuteTime": {
     "end_time": "2024-07-11T13:36:49.352286Z",
     "start_time": "2024-07-11T13:36:49.349071Z"
    }
   },
   "cell_type": "code",
   "source": [
    "# labeled_data.to_csv('datasets/preprocessed/labeled_data.csv', index=False)\n",
    "# labeled_data = pd.read_csv('datasets/preprocessed/labeled_data.csv')"
   ],
   "id": "d45b2df7bb810d7a",
   "outputs": [],
   "execution_count": 333
  },
  {
   "metadata": {
    "ExecuteTime": {
     "end_time": "2024-07-11T13:36:49.389559Z",
     "start_time": "2024-07-11T13:36:49.366595Z"
    }
   },
   "cell_type": "code",
   "source": "labeled_data.head()",
   "id": "787b016063d4d232",
   "outputs": [
    {
     "data": {
      "text/plain": [
       "                                             comment  \\\n",
       "0  [اسم, کتاب, No, one, writes, to, the, Colonel,...   \n",
       "1  [طاقچه, عزیز, نام, کتاب, کسی, به, سرهنگ, نامه,...   \n",
       "2  [بنظرم, این, اثر, مارکز, خیلی, از, صد, سال, تن...   \n",
       "3  [به, نظر, کتاب, خوبی, میومد, اما, من, از, ترجم...   \n",
       "4                                  [کتاب, خوبی, است]   \n",
       "\n",
       "                                   bookname   id  \\\n",
       "0  [سرهنگ, کسی, ندارد, برایش, نامه, بنویسد]  3.0   \n",
       "1  [سرهنگ, کسی, ندارد, برایش, نامه, بنویسد]  3.0   \n",
       "2  [سرهنگ, کسی, ندارد, برایش, نامه, بنویسد]  3.0   \n",
       "3  [سرهنگ, کسی, ندارد, برایش, نامه, بنویسد]  3.0   \n",
       "4  [سرهنگ, کسی, ندارد, برایش, نامه, بنویسد]  3.0   \n",
       "\n",
       "                                       name                   author  \\\n",
       "0  [سرهنگ, کسی, ندارد, برایش, نامه, بنویسد]  [گابریل, گارسیا, مارکز]   \n",
       "1  [سرهنگ, کسی, ندارد, برایش, نامه, بنویسد]  [گابریل, گارسیا, مارکز]   \n",
       "2  [سرهنگ, کسی, ندارد, برایش, نامه, بنویسد]  [گابریل, گارسیا, مارکز]   \n",
       "3  [سرهنگ, کسی, ندارد, برایش, نامه, بنویسد]  [گابریل, گارسیا, مارکز]   \n",
       "4  [سرهنگ, کسی, ندارد, برایش, نامه, بنویسد]  [گابریل, گارسیا, مارکز]   \n",
       "\n",
       "        translator                          publisher  \\\n",
       "0  [نازنین, نوذری]  [موسسه, فرهنگی, هنری, نوروز, هنر]   \n",
       "1  [نازنین, نوذری]  [موسسه, فرهنگی, هنری, نوروز, هنر]   \n",
       "2  [نازنین, نوذری]  [موسسه, فرهنگی, هنری, نوروز, هنر]   \n",
       "3  [نازنین, نوذری]  [موسسه, فرهنگی, هنری, نوروز, هنر]   \n",
       "4  [نازنین, نوذری]  [موسسه, فرهنگی, هنری, نوروز, هنر]   \n",
       "\n",
       "                                               label  \n",
       "0  [O, O, O, O, O, O, O, O, O, O, B-Book, O, B-Bo...  \n",
       "1  [O, O, O, O, B-Book, O, B-Book, B-Book, O, O, ...  \n",
       "2  [O, O, O, B-Author, O, O, O, O, O, O, O, O, O,...  \n",
       "3  [O, O, O, O, O, O, O, O, O, O, O, O, O, O, O, ...  \n",
       "4                                          [O, O, O]  "
      ],
      "text/html": [
       "<div>\n",
       "<style scoped>\n",
       "    .dataframe tbody tr th:only-of-type {\n",
       "        vertical-align: middle;\n",
       "    }\n",
       "\n",
       "    .dataframe tbody tr th {\n",
       "        vertical-align: top;\n",
       "    }\n",
       "\n",
       "    .dataframe thead th {\n",
       "        text-align: right;\n",
       "    }\n",
       "</style>\n",
       "<table border=\"1\" class=\"dataframe\">\n",
       "  <thead>\n",
       "    <tr style=\"text-align: right;\">\n",
       "      <th></th>\n",
       "      <th>comment</th>\n",
       "      <th>bookname</th>\n",
       "      <th>id</th>\n",
       "      <th>name</th>\n",
       "      <th>author</th>\n",
       "      <th>translator</th>\n",
       "      <th>publisher</th>\n",
       "      <th>label</th>\n",
       "    </tr>\n",
       "  </thead>\n",
       "  <tbody>\n",
       "    <tr>\n",
       "      <th>0</th>\n",
       "      <td>[اسم, کتاب, No, one, writes, to, the, Colonel,...</td>\n",
       "      <td>[سرهنگ, کسی, ندارد, برایش, نامه, بنویسد]</td>\n",
       "      <td>3.0</td>\n",
       "      <td>[سرهنگ, کسی, ندارد, برایش, نامه, بنویسد]</td>\n",
       "      <td>[گابریل, گارسیا, مارکز]</td>\n",
       "      <td>[نازنین, نوذری]</td>\n",
       "      <td>[موسسه, فرهنگی, هنری, نوروز, هنر]</td>\n",
       "      <td>[O, O, O, O, O, O, O, O, O, O, B-Book, O, B-Bo...</td>\n",
       "    </tr>\n",
       "    <tr>\n",
       "      <th>1</th>\n",
       "      <td>[طاقچه, عزیز, نام, کتاب, کسی, به, سرهنگ, نامه,...</td>\n",
       "      <td>[سرهنگ, کسی, ندارد, برایش, نامه, بنویسد]</td>\n",
       "      <td>3.0</td>\n",
       "      <td>[سرهنگ, کسی, ندارد, برایش, نامه, بنویسد]</td>\n",
       "      <td>[گابریل, گارسیا, مارکز]</td>\n",
       "      <td>[نازنین, نوذری]</td>\n",
       "      <td>[موسسه, فرهنگی, هنری, نوروز, هنر]</td>\n",
       "      <td>[O, O, O, O, B-Book, O, B-Book, B-Book, O, O, ...</td>\n",
       "    </tr>\n",
       "    <tr>\n",
       "      <th>2</th>\n",
       "      <td>[بنظرم, این, اثر, مارکز, خیلی, از, صد, سال, تن...</td>\n",
       "      <td>[سرهنگ, کسی, ندارد, برایش, نامه, بنویسد]</td>\n",
       "      <td>3.0</td>\n",
       "      <td>[سرهنگ, کسی, ندارد, برایش, نامه, بنویسد]</td>\n",
       "      <td>[گابریل, گارسیا, مارکز]</td>\n",
       "      <td>[نازنین, نوذری]</td>\n",
       "      <td>[موسسه, فرهنگی, هنری, نوروز, هنر]</td>\n",
       "      <td>[O, O, O, B-Author, O, O, O, O, O, O, O, O, O,...</td>\n",
       "    </tr>\n",
       "    <tr>\n",
       "      <th>3</th>\n",
       "      <td>[به, نظر, کتاب, خوبی, میومد, اما, من, از, ترجم...</td>\n",
       "      <td>[سرهنگ, کسی, ندارد, برایش, نامه, بنویسد]</td>\n",
       "      <td>3.0</td>\n",
       "      <td>[سرهنگ, کسی, ندارد, برایش, نامه, بنویسد]</td>\n",
       "      <td>[گابریل, گارسیا, مارکز]</td>\n",
       "      <td>[نازنین, نوذری]</td>\n",
       "      <td>[موسسه, فرهنگی, هنری, نوروز, هنر]</td>\n",
       "      <td>[O, O, O, O, O, O, O, O, O, O, O, O, O, O, O, ...</td>\n",
       "    </tr>\n",
       "    <tr>\n",
       "      <th>4</th>\n",
       "      <td>[کتاب, خوبی, است]</td>\n",
       "      <td>[سرهنگ, کسی, ندارد, برایش, نامه, بنویسد]</td>\n",
       "      <td>3.0</td>\n",
       "      <td>[سرهنگ, کسی, ندارد, برایش, نامه, بنویسد]</td>\n",
       "      <td>[گابریل, گارسیا, مارکز]</td>\n",
       "      <td>[نازنین, نوذری]</td>\n",
       "      <td>[موسسه, فرهنگی, هنری, نوروز, هنر]</td>\n",
       "      <td>[O, O, O]</td>\n",
       "    </tr>\n",
       "  </tbody>\n",
       "</table>\n",
       "</div>"
      ]
     },
     "execution_count": 334,
     "metadata": {},
     "output_type": "execute_result"
    }
   ],
   "execution_count": 334
  },
  {
   "metadata": {
    "ExecuteTime": {
     "end_time": "2024-07-12T00:38:52.820339Z",
     "start_time": "2024-07-12T00:38:52.811672Z"
    }
   },
   "cell_type": "code",
   "source": [
    "# percentage_of_o = [len([tag for tag in label if tag == 'O']) / len(label) for label in labeled_data['label']]\n",
    "# fig = px.histogram(percentage_of_o, title='Percentage of O in Each Label List Histogram')\n",
    "# fig.update_layout(showlegend=False)\n",
    "# fig.show()"
   ],
   "id": "b85ad99c61f6aeef",
   "outputs": [],
   "execution_count": 404
  },
  {
   "metadata": {},
   "cell_type": "code",
   "source": [
    "before_dropping = len(labeled_data)\n",
    "labeled_data = labeled_data[[percentage < 0.99 for percentage in percentage_of_o]]\n",
    "print(f'Dropped {before_dropping - len(labeled_data)} rows with more than 99% O.')\n",
    "print(f'New length: {len(labeled_data)}')"
   ],
   "id": "4d97c7190ca838ac",
   "outputs": [
    {
     "name": "stdout",
     "output_type": "stream",
     "text": [
      "Dropped 52894 rows with more than 99% O.\n",
      "New length: 21492\n"
     ]
    }
   ],
   "execution_count": 336
  },
  {
   "metadata": {
    "ExecuteTime": {
     "end_time": "2024-07-12T00:38:58.937586Z",
     "start_time": "2024-07-12T00:38:58.930520Z"
    }
   },
   "cell_type": "code",
   "source": [
    "# fig = px.histogram([tag for label in labeled_data['label'] for tag in label], title='Tag Distribution with O')\n",
    "# fig.update_layout(showlegend=False)\n",
    "# fig.show()"
   ],
   "id": "c5eca41fa4c4f300",
   "outputs": [],
   "execution_count": 405
  },
  {
   "metadata": {
    "ExecuteTime": {
     "end_time": "2024-07-12T00:39:03.490067Z",
     "start_time": "2024-07-12T00:39:03.479863Z"
    }
   },
   "cell_type": "code",
   "source": [
    "# fig = px.histogram([tag for label in labeled_data['label'] for tag in label if tag != 'O'], title='Tag Distribution without O')\n",
    "# fig.update_layout(showlegend=False)\n",
    "# fig.show()"
   ],
   "id": "ae82d469dc2f5684",
   "outputs": [],
   "execution_count": 406
  },
  {
   "metadata": {},
   "cell_type": "markdown",
   "source": "# Training The Model (LSTM)",
   "id": "5c9ff7839b8286ad"
  },
  {
   "metadata": {},
   "cell_type": "markdown",
   "source": "## Importing Libraries",
   "id": "2dbeb57c506230c4"
  },
  {
   "metadata": {},
   "cell_type": "code",
   "source": "# !pip install tensorflow livelossplot",
   "id": "1c75b229a0d43fe7",
   "outputs": [],
   "execution_count": 339
  },
  {
   "metadata": {},
   "cell_type": "code",
   "source": [
    "!mkdir logs\n",
    "!mkdir resources"
   ],
   "id": "ef491d864e507f4b",
   "outputs": [
    {
     "name": "stdout",
     "output_type": "stream",
     "text": [
      "mkdir: logs: File exists\r\n"
     ]
    }
   ],
   "execution_count": 340
  },
  {
   "metadata": {
    "ExecuteTime": {
     "end_time": "2024-07-11T13:54:03.520621Z",
     "start_time": "2024-07-11T13:54:03.381229Z"
    }
   },
   "cell_type": "code",
   "source": [
    "import tensorflow as tf\n",
    "from sklearn.model_selection import train_test_split\n",
    "from sklearn.preprocessing import LabelEncoder\n",
    "from sklearn.metrics import classification_report, confusion_matrix, accuracy_score, precision_score, recall_score, f1_score\n",
    "from tensorflow.keras.preprocessing.sequence import pad_sequences\n",
    "from tensorflow.keras.models import Sequential\n",
    "from tensorflow.keras.layers import Embedding, LSTM, Bidirectional, SpatialDropout1D, InputLayer\n",
    "from tensorflow.keras.callbacks import ModelCheckpoint, EarlyStopping, TensorBoard\n",
    "from livelossplot.tf_keras import PlotLossesCallback"
   ],
   "id": "692683cc1a387f7e",
   "outputs": [],
   "execution_count": 394
  },
  {
   "metadata": {},
   "cell_type": "code",
   "source": [
    "print('Tensorflow version:', tf.__version__)\n",
    "print('GPU detected:', tf.config.list_physical_devices('GPU'))"
   ],
   "id": "4c10eec4b9f455ea",
   "outputs": [
    {
     "name": "stdout",
     "output_type": "stream",
     "text": [
      "Tensorflow version: 2.13.1\n",
      "GPU detected: []\n"
     ]
    }
   ],
   "execution_count": 342
  },
  {
   "metadata": {},
   "cell_type": "markdown",
   "source": "## Exploring Data",
   "id": "ef44a6ca6ab7879e"
  },
  {
   "metadata": {
    "ExecuteTime": {
     "end_time": "2024-07-11T13:36:52.895466Z",
     "start_time": "2024-07-11T13:36:52.890495Z"
    }
   },
   "cell_type": "code",
   "source": "# labeled_data = pd.read_csv('datasets/preprocessed/labeled_data.csv')",
   "id": "ac8c76df797027cd",
   "outputs": [],
   "execution_count": 343
  },
  {
   "metadata": {
    "ExecuteTime": {
     "end_time": "2024-07-11T13:38:42.185214Z",
     "start_time": "2024-07-11T13:38:42.002277Z"
    }
   },
   "cell_type": "code",
   "source": [
    "words = list(set([word for comment in labeled_data['comment'] for word in comment]))\n",
    "words.append('STARTPAD')\n",
    "words_size = len(words)\n",
    "words_size"
   ],
   "id": "dd6650f18b8aeab8",
   "outputs": [
    {
     "data": {
      "text/plain": [
       "49137"
      ]
     },
     "execution_count": 369,
     "metadata": {},
     "output_type": "execute_result"
    }
   ],
   "execution_count": 369
  },
  {
   "metadata": {
    "ExecuteTime": {
     "end_time": "2024-07-11T13:38:43.818106Z",
     "start_time": "2024-07-11T13:38:43.775386Z"
    }
   },
   "cell_type": "code",
   "source": [
    "tags = sorted(list(set([tag for label in labeled_data['label'] for tag in label])))\n",
    "tags_size = len(tags)\n",
    "tags_size, tags"
   ],
   "id": "8ac989548ea87ece",
   "outputs": [
    {
     "data": {
      "text/plain": [
       "(9,\n",
       " ['B-Author',\n",
       "  'B-Book',\n",
       "  'B-Publisher',\n",
       "  'B-Translator',\n",
       "  'I-Author',\n",
       "  'I-Book',\n",
       "  'I-Publisher',\n",
       "  'I-Translator',\n",
       "  'O'])"
      ]
     },
     "execution_count": 370,
     "metadata": {},
     "output_type": "execute_result"
    }
   ],
   "execution_count": 370
  },
  {
   "metadata": {},
   "cell_type": "markdown",
   "source": "## Changing Data Format",
   "id": "14c8b6fbf2098398"
  },
  {
   "metadata": {
    "ExecuteTime": {
     "end_time": "2024-07-11T13:38:46.212801Z",
     "start_time": "2024-07-11T13:38:45.336722Z"
    }
   },
   "cell_type": "code",
   "source": [
    "sentences = labeled_data.progress_apply(\n",
    "    lambda row: [(word, label) for word, label in zip(row['comment'], row['label'])], axis=1)\n",
    "sentences = sentences.progress_apply(lambda sentence: sentence + [('STARTPAD', 'O')])"
   ],
   "id": "cbd6e14d512046bd",
   "outputs": [
    {
     "data": {
      "text/plain": [
       "  0%|          | 0/21492 [00:00<?, ?it/s]"
      ],
      "application/vnd.jupyter.widget-view+json": {
       "version_major": 2,
       "version_minor": 0,
       "model_id": "0317d5c8c3cc49818c2ccc592ff5465c"
      }
     },
     "metadata": {},
     "output_type": "display_data"
    },
    {
     "data": {
      "text/plain": [
       "  0%|          | 0/21492 [00:00<?, ?it/s]"
      ],
      "application/vnd.jupyter.widget-view+json": {
       "version_major": 2,
       "version_minor": 0,
       "model_id": "63f49c595d9847c88b2d7461527a9799"
      }
     },
     "metadata": {},
     "output_type": "display_data"
    }
   ],
   "execution_count": 371
  },
  {
   "metadata": {
    "ExecuteTime": {
     "end_time": "2024-07-11T13:38:46.875407Z",
     "start_time": "2024-07-11T13:38:46.872482Z"
    }
   },
   "cell_type": "code",
   "source": [
    "# sentences.to_csv('datasets/preprocessed/sentences.csv', index=False)\n",
    "# sentences = pd.read_csv('datasets/preprocessed/sentences.csv')['0']"
   ],
   "id": "2007a574a13fe99e",
   "outputs": [],
   "execution_count": 372
  },
  {
   "metadata": {},
   "cell_type": "markdown",
   "source": "## Convert Words and Labels to Numbers",
   "id": "471453ffe69482cd"
  },
  {
   "metadata": {
    "ExecuteTime": {
     "end_time": "2024-07-11T13:40:03.361603Z",
     "start_time": "2024-07-11T13:40:03.343738Z"
    }
   },
   "cell_type": "code",
   "source": [
    "word2idx = {word: idx for idx, word in enumerate(words)}\n",
    "tag2idx = {tag: idx for idx, tag in enumerate(tags)}\n",
    "idx2tag = {idx: tag for tag, idx in tag2idx.items()}"
   ],
   "id": "aa48ca594219bfbe",
   "outputs": [],
   "execution_count": 373
  },
  {
   "metadata": {
    "ExecuteTime": {
     "end_time": "2024-07-11T13:40:04.427641Z",
     "start_time": "2024-07-11T13:40:04.424039Z"
    }
   },
   "cell_type": "code",
   "source": "tag2idx",
   "id": "4da5175b4338d37b",
   "outputs": [
    {
     "data": {
      "text/plain": [
       "{'B-Author': 0,\n",
       " 'B-Book': 1,\n",
       " 'B-Publisher': 2,\n",
       " 'B-Translator': 3,\n",
       " 'I-Author': 4,\n",
       " 'I-Book': 5,\n",
       " 'I-Publisher': 6,\n",
       " 'I-Translator': 7,\n",
       " 'O': 8}"
      ]
     },
     "execution_count": 374,
     "metadata": {},
     "output_type": "execute_result"
    }
   ],
   "execution_count": 374
  },
  {
   "metadata": {},
   "cell_type": "markdown",
   "source": "## Padding the Sentences",
   "id": "3b16f571001fb5d0"
  },
  {
   "metadata": {
    "ExecuteTime": {
     "end_time": "2024-07-12T00:38:42.618905Z",
     "start_time": "2024-07-12T00:38:42.513375Z"
    }
   },
   "cell_type": "code",
   "source": [
    "# fig = px.histogram([len(sentence) for sentence in sentences], title='Sentence Length Histogram')\n",
    "# fig.update_layout(showlegend=False)\n",
    "# fig.show()"
   ],
   "id": "34ec0847cdb8c233",
   "outputs": [],
   "execution_count": 403
  },
  {
   "metadata": {
    "ExecuteTime": {
     "end_time": "2024-07-11T13:40:07.715815Z",
     "start_time": "2024-07-11T13:40:07.708973Z"
    }
   },
   "cell_type": "code",
   "source": [
    "# Based on the last hist.\n",
    "max_length = 210\n",
    "\n",
    "comments_less_than_max_length = len([sentence for sentence in sentences if len(sentence) <= max_length])\n",
    "print(f'Number of comments less than {max_length}: {comments_less_than_max_length}')\n",
    "print(f'Remainder: {len(sentences) - comments_less_than_max_length}')"
   ],
   "id": "ff159b615496f100",
   "outputs": [
    {
     "name": "stdout",
     "output_type": "stream",
     "text": [
      "Number of comments less than 210: 21203\n",
      "Remainder: 289\n"
     ]
    }
   ],
   "execution_count": 376
  },
  {
   "metadata": {
    "ExecuteTime": {
     "end_time": "2024-07-11T13:40:09.653300Z",
     "start_time": "2024-07-11T13:40:09.015985Z"
    }
   },
   "cell_type": "code",
   "source": [
    "X = [[word2idx[word[0]] for word in sentence] for sentence in sentences]\n",
    "X = pad_sequences(X, maxlen=max_length, padding='post', value=words_size-1)\n",
    "\n",
    "y = [[tag2idx[word[1]] for word in sentence] for sentence in sentences]\n",
    "y = pad_sequences(y, maxlen=max_length, padding='post', value=tag2idx['O'])"
   ],
   "id": "e9bbb659610e0d9c",
   "outputs": [],
   "execution_count": 377
  },
  {
   "metadata": {
    "ExecuteTime": {
     "end_time": "2024-07-11T13:40:11.944642Z",
     "start_time": "2024-07-11T13:40:11.909815Z"
    }
   },
   "cell_type": "code",
   "source": [
    "X_train, X_test, y_train, y_test = train_test_split(X, y, test_size=0.2, random_state=42)\n",
    "X_val, X_test, y_val, y_test = train_test_split(X_test, y_test, test_size=0.5, random_state=42)"
   ],
   "id": "33e60290f1b6e2cd",
   "outputs": [],
   "execution_count": 378
  },
  {
   "metadata": {
    "ExecuteTime": {
     "end_time": "2024-07-11T13:40:14.057757Z",
     "start_time": "2024-07-11T13:40:14.054811Z"
    }
   },
   "cell_type": "code",
   "source": "print(f'Train size: {len(X_train)}\\nValidation size: {len(X_val)}\\nTest size: {len(X_test)}')",
   "id": "cec95f7e3236a343",
   "outputs": [
    {
     "name": "stdout",
     "output_type": "stream",
     "text": [
      "Train size: 17193\n",
      "Validation size: 2149\n",
      "Test size: 2150\n"
     ]
    }
   ],
   "execution_count": 379
  },
  {
   "metadata": {},
   "cell_type": "markdown",
   "source": "## Bidirectional LSTM Model",
   "id": "446e00261731d231"
  },
  {
   "metadata": {
    "ExecuteTime": {
     "end_time": "2024-07-11T13:40:15.816105Z",
     "start_time": "2024-07-11T13:40:15.194618Z"
    }
   },
   "cell_type": "code",
   "source": [
    "model = Sequential()\n",
    "model.add(InputLayer(max_length))\n",
    "model.add(Embedding(input_dim=words_size, output_dim=max_length, input_length=max_length))\n",
    "model.add(SpatialDropout1D(0.1))\n",
    "model.add(Bidirectional(LSTM(units=300, return_sequences=True)))\n",
    "\n",
    "model.compile(optimizer='adam', loss='sparse_categorical_crossentropy', metrics=['accuracy'])\n",
    "model.summary()"
   ],
   "id": "c8cd9fc39017d14b",
   "outputs": [
    {
     "name": "stdout",
     "output_type": "stream",
     "text": [
      "Model: \"sequential_7\"\n",
      "_________________________________________________________________\n",
      " Layer (type)                Output Shape              Param #   \n",
      "=================================================================\n",
      " embedding_7 (Embedding)     (None, 210, 210)          10318770  \n",
      "                                                                 \n",
      " spatial_dropout1d_7 (Spati  (None, 210, 210)          0         \n",
      " alDropout1D)                                                    \n",
      "                                                                 \n",
      " bidirectional_7 (Bidirecti  (None, 210, 600)          1226400   \n",
      " onal)                                                           \n",
      "                                                                 \n",
      "=================================================================\n",
      "Total params: 11545170 (44.04 MB)\n",
      "Trainable params: 11545170 (44.04 MB)\n",
      "Non-trainable params: 0 (0.00 Byte)\n",
      "_________________________________________________________________\n"
     ]
    }
   ],
   "execution_count": 380
  },
  {
   "metadata": {
    "ExecuteTime": {
     "end_time": "2024-07-11T13:40:17.435318Z",
     "start_time": "2024-07-11T13:40:16.652839Z"
    }
   },
   "cell_type": "code",
   "source": [
    "tf.keras.utils.plot_model(\n",
    "    model, to_file='resources/model.png', show_shapes=True, show_dtype=False,\n",
    "    show_layer_names=True, rankdir='LR', expand_nested=True, dpi=300,\n",
    ")"
   ],
   "id": "1e79220a0a5225f1",
   "outputs": [
    {
     "data": {
      "image/png": "[encoded data removed]",
      "text/plain": [
       "<IPython.core.display.Image object>"
      ]
     },
     "execution_count": 381,
     "metadata": {},
     "output_type": "execute_result"
    }
   ],
   "execution_count": 381
  },
  {
   "metadata": {
    "ExecuteTime": {
     "end_time": "2024-07-11T13:40:17.443081Z",
     "start_time": "2024-07-11T13:40:17.438231Z"
    }
   },
   "cell_type": "code",
   "source": [
    "logdir = 'logs/'\n",
    "tensorboard_callback = TensorBoard(log_dir=logdir)\n",
    "\n",
    "model_checkpoint = ModelCheckpoint('resources/model.keras', monitor='val_loss', verbose=1, save_best_only=True,\n",
    "                                   save_weights_only=True)\n",
    "early_stopping = EarlyStopping(monitor='val_accuracy', min_delta=0, patience=1, verbose=1, mode='max', baseline=None)\n",
    "plot_losses = PlotLossesCallback()"
   ],
   "id": "771a06465162d72b",
   "outputs": [],
   "execution_count": 382
  },
  {
   "metadata": {},
   "cell_type": "code",
   "source": [
    "history = model.fit(X_train[:10], y_train[:10], validation_data=(X_val[:10], y_val[:10]), batch_size=32, epochs=3, verbose=1,\n",
    "                    callbacks=[tensorboard_callback, model_checkpoint, early_stopping, plot_losses])"
   ],
   "id": "6aab0fc5f432d9a3",
   "execution_count": 383,
   "outputs": [
    {
     "name": "stdout",
     "output_type": "stream",
     "text": [
      "accuracy\n",
      "\ttraining         \t (min:    0.000, max:    0.055, cur:    0.055)\n",
      "\tvalidation       \t (min:    0.011, max:    0.944, cur:    0.944)\n",
      "Loss\n",
      "\ttraining         \t (min:    4.235, max:   17.024, cur:    4.235)\n",
      "\tvalidation       \t (min:    2.899, max:   14.977, cur:    2.899)\n",
      "1/1 [==============================] - 1s 1s/step - loss: 4.2347 - accuracy: 0.0552 - val_loss: 2.8990 - val_accuracy: 0.9443\n"
     ]
    }
   ]
  },
  {
   "metadata": {
    "ExecuteTime": {
     "end_time": "2024-07-11T13:40:40.564930Z",
     "start_time": "2024-07-11T13:40:40.562223Z"
    }
   },
   "cell_type": "code",
   "source": [
    "# model.save('resources/model.keras')\n",
    "# model = tf.keras.models.load_model('resources/model.keras')"
   ],
   "id": "dcc9717a4edf9981",
   "outputs": [],
   "execution_count": 384
  },
  {
   "metadata": {},
   "cell_type": "markdown",
   "source": "## Evaluation",
   "id": "242ecd3bc92f9736"
  },
  {
   "metadata": {
    "ExecuteTime": {
     "end_time": "2024-07-11T13:40:42.622308Z",
     "start_time": "2024-07-11T13:40:42.617856Z"
    }
   },
   "cell_type": "code",
   "source": [
    "def pred_y(x):\n",
    "    p = model.predict(np.array([x]))\n",
    "    p = np.argmax(p, axis=-1)\n",
    "    return p\n",
    "\n",
    "def print_prediction(x, y):\n",
    "    print(\"{:15}{:5}\\t {}\\n\".format(\"Word\", \"True\", \"Pred\"))\n",
    "    print(\"-\" *30)\n",
    "    for w, true, pred in zip(x, y, pred_y(x)):\n",
    "        try:\n",
    "            print(\"{:15}{}\\t{}\".format(words[w-1], tags[true], tags[pred]))\n",
    "        except IndexError:\n",
    "            print(\"{:15}{}\\t{}\".format(words[w-1], tags[true], 'O'))"
   ],
   "id": "4f162d3e4c9f472c",
   "outputs": [],
   "execution_count": 385
  },
  {
   "metadata": {
    "ExecuteTime": {
     "end_time": "2024-07-11T13:41:06.285225Z",
     "start_time": "2024-07-11T13:41:06.178491Z"
    }
   },
   "cell_type": "code",
   "source": [
    "sample_X = 'من پارسال موقع عید کتاب جز از کل رو از انتشارات چشمه خوندم باید بگم که موقع خوندنش واقعاً محو قلم استیو تولتز شده بودم.'\n",
    "sample_X = higher_preprocess(elementary_preprocess(sample_X))\n",
    "sample_X = [[word2idx[word] if word in word2idx else -1 for word in sample_X]]\n",
    "sample_X = pad_sequences(sample_X, maxlen=max_length, padding='post', value=words_size-1)\n",
    "\n",
    "p = pred_y(sample_X[0])\n",
    "print(\"{:15}\\t {}\\n\".format(\"Word\", \"Pred\"))\n",
    "print(\"-\" *30)\n",
    "for w, pred in zip(sample_X[0], p[0]):\n",
    "    try:\n",
    "        print(\"{:15}\\t{}\".format(words[w-1], tags[pred]))\n",
    "    except IndexError:\n",
    "        print(\"{:15}\\t{}\".format(words[w-1], 'O'))"
   ],
   "id": "d4e5812986e626ff",
   "outputs": [
    {
     "name": "stdout",
     "output_type": "stream",
     "text": [
      "1/1 [==============================] - 0s 67ms/step\n",
      "Word           \t Pred\n",
      "\n",
      "------------------------------\n",
      "بخوندنش        \tO\n",
      "اینان          \tO\n",
      "عایدی          \tO\n",
      "جرأت           \tO\n",
      "فوق‎العادیه    \tO\n",
      "ندزدید         \tO\n",
      "می‌گذره        \tO\n",
      "مقدم           \tO\n",
      "خوون‌ها        \tO\n",
      "می‌گذره        \tO\n",
      "خودگذشتی       \tO\n",
      "میرشکار        \tO\n",
      "مؤمنه          \tO\n",
      "ربذه           \tO\n",
      "جاری           \tO\n",
      "طمانینه        \tO\n",
      "عایدی          \tO\n",
      "جزیاتش         \tO\n",
      "مرگشه          \tO\n",
      "فیدبوئه        \tO\n",
      "انگیزترین‌ها   \tO\n",
      "رئوف           \tO\n",
      "مسقیما         \tO\n",
      "کافیه‌ی        \tO\n",
      "فیلترینگ       \tO\n",
      "فیلترینگ       \tO\n",
      "فیلترینگ       \tO\n",
      "فیلترینگ       \tO\n",
      "فیلترینگ       \tO\n",
      "فیلترینگ       \tO\n",
      "فیلترینگ       \tO\n",
      "فیلترینگ       \tO\n",
      "فیلترینگ       \tO\n",
      "فیلترینگ       \tO\n",
      "فیلترینگ       \tO\n",
      "فیلترینگ       \tO\n",
      "فیلترینگ       \tO\n",
      "فیلترینگ       \tO\n",
      "فیلترینگ       \tO\n",
      "فیلترینگ       \tO\n",
      "فیلترینگ       \tO\n",
      "فیلترینگ       \tO\n",
      "فیلترینگ       \tO\n",
      "فیلترینگ       \tO\n",
      "فیلترینگ       \tO\n",
      "فیلترینگ       \tO\n",
      "فیلترینگ       \tO\n",
      "فیلترینگ       \tO\n",
      "فیلترینگ       \tO\n",
      "فیلترینگ       \tO\n",
      "فیلترینگ       \tO\n",
      "فیلترینگ       \tO\n",
      "فیلترینگ       \tO\n",
      "فیلترینگ       \tO\n",
      "فیلترینگ       \tO\n",
      "فیلترینگ       \tO\n",
      "فیلترینگ       \tO\n",
      "فیلترینگ       \tO\n",
      "فیلترینگ       \tO\n",
      "فیلترینگ       \tO\n",
      "فیلترینگ       \tO\n",
      "فیلترینگ       \tO\n",
      "فیلترینگ       \tO\n",
      "فیلترینگ       \tO\n",
      "فیلترینگ       \tO\n",
      "فیلترینگ       \tO\n",
      "فیلترینگ       \tO\n",
      "فیلترینگ       \tO\n",
      "فیلترینگ       \tO\n",
      "فیلترینگ       \tO\n",
      "فیلترینگ       \tO\n",
      "فیلترینگ       \tO\n",
      "فیلترینگ       \tO\n",
      "فیلترینگ       \tO\n",
      "فیلترینگ       \tO\n",
      "فیلترینگ       \tO\n",
      "فیلترینگ       \tO\n",
      "فیلترینگ       \tO\n",
      "فیلترینگ       \tO\n",
      "فیلترینگ       \tO\n",
      "فیلترینگ       \tO\n",
      "فیلترینگ       \tO\n",
      "فیلترینگ       \tO\n",
      "فیلترینگ       \tO\n",
      "فیلترینگ       \tO\n",
      "فیلترینگ       \tO\n",
      "فیلترینگ       \tO\n",
      "فیلترینگ       \tO\n",
      "فیلترینگ       \tO\n",
      "فیلترینگ       \tO\n",
      "فیلترینگ       \tO\n",
      "فیلترینگ       \tO\n",
      "فیلترینگ       \tO\n",
      "فیلترینگ       \tO\n",
      "فیلترینگ       \tO\n",
      "فیلترینگ       \tO\n",
      "فیلترینگ       \tO\n",
      "فیلترینگ       \tO\n",
      "فیلترینگ       \tO\n",
      "فیلترینگ       \tO\n",
      "فیلترینگ       \tO\n",
      "فیلترینگ       \tO\n",
      "فیلترینگ       \tO\n",
      "فیلترینگ       \tO\n",
      "فیلترینگ       \tO\n",
      "فیلترینگ       \tO\n",
      "فیلترینگ       \tO\n",
      "فیلترینگ       \tO\n",
      "فیلترینگ       \tO\n",
      "فیلترینگ       \tO\n",
      "فیلترینگ       \tO\n",
      "فیلترینگ       \tO\n",
      "فیلترینگ       \tO\n",
      "فیلترینگ       \tO\n",
      "فیلترینگ       \tO\n",
      "فیلترینگ       \tO\n",
      "فیلترینگ       \tO\n",
      "فیلترینگ       \tO\n",
      "فیلترینگ       \tO\n",
      "فیلترینگ       \tO\n",
      "فیلترینگ       \tO\n",
      "فیلترینگ       \tO\n",
      "فیلترینگ       \tO\n",
      "فیلترینگ       \tO\n",
      "فیلترینگ       \tO\n",
      "فیلترینگ       \tO\n",
      "فیلترینگ       \tO\n",
      "فیلترینگ       \tO\n",
      "فیلترینگ       \tO\n",
      "فیلترینگ       \tO\n",
      "فیلترینگ       \tO\n",
      "فیلترینگ       \tO\n",
      "فیلترینگ       \tO\n",
      "فیلترینگ       \tO\n",
      "فیلترینگ       \tO\n",
      "فیلترینگ       \tO\n",
      "فیلترینگ       \tO\n",
      "فیلترینگ       \tO\n",
      "فیلترینگ       \tO\n",
      "فیلترینگ       \tO\n",
      "فیلترینگ       \tO\n",
      "فیلترینگ       \tO\n",
      "فیلترینگ       \tO\n",
      "فیلترینگ       \tO\n",
      "فیلترینگ       \tO\n",
      "فیلترینگ       \tO\n",
      "فیلترینگ       \tO\n",
      "فیلترینگ       \tO\n",
      "فیلترینگ       \tO\n",
      "فیلترینگ       \tO\n",
      "فیلترینگ       \tO\n",
      "فیلترینگ       \tO\n",
      "فیلترینگ       \tO\n",
      "فیلترینگ       \tO\n",
      "فیلترینگ       \tO\n",
      "فیلترینگ       \tO\n",
      "فیلترینگ       \tO\n",
      "فیلترینگ       \tO\n",
      "فیلترینگ       \tO\n",
      "فیلترینگ       \tO\n",
      "فیلترینگ       \tO\n",
      "فیلترینگ       \tO\n",
      "فیلترینگ       \tO\n",
      "فیلترینگ       \tO\n",
      "فیلترینگ       \tO\n",
      "فیلترینگ       \tO\n",
      "فیلترینگ       \tO\n",
      "فیلترینگ       \tO\n",
      "فیلترینگ       \tO\n",
      "فیلترینگ       \tO\n",
      "فیلترینگ       \tO\n",
      "فیلترینگ       \tO\n",
      "فیلترینگ       \tO\n",
      "فیلترینگ       \tO\n",
      "فیلترینگ       \tO\n",
      "فیلترینگ       \tO\n",
      "فیلترینگ       \tO\n",
      "فیلترینگ       \tO\n",
      "فیلترینگ       \tO\n",
      "فیلترینگ       \tO\n",
      "فیلترینگ       \tO\n",
      "فیلترینگ       \tO\n",
      "فیلترینگ       \tO\n",
      "فیلترینگ       \tO\n",
      "فیلترینگ       \tO\n",
      "فیلترینگ       \tO\n",
      "فیلترینگ       \tO\n",
      "فیلترینگ       \tO\n",
      "فیلترینگ       \tO\n",
      "فیلترینگ       \tO\n",
      "فیلترینگ       \tO\n",
      "فیلترینگ       \tO\n",
      "فیلترینگ       \tO\n",
      "فیلترینگ       \tO\n",
      "فیلترینگ       \tO\n",
      "فیلترینگ       \tO\n",
      "فیلترینگ       \tO\n",
      "فیلترینگ       \tO\n",
      "فیلترینگ       \tO\n",
      "فیلترینگ       \tO\n",
      "فیلترینگ       \tO\n",
      "فیلترینگ       \tO\n",
      "فیلترینگ       \tO\n",
      "فیلترینگ       \tO\n",
      "فیلترینگ       \tO\n",
      "فیلترینگ       \tO\n",
      "فیلترینگ       \tO\n",
      "فیلترینگ       \tO\n",
      "فیلترینگ       \tO\n",
      "فیلترینگ       \tO\n"
     ]
    }
   ],
   "execution_count": 387
  },
  {
   "metadata": {
    "ExecuteTime": {
     "end_time": "2024-07-11T13:41:09.041675Z",
     "start_time": "2024-07-11T13:41:08.973613Z"
    }
   },
   "cell_type": "code",
   "source": [
    "i = np.random.randint(0, X_test.shape[0])\n",
    "print(\"This is sentence:\",i)\n",
    "p = model.predict(np.array([X_test[i]]))\n",
    "p = np.argmax(p, axis=-1)\n",
    "\n",
    "print(\"{:15}{:5}\\t {}\\n\".format(\"Word\", \"True\", \"Pred\"))\n",
    "print(\"-\" *30)\n",
    "for w, true, pred in zip(X_test[i], y_test[i], p[0]):\n",
    "    try:\n",
    "        print(\"{:15}{}\\t{}\".format(words[w-1], tags[true], tags[pred]))\n",
    "    except IndexError:\n",
    "        print(\"{:15}{}\\t{}\".format(words[w-1], tags[true], 'O'))"
   ],
   "id": "669d23763aef3592",
   "outputs": [
    {
     "name": "stdout",
     "output_type": "stream",
     "text": [
      "This is sentence: 428\n",
      "1/1 [==============================] - 0s 29ms/step\n",
      "Word           True \t Pred\n",
      "\n",
      "------------------------------\n",
      "دیکنز          O\tO\n",
      "میکنندو        O\tO\n",
      "اموزش          O\tO\n",
      "وخش            O\tO\n",
      "چراولادت       B-Author\tO\n",
      "گمشده‌ام       O\tO\n",
      "همکارش         O\tO\n",
      "اکنونی         O\tO\n",
      "ایشان_یادداشت  O\tO\n",
      "مارکو          O\tO\n",
      "تندتند         O\tO\n",
      "استناد         O\tO\n",
      "تفسیرشان       O\tO\n",
      "نقطعه          O\tO\n",
      "صحیح‌تر        O\tO\n",
      "فوق‎العادیه    O\tO\n",
      "استناد         O\tO\n",
      "کلماتشه        O\tO\n",
      "وداع           O\tO\n",
      "جسور           O\tO\n",
      "مهر            O\tO\n",
      "وبیان          O\tO\n",
      "همکارش         O\tO\n",
      "میرسوندن       O\tO\n",
      "مهمیو          O\tO\n",
      "توبه           O\tO\n",
      "بخوندنش        O\tO\n",
      "همانطور        O\tO\n",
      "مهربانم        O\tO\n",
      "میشید<<        O\tO\n",
      "مچاله          O\tO\n",
      "azizi          O\tO\n",
      "ارتباطت        O\tO\n",
      "میشید<<        O\tO\n",
      "بچم            O\tO\n",
      "انگیزترین‌ها   O\tO\n",
      "اباالفضل       O\tO\n",
      "میچسبه         O\tO\n",
      "همکارش         O\tO\n",
      "نقطعه          O\tO\n",
      "جالبن          O\tO\n",
      "بایگانی        O\tO\n",
      "حریص‌تر        O\tO\n",
      "رنجوری         O\tO\n",
      "فوق‎العادیه    O\tO\n",
      "بچم            O\tO\n",
      "پشمیون         O\tO\n",
      "طمانینه        O\tO\n",
      "۲۰۱۶           O\tO\n",
      "مارکو          O\tO\n",
      "دیگرو          O\tO\n",
      "در‌روایت‌های‌خاطراتO\tO\n",
      "نفی            O\tO\n",
      "عصمت           O\tO\n",
      "۱۶۹۲۴          O\tO\n",
      "مصنوع          O\tO\n",
      "بشونه          O\tO\n",
      "حسنی           O\tO\n",
      "کسوت           O\tO\n",
      "بود☘️          O\tO\n",
      "سرزندگی        O\tO\n",
      "بادیو          O\tO\n",
      "تاثیر‌گذار     O\tO\n",
      "خوون‌ها        O\tO\n",
      "دغدغه‌ها       O\tO\n",
      "طمانینه        O\tO\n",
      "می‌گذره        O\tO\n",
      "نگاهی          B-Book\tO\n",
      "ومعنوی         O\tO\n",
      "العادن         O\tO\n",
      "نفاق           O\tO\n",
      "میکنندو        O\tO\n",
      "هیچ‌گونه       O\tO\n",
      "گوجه           O\tO\n",
      "بپروروندش      O\tO\n",
      "می‌دانسته‌اید  O\tO\n",
      "توقعات         O\tO\n",
      "فوق‎العادیه    O\tO\n",
      "می‌نماید       O\tO\n",
      "می‌نماید       O\tO\n",
      "نوجوانیشو      B-Book\tO\n",
      "خوون‌ها        O\tO\n",
      "اهورمزدا       O\tO\n",
      "پلوپونزی       O\tO\n",
      "آسان‌ترین      B-Book\tO\n",
      "نقطعه          O\tO\n",
      "برانگیزتر      O\tO\n",
      "اومردآهنی      O\tO\n",
      "میلیونی        O\tO\n",
      "طمانینه        O\tO\n",
      "نمیخواد        O\tO\n",
      "مشی            O\tO\n",
      "وپایان         O\tO\n",
      "بزدل           O\tO\n",
      "طمانینه        O\tO\n",
      "دروغگو‌ها      O\tO\n",
      "داستانایی      O\tO\n",
      "خوون‌ها        O\tO\n",
      "‌ش             O\tO\n",
      "خالی‌ام        O\tO\n",
      "طاقت           O\tO\n",
      "استناد         O\tO\n",
      "در‌روایت‌های‌خاطراتO\tO\n",
      "پدرمادرامون    O\tO\n",
      "قصه            O\tO\n",
      "زیستگاهشان     O\tO\n",
      "۲۰۰۸           O\tO\n",
      "زبانی          O\tO\n",
      "می‌تراشند      O\tO\n",
      "طمانینه        O\tO\n",
      "مارکو          O\tO\n",
      "نقطعه          O\tO\n",
      "مستقلیه        O\tO\n",
      "القاعده‌ی      O\tO\n",
      "زنهایی         O\tO\n",
      "عملیه          O\tO\n",
      "بفهمید         O\tO\n",
      "نیامده         O\tO\n",
      "گودی           O\tO\n",
      "قویا           O\tO\n",
      "پلوپونزی       O\tO\n",
      "استناد         O\tO\n",
      "کلماتشه        O\tO\n",
      "سازمان‌دهی     O\tO\n",
      "کارمندهای      O\tO\n",
      "احساسیه        O\tO\n",
      "دارایی‌ها      O\tO\n",
      "جریان‌گریز     O\tO\n",
      "قصه            O\tO\n",
      "اینن           O\tO\n",
      "متین           O\tO\n",
      "همکارش         O\tO\n",
      "‌ش             O\tO\n",
      "ناشکرم         O\tO\n",
      "استناد         O\tO\n",
      "مضمونی         O\tO\n",
      "مهر            O\tO\n",
      "میکنندو        O\tO\n",
      "ذهنیت          O\tO\n",
      "مهر            O\tO\n",
      "میکنندو        O\tO\n",
      "بپروروندش      O\tO\n",
      "مهر            O\tO\n",
      "احساسیه        O\tO\n",
      "ربذه           O\tO\n",
      "سایز           O\tO\n",
      "آسان‌ترین      O\tO\n",
      "دلخواه         O\tO\n",
      "قصه            O\tO\n",
      "عصمت           O\tO\n",
      "اومردآهنی      O\tO\n",
      "فیلترینگ       O\tO\n",
      "فیلترینگ       O\tO\n",
      "فیلترینگ       O\tO\n",
      "فیلترینگ       O\tO\n",
      "فیلترینگ       O\tO\n",
      "فیلترینگ       O\tO\n",
      "فیلترینگ       O\tO\n",
      "فیلترینگ       O\tO\n",
      "فیلترینگ       O\tO\n",
      "فیلترینگ       O\tO\n",
      "فیلترینگ       O\tO\n",
      "فیلترینگ       O\tO\n",
      "فیلترینگ       O\tO\n",
      "فیلترینگ       O\tO\n",
      "فیلترینگ       O\tO\n",
      "فیلترینگ       O\tO\n",
      "فیلترینگ       O\tO\n",
      "فیلترینگ       O\tO\n",
      "فیلترینگ       O\tO\n",
      "فیلترینگ       O\tO\n",
      "فیلترینگ       O\tO\n",
      "فیلترینگ       O\tO\n",
      "فیلترینگ       O\tO\n",
      "فیلترینگ       O\tO\n",
      "فیلترینگ       O\tO\n",
      "فیلترینگ       O\tO\n",
      "فیلترینگ       O\tO\n",
      "فیلترینگ       O\tO\n",
      "فیلترینگ       O\tO\n",
      "فیلترینگ       O\tO\n",
      "فیلترینگ       O\tO\n",
      "فیلترینگ       O\tO\n",
      "فیلترینگ       O\tO\n",
      "فیلترینگ       O\tO\n",
      "فیلترینگ       O\tO\n",
      "فیلترینگ       O\tO\n",
      "فیلترینگ       O\tO\n",
      "فیلترینگ       O\tO\n",
      "فیلترینگ       O\tO\n",
      "فیلترینگ       O\tO\n",
      "فیلترینگ       O\tO\n",
      "فیلترینگ       O\tO\n",
      "فیلترینگ       O\tO\n",
      "فیلترینگ       O\tO\n",
      "فیلترینگ       O\tO\n",
      "فیلترینگ       O\tO\n",
      "فیلترینگ       O\tO\n",
      "فیلترینگ       O\tO\n",
      "فیلترینگ       O\tO\n",
      "فیلترینگ       O\tO\n",
      "فیلترینگ       O\tO\n",
      "فیلترینگ       O\tO\n",
      "فیلترینگ       O\tO\n",
      "فیلترینگ       O\tO\n",
      "فیلترینگ       O\tO\n",
      "فیلترینگ       O\tO\n",
      "فیلترینگ       O\tO\n",
      "فیلترینگ       O\tO\n",
      "فیلترینگ       O\tO\n"
     ]
    }
   ],
   "execution_count": 388
  },
  {
   "metadata": {
    "ExecuteTime": {
     "end_time": "2024-07-11T13:41:35.791988Z",
     "start_time": "2024-07-11T13:41:14.100440Z"
    }
   },
   "cell_type": "code",
   "source": "y_pred = model.predict(X_test)",
   "id": "906c13ff317ec1d2",
   "outputs": [
    {
     "name": "stdout",
     "output_type": "stream",
     "text": [
      "68/68 [==============================] - 18s 265ms/step\n"
     ]
    }
   ],
   "execution_count": 389
  },
  {
   "metadata": {
    "ExecuteTime": {
     "end_time": "2024-07-11T13:44:07.723815Z",
     "start_time": "2024-07-11T13:44:07.352065Z"
    }
   },
   "cell_type": "code",
   "source": [
    "y_pred_index = np.argmax(y_pred, axis=-1)\n",
    "\n",
    "X_test_list = X_test.tolist()\n",
    "y_test_list = y_test.tolist()\n",
    "y_pred_list = y_pred_index.tolist()\n",
    "\n",
    "start_pad_index = word2idx['STARTPAD']\n",
    "# progress_bar = tqdm(range(len(X_test)))\n",
    "for i in range(len(X_test_list)):\n",
    "    x_start_pad = X_test_list[i].index(start_pad_index)\n",
    "    X_test_list[i] = X_test_list[i][:x_start_pad]\n",
    "    y_test_list[i] = y_test_list[i][:x_start_pad]\n",
    "    \n",
    "    y_pred_list[i] = y_pred_list[i][:x_start_pad]\n",
    "    y_pred_list[i] = [tag if tag <= 8 else 8 for tag in y_pred_list[i]]\n",
    "\n",
    "\n",
    "y_test_flatten = []\n",
    "for y in y_test_list:\n",
    "    y_test_flatten.extend(y)\n",
    "\n",
    "y_pred_flatten = []\n",
    "for y in y_pred_list:\n",
    "    y_pred_flatten.extend(y)\n",
    "\n",
    "print(classification_report(y_test_flatten, y_pred_flatten))"
   ],
   "id": "db16531cfc8e16d6",
   "outputs": [
    {
     "name": "stdout",
     "output_type": "stream",
     "text": [
      "              precision    recall  f1-score   support\n",
      "\n",
      "           0       0.00      0.00      0.00       449\n",
      "           1       0.00      0.00      0.00      2033\n",
      "           2       0.20      0.00      0.00       483\n",
      "           3       0.00      0.00      0.00        40\n",
      "           4       0.00      0.00      0.00       155\n",
      "           5       0.00      0.00      0.00       319\n",
      "           6       0.00      0.00      0.00        42\n",
      "           7       0.00      0.00      0.00        12\n",
      "           8       0.96      0.99      0.98     76744\n",
      "\n",
      "    accuracy                           0.95     80277\n",
      "   macro avg       0.13      0.11      0.11     80277\n",
      "weighted avg       0.92      0.95      0.93     80277\n",
      "\n"
     ]
    }
   ],
   "execution_count": 393
  },
  {
   "metadata": {
    "ExecuteTime": {
     "end_time": "2024-07-11T13:57:04.377334Z",
     "start_time": "2024-07-11T13:57:03.909671Z"
    }
   },
   "cell_type": "code",
   "source": [
    "cm = confusion_matrix(y_test_flatten, y_pred_flatten)\n",
    "cm = cm / cm.sum(axis=1)[:, np.newaxis]\n",
    "plt.figure(figsize=(10, 7))\n",
    "sns.heatmap(cm, annot=True, xticklabels=tags, yticklabels=tags, cmap='Blues')\n",
    "plt.show()"
   ],
   "id": "2786e5fa4a7ef1e0",
   "outputs": [
    {
     "data": {
      "text/plain": [
       "<Figure size 1000x700 with 2 Axes>"
      ],
      "image/png": "[encoded data removed]"
     },
     "metadata": {},
     "output_type": "display_data"
    }
   ],
   "execution_count": 399
  },
  {
   "metadata": {
    "ExecuteTime": {
     "end_time": "2024-07-11T14:00:18.378305Z",
     "start_time": "2024-07-11T14:00:16.383831Z"
    }
   },
   "cell_type": "code",
   "source": [
    "print('Accuracy:', accuracy_score(y_test_flatten, y_pred_flatten))\n",
    "print()\n",
    "print('Micro Precision:', precision_score(y_test_flatten, y_pred_flatten, average='micro'))\n",
    "print('Macro Precision:', precision_score(y_test_flatten, y_pred_flatten, average='macro'))\n",
    "print('Weighted Precision:', precision_score(y_test_flatten, y_pred_flatten, average='weighted'))\n",
    "print()\n",
    "print('Micro Recall:', recall_score(y_test_flatten, y_pred_flatten, average='micro'))\n",
    "print('Macro Recall:', recall_score(y_test_flatten, y_pred_flatten, average='macro'))\n",
    "print('Weighted Recall:', recall_score(y_test_flatten, y_pred_flatten, average='weighted'))\n",
    "print()\n",
    "print('Micro F1-score:', f1_score(y_test_flatten, y_pred_flatten, average='micro'))\n",
    "print('Macro F1-score:', f1_score(y_test_flatten, y_pred_flatten, average='macro'))\n",
    "print('Weighted F1-score:', f1_score(y_test_flatten, y_pred_flatten, average='weighted'))"
   ],
   "id": "388533e73b84f3ce",
   "outputs": [
    {
     "name": "stdout",
     "output_type": "stream",
     "text": [
      "Accuracy: 0.9509074828406642\n",
      "\n",
      "Micro Precision: 0.9509074828406642\n",
      "Macro Precision: 0.12846483701393327\n",
      "Weighted Precision: 0.9153051193514412\n",
      "\n",
      "Micro Recall: 0.9509074828406642\n",
      "Macro Recall: 0.11074899850173034\n",
      "Weighted Recall: 0.9509074828406642\n",
      "\n",
      "Micro F1-score: 0.9509074828406642\n",
      "Macro F1-score: 0.10879397571261952\n",
      "Weighted F1-score: 0.932160130134861\n"
     ]
    }
   ],
   "execution_count": 402
  }
 ],
 "metadata": {
  "kernelspec": {
   "display_name": "Python 3",
   "language": "python",
   "name": "python3"
  },
  "language_info": {
   "codemirror_mode": {
    "name": "ipython",
    "version": 2
   },
   "file_extension": ".py",
   "mimetype": "text/x-python",
   "name": "python",
   "nbconvert_exporter": "python",
   "pygments_lexer": "ipython2",
   "version": "2.7.6"
  }
 },
 "nbformat": 4,
 "nbformat_minor": 5
}
