{
 "cells": [
  {
   "metadata": {
    "ExecuteTime": {
     "end_time": "2024-07-12T00:21:02.454868Z",
     "start_time": "2024-07-12T00:21:02.449472Z"
    }
   },
   "cell_type": "code",
   "source": [
    "# from google.colab import drive\n",
    "# drive.mount('/content/drive')"
   ],
   "id": "2f932317f161b400",
   "outputs": [],
   "execution_count": 1
  },
  {
   "metadata": {
    "ExecuteTime": {
     "end_time": "2024-07-12T00:21:02.473754Z",
     "start_time": "2024-07-12T00:21:02.468673Z"
    }
   },
   "cell_type": "code",
   "source": [
    "url = 'drive/MyDrive/a/'\n",
    "url = ''\n",
    "\n",
    "MODEL_NAME_OR_PATH = 'HooshvareLab/bert-fa-base-uncased'\n",
    "OUTPUT_PATH = '/resources/bert-fa-base-uncased-ner-taaghceh/tf_model.bin'"
   ],
   "id": "92efd02a087614ed",
   "outputs": [],
   "execution_count": 2
  },
  {
   "metadata": {},
   "cell_type": "markdown",
   "source": "# Preprocessing",
   "id": "9d37689fbb22d5a1"
  },
  {
   "metadata": {},
   "cell_type": "markdown",
   "source": "## Importing Libraries",
   "id": "4c13f7e86fcaa63c"
  },
  {
   "metadata": {
    "ExecuteTime": {
     "end_time": "2024-07-12T00:21:02.482676Z",
     "start_time": "2024-07-12T00:21:02.477780Z"
    }
   },
   "cell_type": "code",
   "source": "# !pip install hazm",
   "id": "ec0d6f29c48ac77f",
   "outputs": [],
   "execution_count": 3
  },
  {
   "cell_type": "code",
   "id": "initial_id",
   "metadata": {
    "collapsed": true,
    "ExecuteTime": {
     "end_time": "2024-07-12T00:21:05.123163Z",
     "start_time": "2024-07-12T00:21:02.486131Z"
    }
   },
   "source": [
    "import pandas as pd\n",
    "from tqdm.notebook import tqdm\n",
    "import numpy as np\n",
    "import re\n",
    "from hazm import InformalNormalizer, Normalizer\n",
    "from transformers import BertTokenizer\n",
    "import matplotlib.pyplot as plt\n",
    "import plotly.express as px\n",
    "import seaborn as sns"
   ],
   "outputs": [],
   "execution_count": 4
  },
  {
   "metadata": {},
   "cell_type": "markdown",
   "source": "## preprocessing prepared data (taghche.csv)",
   "id": "4a72882b8b66a224"
  },
  {
   "metadata": {
    "ExecuteTime": {
     "end_time": "2024-07-12T00:21:05.148640Z",
     "start_time": "2024-07-12T00:21:05.142314Z"
    }
   },
   "cell_type": "code",
   "source": "tqdm.pandas()",
   "id": "9cb972478f69efa7",
   "outputs": [],
   "execution_count": 6
  },
  {
   "metadata": {
    "ExecuteTime": {
     "end_time": "2024-07-12T00:21:06.023718Z",
     "start_time": "2024-07-12T00:21:05.151419Z"
    }
   },
   "cell_type": "code",
   "source": [
    "prepared_data: pd.DataFrame = pd.read_csv(url + 'datasets/taghche.csv')\n",
    "prepared_data = prepared_data[['comment', 'bookname', 'bookID']]"
   ],
   "id": "7cb80bd0b0a77a43",
   "outputs": [],
   "execution_count": 7
  },
  {
   "metadata": {
    "ExecuteTime": {
     "end_time": "2024-07-12T00:21:06.049918Z",
     "start_time": "2024-07-12T00:21:06.026821Z"
    }
   },
   "cell_type": "code",
   "source": "prepared_data.head()",
   "id": "39c9649220cdb5c",
   "outputs": [
    {
     "data": {
      "text/plain": [
       "                                             comment  \\\n",
       "0  اسم کتاب   No one writes to the Colonel\\nترجمش...   \n",
       "1  طاقچه عزیز،نام کتاب\"کسی به سرهنگ نامه نمینویسد...   \n",
       "2  بنظرم این اثر مارکز خیلی از صد سال تنهایی که ب...   \n",
       "3  به نظر کتاب خوبی میومد اما من از ترجمش خوشم نی...   \n",
       "4                                      کتاب خوبی است   \n",
       "\n",
       "                            bookname  bookID  \n",
       "0  سرهنگ کسی ندارد برایش نامه بنویسد     3.0  \n",
       "1  سرهنگ کسی ندارد برایش نامه بنویسد     3.0  \n",
       "2  سرهنگ کسی ندارد برایش نامه بنویسد     3.0  \n",
       "3  سرهنگ کسی ندارد برایش نامه بنویسد     3.0  \n",
       "4  سرهنگ کسی ندارد برایش نامه بنویسد     3.0  "
      ],
      "text/html": [
       "<div>\n",
       "<style scoped>\n",
       "    .dataframe tbody tr th:only-of-type {\n",
       "        vertical-align: middle;\n",
       "    }\n",
       "\n",
       "    .dataframe tbody tr th {\n",
       "        vertical-align: top;\n",
       "    }\n",
       "\n",
       "    .dataframe thead th {\n",
       "        text-align: right;\n",
       "    }\n",
       "</style>\n",
       "<table border=\"1\" class=\"dataframe\">\n",
       "  <thead>\n",
       "    <tr style=\"text-align: right;\">\n",
       "      <th></th>\n",
       "      <th>comment</th>\n",
       "      <th>bookname</th>\n",
       "      <th>bookID</th>\n",
       "    </tr>\n",
       "  </thead>\n",
       "  <tbody>\n",
       "    <tr>\n",
       "      <th>0</th>\n",
       "      <td>اسم کتاب   No one writes to the Colonel\\nترجمش...</td>\n",
       "      <td>سرهنگ کسی ندارد برایش نامه بنویسد</td>\n",
       "      <td>3.0</td>\n",
       "    </tr>\n",
       "    <tr>\n",
       "      <th>1</th>\n",
       "      <td>طاقچه عزیز،نام کتاب\"کسی به سرهنگ نامه نمینویسد...</td>\n",
       "      <td>سرهنگ کسی ندارد برایش نامه بنویسد</td>\n",
       "      <td>3.0</td>\n",
       "    </tr>\n",
       "    <tr>\n",
       "      <th>2</th>\n",
       "      <td>بنظرم این اثر مارکز خیلی از صد سال تنهایی که ب...</td>\n",
       "      <td>سرهنگ کسی ندارد برایش نامه بنویسد</td>\n",
       "      <td>3.0</td>\n",
       "    </tr>\n",
       "    <tr>\n",
       "      <th>3</th>\n",
       "      <td>به نظر کتاب خوبی میومد اما من از ترجمش خوشم نی...</td>\n",
       "      <td>سرهنگ کسی ندارد برایش نامه بنویسد</td>\n",
       "      <td>3.0</td>\n",
       "    </tr>\n",
       "    <tr>\n",
       "      <th>4</th>\n",
       "      <td>کتاب خوبی است</td>\n",
       "      <td>سرهنگ کسی ندارد برایش نامه بنویسد</td>\n",
       "      <td>3.0</td>\n",
       "    </tr>\n",
       "  </tbody>\n",
       "</table>\n",
       "</div>"
      ]
     },
     "execution_count": 8,
     "metadata": {},
     "output_type": "execute_result"
    }
   ],
   "execution_count": 8
  },
  {
   "metadata": {
    "ExecuteTime": {
     "end_time": "2024-07-12T00:21:06.067768Z",
     "start_time": "2024-07-12T00:21:06.053570Z"
    }
   },
   "cell_type": "code",
   "source": [
    "chars_stop_words = ''\n",
    "with open(url + 'stopwords/chars (without digits).txt', 'r', encoding='utf-8') as file:\n",
    "    chars_stop_words = ''.join(file.read().splitlines())\n",
    "\n",
    "chars_stop_words = chars_stop_words.replace('[', '\\[')\n",
    "chars_stop_words = chars_stop_words.replace(']', '\\]')\n",
    "chars_pattern = re.compile(f'[{chars_stop_words}]')\n",
    "chars_pattern"
   ],
   "id": "cdc6e545245eb941",
   "outputs": [
    {
     "data": {
      "text/plain": [
       "re.compile(r'[\\ufeff!\"#()*,-./:\\[\\]«»،؛؟…$ًٌٍَُِّْءٰٔ﷼]', re.UNICODE)"
      ]
     },
     "execution_count": 9,
     "metadata": {},
     "output_type": "execute_result"
    }
   ],
   "execution_count": 9
  },
  {
   "metadata": {
    "ExecuteTime": {
     "end_time": "2024-07-12T00:21:06.081974Z",
     "start_time": "2024-07-12T00:21:06.071530Z"
    }
   },
   "cell_type": "code",
   "source": [
    "# https://stackoverflow.com/questions/33404752/removing-emojis-from-a-string-in-python\n",
    "emojis_pattern = re.compile(\"[\"\n",
    "                            u\"\\U0001F600-\\U0001F64F\"  # emoticons\n",
    "                            u\"\\U0001F300-\\U0001F5FF\"  # symbols & pictographs\n",
    "                            u\"\\U0001F680-\\U0001F6FF\"  # transport & map symbols\n",
    "                            u\"\\U0001F1E0-\\U0001F1FF\"  # flags (iOS)\n",
    "                            \"]+\")\n",
    "emojis_pattern"
   ],
   "id": "482f0db945add9d9",
   "outputs": [
    {
     "data": {
      "text/plain": [
       "re.compile(r'[😀-🙏🌀-🗿🚀-\\U0001f6ff\\U0001f1e0-🇿]+', re.UNICODE)"
      ]
     },
     "execution_count": 10,
     "metadata": {},
     "output_type": "execute_result"
    }
   ],
   "execution_count": 10
  },
  {
   "metadata": {
    "ExecuteTime": {
     "end_time": "2024-07-12T00:21:06.100017Z",
     "start_time": "2024-07-12T00:21:06.085393Z"
    }
   },
   "cell_type": "code",
   "source": [
    "def elementary_preprocess(text):\n",
    "    global chars_pattern, emojis_pattern\n",
    "\n",
    "    text = str(text)\n",
    "    text = chars_pattern.sub(r' ', text)\n",
    "    text = emojis_pattern.sub(r' ', text)\n",
    "    return text.translate(str.maketrans('0123456789', '۰۱۲۳۴۵۶۷۸۹'))\n",
    "\n",
    "\n",
    "def higher_preprocess(text, is_informal=False):\n",
    "    global normalizer, tokenizer\n",
    "\n",
    "    text = str(text)\n",
    "    \n",
    "    if is_informal:\n",
    "        text = informal_normalizer_function(text)\n",
    "    else:\n",
    "        text = normalizer.normalize(text)\n",
    "    \n",
    "    text = tokenizer.tokenize(text)\n",
    "    return text\n",
    "\n",
    "\n",
    "# customizing InformalNormalizer().normalize()\n",
    "# For seeing differences, you can see InformalNormalizer().normalize() method\n",
    "def informal_normalizer_function(text):\n",
    "    global informal_normalizer\n",
    "    text = str(text)\n",
    "\n",
    "    informal_normalizer = InformalNormalizer()\n",
    "    text = Normalizer.normalize(informal_normalizer, text)\n",
    "    sents = [\n",
    "        informal_normalizer.word_tokenizer.tokenize(sentence)\n",
    "        for sentence in informal_normalizer.sent_tokenizer.tokenize(text)\n",
    "    ]\n",
    "\n",
    "    normalized = [[informal_normalizer.normalized_word(word)[0] for word in sent] for sent in sents]\n",
    "    normalized = np.array(normalized, dtype=object)\n",
    "    return np.hstack(normalized)"
   ],
   "id": "c47d76e4122aa05",
   "outputs": [],
   "execution_count": 11
  },
  {
   "metadata": {
    "ExecuteTime": {
     "end_time": "2024-07-12T00:21:19.725030Z",
     "start_time": "2024-07-12T00:21:06.104040Z"
    }
   },
   "cell_type": "code",
   "source": [
    "normalizer = Normalizer()\n",
    "informal_normalizer = InformalNormalizer()\n",
    "tokenizer = BertTokenizer.from_pretrained(MODEL_NAME_OR_PATH)"
   ],
   "id": "768f7384ff48150b",
   "outputs": [],
   "execution_count": 12
  },
  {
   "metadata": {
    "ExecuteTime": {
     "end_time": "2024-07-12T00:21:24.498014Z",
     "start_time": "2024-07-12T00:21:19.728465Z"
    }
   },
   "cell_type": "code",
   "source": [
    "for column in prepared_data.columns:\n",
    "    if column == 'bookID':\n",
    "        continue\n",
    "    \n",
    "    print(f'Column: {column}')\n",
    "    prepared_data[column] = prepared_data[column].progress_apply(elementary_preprocess)"
   ],
   "id": "1a2e33e86c613457",
   "outputs": [
    {
     "name": "stdout",
     "output_type": "stream",
     "text": [
      "Column: comment\n"
     ]
    },
    {
     "data": {
      "text/plain": [
       "  0%|          | 0/69829 [00:00<?, ?it/s]"
      ],
      "application/vnd.jupyter.widget-view+json": {
       "version_major": 2,
       "version_minor": 0,
       "model_id": "6e0d9e61d28d4290972d42d110f237cb"
      }
     },
     "metadata": {},
     "output_type": "display_data"
    },
    {
     "name": "stdout",
     "output_type": "stream",
     "text": [
      "Column: bookname\n"
     ]
    },
    {
     "data": {
      "text/plain": [
       "  0%|          | 0/69829 [00:00<?, ?it/s]"
      ],
      "application/vnd.jupyter.widget-view+json": {
       "version_major": 2,
       "version_minor": 0,
       "model_id": "e8168f95aedf40a7874af66dae4a87ce"
      }
     },
     "metadata": {},
     "output_type": "display_data"
    }
   ],
   "execution_count": 13
  },
  {
   "metadata": {
    "ExecuteTime": {
     "end_time": "2024-07-12T00:23:42.939605Z",
     "start_time": "2024-07-12T00:21:24.503575Z"
    }
   },
   "cell_type": "code",
   "source": [
    "# When you want to do informal normalization, uncomment following lines\n",
    "# for column in prepared_data.columns:\n",
    "#     if column == 'bookID':\n",
    "#         continue\n",
    "# \n",
    "#     progress_bar = tqdm(total=len(prepared_data[column]))\n",
    "#     prepared_data[column] = prepared_data[column].progress_apply(lambda x: higher_preprocess(x, True))\n",
    "\n",
    "\n",
    "for column in prepared_data.columns:\n",
    "    if column == 'bookID':\n",
    "        continue\n",
    "    \n",
    "    print(f'Column: {column}')\n",
    "    prepared_data[column] = prepared_data[column].progress_apply(higher_preprocess)"
   ],
   "id": "8d922b73601bd249",
   "outputs": [
    {
     "name": "stdout",
     "output_type": "stream",
     "text": [
      "Column: comment\n"
     ]
    },
    {
     "data": {
      "text/plain": [
       "  0%|          | 0/69829 [00:00<?, ?it/s]"
      ],
      "application/vnd.jupyter.widget-view+json": {
       "version_major": 2,
       "version_minor": 0,
       "model_id": "340b21958f8e4e6f9d2241236bca3770"
      }
     },
     "metadata": {},
     "output_type": "display_data"
    },
    {
     "name": "stdout",
     "output_type": "stream",
     "text": [
      "Column: bookname\n"
     ]
    },
    {
     "data": {
      "text/plain": [
       "  0%|          | 0/69829 [00:00<?, ?it/s]"
      ],
      "application/vnd.jupyter.widget-view+json": {
       "version_major": 2,
       "version_minor": 0,
       "model_id": "1336752e03424f248ba9cd98bb2a3c68"
      }
     },
     "metadata": {},
     "output_type": "display_data"
    }
   ],
   "execution_count": 14
  },
  {
   "metadata": {
    "ExecuteTime": {
     "end_time": "2024-07-12T00:23:42.944159Z",
     "start_time": "2024-07-12T00:23:42.941332Z"
    }
   },
   "cell_type": "code",
   "source": [
    "# prepared_data.to_csv('datasets/preprocessed/preprocessed_taghche.csv')\n",
    "# prepared_data = pd.read_csv('datasets/preprocessed/preprocessed_taghche.csv')"
   ],
   "id": "c8e7a6f999d7ac4b",
   "outputs": [],
   "execution_count": 15
  },
  {
   "metadata": {
    "ExecuteTime": {
     "end_time": "2024-07-12T00:23:42.983384Z",
     "start_time": "2024-07-12T00:23:42.945929Z"
    }
   },
   "cell_type": "code",
   "source": [
    "before_dropping = len(prepared_data)\n",
    "prepared_data = prepared_data[prepared_data['comment'].apply(lambda x: len(x)) != 0]\n",
    "print(f'Dropped {before_dropping - len(prepared_data)} rows with empty comment.')"
   ],
   "id": "4d199403352aaeba",
   "outputs": [
    {
     "name": "stdout",
     "output_type": "stream",
     "text": [
      "Dropped 434 rows with empty comment.\n"
     ]
    }
   ],
   "execution_count": 16
  },
  {
   "metadata": {
    "ExecuteTime": {
     "end_time": "2024-07-12T00:23:42.996824Z",
     "start_time": "2024-07-12T00:23:42.984959Z"
    }
   },
   "cell_type": "code",
   "source": [
    "before_dropping = len(prepared_data)\n",
    "prepared_data = prepared_data.dropna(subset=['bookID'])\n",
    "print(f'Dropped {before_dropping - len(prepared_data)} rows with NaN bookID.')"
   ],
   "id": "5bb1ad32b2d9bc3c",
   "outputs": [
    {
     "name": "stdout",
     "output_type": "stream",
     "text": [
      "Dropped 39 rows with NaN bookID.\n"
     ]
    }
   ],
   "execution_count": 17
  },
  {
   "metadata": {
    "ExecuteTime": {
     "end_time": "2024-07-12T00:23:43.010021Z",
     "start_time": "2024-07-12T00:23:42.998454Z"
    }
   },
   "cell_type": "code",
   "source": "prepared_data.head()",
   "id": "5cf151e8998318c0",
   "outputs": [
    {
     "data": {
      "text/plain": [
       "                                             comment  \\\n",
       "0  [اسم, کتاب, no, one, write, ##s, to, the, colo...   \n",
       "1  [طاقچه, عزیز, نام, کتاب, کسی, به, سرهنگ, نامه,...   \n",
       "2  [بنظرم, این, اثر, مارکز, خیلی, از, صد, سال, تن...   \n",
       "3  [به, نظر, کتاب, خوبی, میومد, اما, من, از, ترجم...   \n",
       "4                                  [کتاب, خوبی, است]   \n",
       "\n",
       "                                   bookname  bookID  \n",
       "0  [سرهنگ, کسی, ندارد, برایش, نامه, بنویسد]     3.0  \n",
       "1  [سرهنگ, کسی, ندارد, برایش, نامه, بنویسد]     3.0  \n",
       "2  [سرهنگ, کسی, ندارد, برایش, نامه, بنویسد]     3.0  \n",
       "3  [سرهنگ, کسی, ندارد, برایش, نامه, بنویسد]     3.0  \n",
       "4  [سرهنگ, کسی, ندارد, برایش, نامه, بنویسد]     3.0  "
      ],
      "text/html": [
       "<div>\n",
       "<style scoped>\n",
       "    .dataframe tbody tr th:only-of-type {\n",
       "        vertical-align: middle;\n",
       "    }\n",
       "\n",
       "    .dataframe tbody tr th {\n",
       "        vertical-align: top;\n",
       "    }\n",
       "\n",
       "    .dataframe thead th {\n",
       "        text-align: right;\n",
       "    }\n",
       "</style>\n",
       "<table border=\"1\" class=\"dataframe\">\n",
       "  <thead>\n",
       "    <tr style=\"text-align: right;\">\n",
       "      <th></th>\n",
       "      <th>comment</th>\n",
       "      <th>bookname</th>\n",
       "      <th>bookID</th>\n",
       "    </tr>\n",
       "  </thead>\n",
       "  <tbody>\n",
       "    <tr>\n",
       "      <th>0</th>\n",
       "      <td>[اسم, کتاب, no, one, write, ##s, to, the, colo...</td>\n",
       "      <td>[سرهنگ, کسی, ندارد, برایش, نامه, بنویسد]</td>\n",
       "      <td>3.0</td>\n",
       "    </tr>\n",
       "    <tr>\n",
       "      <th>1</th>\n",
       "      <td>[طاقچه, عزیز, نام, کتاب, کسی, به, سرهنگ, نامه,...</td>\n",
       "      <td>[سرهنگ, کسی, ندارد, برایش, نامه, بنویسد]</td>\n",
       "      <td>3.0</td>\n",
       "    </tr>\n",
       "    <tr>\n",
       "      <th>2</th>\n",
       "      <td>[بنظرم, این, اثر, مارکز, خیلی, از, صد, سال, تن...</td>\n",
       "      <td>[سرهنگ, کسی, ندارد, برایش, نامه, بنویسد]</td>\n",
       "      <td>3.0</td>\n",
       "    </tr>\n",
       "    <tr>\n",
       "      <th>3</th>\n",
       "      <td>[به, نظر, کتاب, خوبی, میومد, اما, من, از, ترجم...</td>\n",
       "      <td>[سرهنگ, کسی, ندارد, برایش, نامه, بنویسد]</td>\n",
       "      <td>3.0</td>\n",
       "    </tr>\n",
       "    <tr>\n",
       "      <th>4</th>\n",
       "      <td>[کتاب, خوبی, است]</td>\n",
       "      <td>[سرهنگ, کسی, ندارد, برایش, نامه, بنویسد]</td>\n",
       "      <td>3.0</td>\n",
       "    </tr>\n",
       "  </tbody>\n",
       "</table>\n",
       "</div>"
      ]
     },
     "execution_count": 18,
     "metadata": {},
     "output_type": "execute_result"
    }
   ],
   "execution_count": 18
  },
  {
   "metadata": {},
   "cell_type": "markdown",
   "source": "## preprocessing crawled data (books_data_part_*.csv)",
   "id": "179d807f698aa99d"
  },
  {
   "metadata": {
    "ExecuteTime": {
     "end_time": "2024-07-12T00:23:44.008994Z",
     "start_time": "2024-07-12T00:23:43.011531Z"
    }
   },
   "cell_type": "code",
   "source": [
    "ALL_PARTS_LEN = 19\n",
    "crawled_data: pd.DataFrame = pd.read_csv(url + 'datasets/books data/books_data_part_1.csv')\n",
    "for i in range(2, ALL_PARTS_LEN + 1):\n",
    "    crawled_data = pd.concat([crawled_data, pd.read_csv(url + f'datasets/books data/books_data_part_{i}.csv')],\n",
    "                             ignore_index=True)"
   ],
   "id": "f678b637be8a6efa",
   "outputs": [],
   "execution_count": 19
  },
  {
   "metadata": {
    "ExecuteTime": {
     "end_time": "2024-07-12T00:23:44.143735Z",
     "start_time": "2024-07-12T00:23:44.010909Z"
    }
   },
   "cell_type": "code",
   "source": [
    "# sort authors in order to drop duplicates\n",
    "new_author_function = lambda x: ' $ '.join(sorted(str(x).split(' $ ')))\n",
    "crawled_data['author'] = crawled_data['author'].apply(new_author_function)"
   ],
   "id": "ff1cbabd15f9188b",
   "outputs": [],
   "execution_count": 20
  },
  {
   "metadata": {
    "ExecuteTime": {
     "end_time": "2024-07-12T00:23:44.340430Z",
     "start_time": "2024-07-12T00:23:44.146603Z"
    }
   },
   "cell_type": "code",
   "source": [
    "before_dropping = len(crawled_data)\n",
    "crawled_data = crawled_data.drop_duplicates()\n",
    "print(f'Dropped {before_dropping - len(crawled_data)} duplicates.')"
   ],
   "id": "8addcbf40d35a222",
   "outputs": [
    {
     "name": "stdout",
     "output_type": "stream",
     "text": [
      "Dropped 4 duplicates.\n"
     ]
    }
   ],
   "execution_count": 21
  },
  {
   "metadata": {
    "ExecuteTime": {
     "end_time": "2024-07-12T00:23:44.369508Z",
     "start_time": "2024-07-12T00:23:44.342333Z"
    }
   },
   "cell_type": "code",
   "source": [
    "before_dropping = len(crawled_data)\n",
    "crawled_data = crawled_data.dropna(subset=['id'])\n",
    "print(f'Dropped {before_dropping - len(crawled_data)} rows with NaN id.')"
   ],
   "id": "1c134bc193d21398",
   "outputs": [
    {
     "name": "stdout",
     "output_type": "stream",
     "text": [
      "Dropped 1 rows with NaN id.\n"
     ]
    }
   ],
   "execution_count": 22
  },
  {
   "metadata": {
    "ExecuteTime": {
     "end_time": "2024-07-12T00:23:44.738112Z",
     "start_time": "2024-07-12T00:23:44.371132Z"
    }
   },
   "cell_type": "code",
   "source": [
    "new_author_function = lambda x: set(x.split(' $ '))\n",
    "crawled_data['author'] = crawled_data['author'].apply(new_author_function)"
   ],
   "id": "1f93ea702e5c13d6",
   "outputs": [],
   "execution_count": 23
  },
  {
   "metadata": {
    "ExecuteTime": {
     "end_time": "2024-07-12T00:23:45.076682Z",
     "start_time": "2024-07-12T00:23:44.740143Z"
    }
   },
   "cell_type": "code",
   "source": [
    "# convert each author to an independent row\n",
    "# because I want to find each author independently in the comments\n",
    "crawled_data = crawled_data.explode('author')\n",
    "crawled_data = crawled_data.reset_index(drop=True)"
   ],
   "id": "8e55c2dd1a7edaf2",
   "outputs": [],
   "execution_count": 24
  },
  {
   "metadata": {
    "ExecuteTime": {
     "end_time": "2024-07-12T00:23:49.709378Z",
     "start_time": "2024-07-12T00:23:45.078279Z"
    }
   },
   "cell_type": "code",
   "source": [
    "for column in crawled_data.columns:\n",
    "    if column == 'id':\n",
    "        continue\n",
    "    \n",
    "    print(f'Column: {column}')\n",
    "    crawled_data[column] = crawled_data[column].progress_apply(elementary_preprocess)"
   ],
   "id": "42255665d4587372",
   "outputs": [
    {
     "name": "stdout",
     "output_type": "stream",
     "text": [
      "Column: name\n"
     ]
    },
    {
     "data": {
      "text/plain": [
       "  0%|          | 0/200574 [00:00<?, ?it/s]"
      ],
      "application/vnd.jupyter.widget-view+json": {
       "version_major": 2,
       "version_minor": 0,
       "model_id": "8177c35172e74a5cb62e6e1644499689"
      }
     },
     "metadata": {},
     "output_type": "display_data"
    },
    {
     "name": "stdout",
     "output_type": "stream",
     "text": [
      "Column: author\n"
     ]
    },
    {
     "data": {
      "text/plain": [
       "  0%|          | 0/200574 [00:00<?, ?it/s]"
      ],
      "application/vnd.jupyter.widget-view+json": {
       "version_major": 2,
       "version_minor": 0,
       "model_id": "e0cbef6bc95f435a9b8a6fb304240df7"
      }
     },
     "metadata": {},
     "output_type": "display_data"
    },
    {
     "name": "stdout",
     "output_type": "stream",
     "text": [
      "Column: translator\n"
     ]
    },
    {
     "data": {
      "text/plain": [
       "  0%|          | 0/200574 [00:00<?, ?it/s]"
      ],
      "application/vnd.jupyter.widget-view+json": {
       "version_major": 2,
       "version_minor": 0,
       "model_id": "77836a82e91549659f1ef6ba31112987"
      }
     },
     "metadata": {},
     "output_type": "display_data"
    },
    {
     "name": "stdout",
     "output_type": "stream",
     "text": [
      "Column: publisher\n"
     ]
    },
    {
     "data": {
      "text/plain": [
       "  0%|          | 0/200574 [00:00<?, ?it/s]"
      ],
      "application/vnd.jupyter.widget-view+json": {
       "version_major": 2,
       "version_minor": 0,
       "model_id": "4b5ea7d12e504e81840067a079c45343"
      }
     },
     "metadata": {},
     "output_type": "display_data"
    }
   ],
   "execution_count": 25
  },
  {
   "metadata": {
    "ExecuteTime": {
     "end_time": "2024-07-12T00:28:18.722611Z",
     "start_time": "2024-07-12T00:23:49.711646Z"
    }
   },
   "cell_type": "code",
   "source": [
    "for column in crawled_data.columns:\n",
    "    if column == 'id':\n",
    "        continue\n",
    "        \n",
    "    print(f'Column: {column}')\n",
    "    crawled_data[column] = crawled_data[column].progress_apply(higher_preprocess)"
   ],
   "id": "c898c607f0faea14",
   "outputs": [
    {
     "name": "stdout",
     "output_type": "stream",
     "text": [
      "Column: name\n"
     ]
    },
    {
     "data": {
      "text/plain": [
       "  0%|          | 0/200574 [00:00<?, ?it/s]"
      ],
      "application/vnd.jupyter.widget-view+json": {
       "version_major": 2,
       "version_minor": 0,
       "model_id": "bfd9e019beb04bb4a4fb2431171002fb"
      }
     },
     "metadata": {},
     "output_type": "display_data"
    },
    {
     "name": "stdout",
     "output_type": "stream",
     "text": [
      "Column: author\n"
     ]
    },
    {
     "data": {
      "text/plain": [
       "  0%|          | 0/200574 [00:00<?, ?it/s]"
      ],
      "application/vnd.jupyter.widget-view+json": {
       "version_major": 2,
       "version_minor": 0,
       "model_id": "5e3ba76f2c4d47f0bfe400729746f746"
      }
     },
     "metadata": {},
     "output_type": "display_data"
    },
    {
     "name": "stdout",
     "output_type": "stream",
     "text": [
      "Column: translator\n"
     ]
    },
    {
     "data": {
      "text/plain": [
       "  0%|          | 0/200574 [00:00<?, ?it/s]"
      ],
      "application/vnd.jupyter.widget-view+json": {
       "version_major": 2,
       "version_minor": 0,
       "model_id": "3070126c50b44712aa15713bedec25fe"
      }
     },
     "metadata": {},
     "output_type": "display_data"
    },
    {
     "name": "stdout",
     "output_type": "stream",
     "text": [
      "Column: publisher\n"
     ]
    },
    {
     "data": {
      "text/plain": [
       "  0%|          | 0/200574 [00:00<?, ?it/s]"
      ],
      "application/vnd.jupyter.widget-view+json": {
       "version_major": 2,
       "version_minor": 0,
       "model_id": "7dc3c31509f4445eb602776d13924c38"
      }
     },
     "metadata": {},
     "output_type": "display_data"
    }
   ],
   "execution_count": 26
  },
  {
   "metadata": {
    "ExecuteTime": {
     "end_time": "2024-07-12T00:28:18.727161Z",
     "start_time": "2024-07-12T00:28:18.724097Z"
    }
   },
   "cell_type": "code",
   "source": [
    "# crawled_data.to_csv('datasets/preprocessed/crawled_data.csv')\n",
    "# crawled_data = pd.read_csv('datasets/preprocessed/crawled_data.csv')"
   ],
   "id": "e5d3d9e85451838",
   "outputs": [],
   "execution_count": 27
  },
  {
   "metadata": {
    "ExecuteTime": {
     "end_time": "2024-07-12T00:28:18.740703Z",
     "start_time": "2024-07-12T00:28:18.728456Z"
    }
   },
   "cell_type": "code",
   "source": "crawled_data.head()",
   "id": "ec0a823d1aa82bc0",
   "outputs": [
    {
     "data": {
      "text/plain": [
       "         id                                             name  \\\n",
       "0     100.0    [هفت, گام, برای, شروع, موفق, یک, کسب, و, کار]   \n",
       "1    1000.0                                   [ارزوی, شهادت]   \n",
       "2   10000.0                   [شرق, ۱۳۹۵, سهشنبه, ۱۸, خرداد]   \n",
       "3  100000.0       [محمدعلی, فروغی, و, ساختارهای, نوین, مدنی]   \n",
       "4  100001.0  [روزنامه, سازندگی, شماره, ۹۵۷, ۲۲, خرداد, ۱۴۰۰]   \n",
       "\n",
       "                  author                           translator  \\\n",
       "0            [نعیم, ظفر]  [محسن, سحر, حاجیان, ##ی, بحری, ##ه]   \n",
       "1  [سید, اسماعیل, گوهری]                                [nan]   \n",
       "2                  [nan]                                [nan]   \n",
       "3   [علیاصغر, حق, ##دار]                                [nan]   \n",
       "4                  [nan]                                [nan]   \n",
       "\n",
       "                           publisher  \n",
       "0  [انتشارات, سازمان, مدیریت, صنعتی]  \n",
       "1   [انتشارات, علمی, فرهنگی, الحیاة]  \n",
       "2                     [روزنامه, شرق]  \n",
       "3                   [انتشارات, کویر]  \n",
       "4                 [روزنامه, سازندگی]  "
      ],
      "text/html": [
       "<div>\n",
       "<style scoped>\n",
       "    .dataframe tbody tr th:only-of-type {\n",
       "        vertical-align: middle;\n",
       "    }\n",
       "\n",
       "    .dataframe tbody tr th {\n",
       "        vertical-align: top;\n",
       "    }\n",
       "\n",
       "    .dataframe thead th {\n",
       "        text-align: right;\n",
       "    }\n",
       "</style>\n",
       "<table border=\"1\" class=\"dataframe\">\n",
       "  <thead>\n",
       "    <tr style=\"text-align: right;\">\n",
       "      <th></th>\n",
       "      <th>id</th>\n",
       "      <th>name</th>\n",
       "      <th>author</th>\n",
       "      <th>translator</th>\n",
       "      <th>publisher</th>\n",
       "    </tr>\n",
       "  </thead>\n",
       "  <tbody>\n",
       "    <tr>\n",
       "      <th>0</th>\n",
       "      <td>100.0</td>\n",
       "      <td>[هفت, گام, برای, شروع, موفق, یک, کسب, و, کار]</td>\n",
       "      <td>[نعیم, ظفر]</td>\n",
       "      <td>[محسن, سحر, حاجیان, ##ی, بحری, ##ه]</td>\n",
       "      <td>[انتشارات, سازمان, مدیریت, صنعتی]</td>\n",
       "    </tr>\n",
       "    <tr>\n",
       "      <th>1</th>\n",
       "      <td>1000.0</td>\n",
       "      <td>[ارزوی, شهادت]</td>\n",
       "      <td>[سید, اسماعیل, گوهری]</td>\n",
       "      <td>[nan]</td>\n",
       "      <td>[انتشارات, علمی, فرهنگی, الحیاة]</td>\n",
       "    </tr>\n",
       "    <tr>\n",
       "      <th>2</th>\n",
       "      <td>10000.0</td>\n",
       "      <td>[شرق, ۱۳۹۵, سهشنبه, ۱۸, خرداد]</td>\n",
       "      <td>[nan]</td>\n",
       "      <td>[nan]</td>\n",
       "      <td>[روزنامه, شرق]</td>\n",
       "    </tr>\n",
       "    <tr>\n",
       "      <th>3</th>\n",
       "      <td>100000.0</td>\n",
       "      <td>[محمدعلی, فروغی, و, ساختارهای, نوین, مدنی]</td>\n",
       "      <td>[علیاصغر, حق, ##دار]</td>\n",
       "      <td>[nan]</td>\n",
       "      <td>[انتشارات, کویر]</td>\n",
       "    </tr>\n",
       "    <tr>\n",
       "      <th>4</th>\n",
       "      <td>100001.0</td>\n",
       "      <td>[روزنامه, سازندگی, شماره, ۹۵۷, ۲۲, خرداد, ۱۴۰۰]</td>\n",
       "      <td>[nan]</td>\n",
       "      <td>[nan]</td>\n",
       "      <td>[روزنامه, سازندگی]</td>\n",
       "    </tr>\n",
       "  </tbody>\n",
       "</table>\n",
       "</div>"
      ]
     },
     "execution_count": 28,
     "metadata": {},
     "output_type": "execute_result"
    }
   ],
   "execution_count": 28
  },
  {
   "metadata": {},
   "cell_type": "markdown",
   "source": "## Merging prepared and crawled data",
   "id": "6c2d332fde0e6969"
  },
  {
   "metadata": {
    "ExecuteTime": {
     "end_time": "2024-07-12T00:28:18.814520Z",
     "start_time": "2024-07-12T00:28:18.755612Z"
    }
   },
   "cell_type": "code",
   "source": [
    "data: pd.DataFrame = pd.merge(prepared_data, crawled_data, left_on='bookID', right_on='id')\n",
    "data = data.drop(columns=['bookID'])"
   ],
   "id": "79cdc3b0574b3e54",
   "outputs": [],
   "execution_count": 29
  },
  {
   "metadata": {
    "ExecuteTime": {
     "end_time": "2024-07-12T00:28:18.820064Z",
     "start_time": "2024-07-12T00:28:18.816471Z"
    }
   },
   "cell_type": "code",
   "source": [
    "print(f'Prepared data: {len(prepared_data)}')\n",
    "print(f'Crawled data: {len(crawled_data)}')\n",
    "print(f'Merged data: {len(data)}')"
   ],
   "id": "967af55d3126ea9f",
   "outputs": [
    {
     "name": "stdout",
     "output_type": "stream",
     "text": [
      "Prepared data: 69356\n",
      "Crawled data: 200574\n",
      "Merged data: 74383\n"
     ]
    }
   ],
   "execution_count": 30
  },
  {
   "metadata": {
    "ExecuteTime": {
     "end_time": "2024-07-12T00:28:18.838519Z",
     "start_time": "2024-07-12T00:28:18.821719Z"
    }
   },
   "cell_type": "code",
   "source": "data.head()",
   "id": "5f4e25306c7e92e",
   "outputs": [
    {
     "data": {
      "text/plain": [
       "                                             comment  \\\n",
       "0  [اسم, کتاب, no, one, write, ##s, to, the, colo...   \n",
       "1  [طاقچه, عزیز, نام, کتاب, کسی, به, سرهنگ, نامه,...   \n",
       "2  [بنظرم, این, اثر, مارکز, خیلی, از, صد, سال, تن...   \n",
       "3  [به, نظر, کتاب, خوبی, میومد, اما, من, از, ترجم...   \n",
       "4                                  [کتاب, خوبی, است]   \n",
       "\n",
       "                                   bookname   id  \\\n",
       "0  [سرهنگ, کسی, ندارد, برایش, نامه, بنویسد]  3.0   \n",
       "1  [سرهنگ, کسی, ندارد, برایش, نامه, بنویسد]  3.0   \n",
       "2  [سرهنگ, کسی, ندارد, برایش, نامه, بنویسد]  3.0   \n",
       "3  [سرهنگ, کسی, ندارد, برایش, نامه, بنویسد]  3.0   \n",
       "4  [سرهنگ, کسی, ندارد, برایش, نامه, بنویسد]  3.0   \n",
       "\n",
       "                                       name                   author  \\\n",
       "0  [سرهنگ, کسی, ندارد, برایش, نامه, بنویسد]  [گابریل, گارسیا, مارکز]   \n",
       "1  [سرهنگ, کسی, ندارد, برایش, نامه, بنویسد]  [گابریل, گارسیا, مارکز]   \n",
       "2  [سرهنگ, کسی, ندارد, برایش, نامه, بنویسد]  [گابریل, گارسیا, مارکز]   \n",
       "3  [سرهنگ, کسی, ندارد, برایش, نامه, بنویسد]  [گابریل, گارسیا, مارکز]   \n",
       "4  [سرهنگ, کسی, ندارد, برایش, نامه, بنویسد]  [گابریل, گارسیا, مارکز]   \n",
       "\n",
       "        translator                          publisher  \n",
       "0  [نازنین, نوذری]  [موسسه, فرهنگی, هنری, نوروز, هنر]  \n",
       "1  [نازنین, نوذری]  [موسسه, فرهنگی, هنری, نوروز, هنر]  \n",
       "2  [نازنین, نوذری]  [موسسه, فرهنگی, هنری, نوروز, هنر]  \n",
       "3  [نازنین, نوذری]  [موسسه, فرهنگی, هنری, نوروز, هنر]  \n",
       "4  [نازنین, نوذری]  [موسسه, فرهنگی, هنری, نوروز, هنر]  "
      ],
      "text/html": [
       "<div>\n",
       "<style scoped>\n",
       "    .dataframe tbody tr th:only-of-type {\n",
       "        vertical-align: middle;\n",
       "    }\n",
       "\n",
       "    .dataframe tbody tr th {\n",
       "        vertical-align: top;\n",
       "    }\n",
       "\n",
       "    .dataframe thead th {\n",
       "        text-align: right;\n",
       "    }\n",
       "</style>\n",
       "<table border=\"1\" class=\"dataframe\">\n",
       "  <thead>\n",
       "    <tr style=\"text-align: right;\">\n",
       "      <th></th>\n",
       "      <th>comment</th>\n",
       "      <th>bookname</th>\n",
       "      <th>id</th>\n",
       "      <th>name</th>\n",
       "      <th>author</th>\n",
       "      <th>translator</th>\n",
       "      <th>publisher</th>\n",
       "    </tr>\n",
       "  </thead>\n",
       "  <tbody>\n",
       "    <tr>\n",
       "      <th>0</th>\n",
       "      <td>[اسم, کتاب, no, one, write, ##s, to, the, colo...</td>\n",
       "      <td>[سرهنگ, کسی, ندارد, برایش, نامه, بنویسد]</td>\n",
       "      <td>3.0</td>\n",
       "      <td>[سرهنگ, کسی, ندارد, برایش, نامه, بنویسد]</td>\n",
       "      <td>[گابریل, گارسیا, مارکز]</td>\n",
       "      <td>[نازنین, نوذری]</td>\n",
       "      <td>[موسسه, فرهنگی, هنری, نوروز, هنر]</td>\n",
       "    </tr>\n",
       "    <tr>\n",
       "      <th>1</th>\n",
       "      <td>[طاقچه, عزیز, نام, کتاب, کسی, به, سرهنگ, نامه,...</td>\n",
       "      <td>[سرهنگ, کسی, ندارد, برایش, نامه, بنویسد]</td>\n",
       "      <td>3.0</td>\n",
       "      <td>[سرهنگ, کسی, ندارد, برایش, نامه, بنویسد]</td>\n",
       "      <td>[گابریل, گارسیا, مارکز]</td>\n",
       "      <td>[نازنین, نوذری]</td>\n",
       "      <td>[موسسه, فرهنگی, هنری, نوروز, هنر]</td>\n",
       "    </tr>\n",
       "    <tr>\n",
       "      <th>2</th>\n",
       "      <td>[بنظرم, این, اثر, مارکز, خیلی, از, صد, سال, تن...</td>\n",
       "      <td>[سرهنگ, کسی, ندارد, برایش, نامه, بنویسد]</td>\n",
       "      <td>3.0</td>\n",
       "      <td>[سرهنگ, کسی, ندارد, برایش, نامه, بنویسد]</td>\n",
       "      <td>[گابریل, گارسیا, مارکز]</td>\n",
       "      <td>[نازنین, نوذری]</td>\n",
       "      <td>[موسسه, فرهنگی, هنری, نوروز, هنر]</td>\n",
       "    </tr>\n",
       "    <tr>\n",
       "      <th>3</th>\n",
       "      <td>[به, نظر, کتاب, خوبی, میومد, اما, من, از, ترجم...</td>\n",
       "      <td>[سرهنگ, کسی, ندارد, برایش, نامه, بنویسد]</td>\n",
       "      <td>3.0</td>\n",
       "      <td>[سرهنگ, کسی, ندارد, برایش, نامه, بنویسد]</td>\n",
       "      <td>[گابریل, گارسیا, مارکز]</td>\n",
       "      <td>[نازنین, نوذری]</td>\n",
       "      <td>[موسسه, فرهنگی, هنری, نوروز, هنر]</td>\n",
       "    </tr>\n",
       "    <tr>\n",
       "      <th>4</th>\n",
       "      <td>[کتاب, خوبی, است]</td>\n",
       "      <td>[سرهنگ, کسی, ندارد, برایش, نامه, بنویسد]</td>\n",
       "      <td>3.0</td>\n",
       "      <td>[سرهنگ, کسی, ندارد, برایش, نامه, بنویسد]</td>\n",
       "      <td>[گابریل, گارسیا, مارکز]</td>\n",
       "      <td>[نازنین, نوذری]</td>\n",
       "      <td>[موسسه, فرهنگی, هنری, نوروز, هنر]</td>\n",
       "    </tr>\n",
       "  </tbody>\n",
       "</table>\n",
       "</div>"
      ]
     },
     "execution_count": 31,
     "metadata": {},
     "output_type": "execute_result"
    }
   ],
   "execution_count": 31
  },
  {
   "metadata": {
    "ExecuteTime": {
     "end_time": "2024-07-12T00:28:18.842576Z",
     "start_time": "2024-07-12T00:28:18.840188Z"
    }
   },
   "cell_type": "code",
   "source": [
    "# data.to_csv('datasets/preprocessed/data.csv')\n",
    "# data = pd.read_csv('datasets/preprocessed/data.csv')"
   ],
   "id": "ecd8d742cd5cf65b",
   "outputs": [],
   "execution_count": 32
  },
  {
   "metadata": {
    "ExecuteTime": {
     "end_time": "2024-07-12T00:28:18.891245Z",
     "start_time": "2024-07-12T00:28:18.844155Z"
    }
   },
   "cell_type": "code",
   "source": [
    "crawled_books = set(crawled_data['id'].values)\n",
    "prepared_books = prepared_data[['bookID']].copy()\n",
    "\n",
    "unavailable_books = prepared_books[~prepared_books['bookID'].apply(lambda x: x in crawled_books)]\n",
    "unavailable_books = unavailable_books.drop_duplicates()\n",
    "print(f'Unavailable books (The page has 404 error): {len(unavailable_books)}')\n",
    "unavailable_books"
   ],
   "id": "df0cad4265c94e6e",
   "outputs": [
    {
     "name": "stdout",
     "output_type": "stream",
     "text": [
      "Unavailable books (The page has 404 error): 10\n"
     ]
    },
    {
     "data": {
      "text/plain": [
       "        bookID\n",
       "7458       1.0\n",
       "7682       2.0\n",
       "21944      0.0\n",
       "26052      7.0\n",
       "30150      6.0\n",
       "41373     10.0\n",
       "49272      4.0\n",
       "52089  30658.0\n",
       "52636  30925.0\n",
       "58179  38430.0"
      ],
      "text/html": [
       "<div>\n",
       "<style scoped>\n",
       "    .dataframe tbody tr th:only-of-type {\n",
       "        vertical-align: middle;\n",
       "    }\n",
       "\n",
       "    .dataframe tbody tr th {\n",
       "        vertical-align: top;\n",
       "    }\n",
       "\n",
       "    .dataframe thead th {\n",
       "        text-align: right;\n",
       "    }\n",
       "</style>\n",
       "<table border=\"1\" class=\"dataframe\">\n",
       "  <thead>\n",
       "    <tr style=\"text-align: right;\">\n",
       "      <th></th>\n",
       "      <th>bookID</th>\n",
       "    </tr>\n",
       "  </thead>\n",
       "  <tbody>\n",
       "    <tr>\n",
       "      <th>7458</th>\n",
       "      <td>1.0</td>\n",
       "    </tr>\n",
       "    <tr>\n",
       "      <th>7682</th>\n",
       "      <td>2.0</td>\n",
       "    </tr>\n",
       "    <tr>\n",
       "      <th>21944</th>\n",
       "      <td>0.0</td>\n",
       "    </tr>\n",
       "    <tr>\n",
       "      <th>26052</th>\n",
       "      <td>7.0</td>\n",
       "    </tr>\n",
       "    <tr>\n",
       "      <th>30150</th>\n",
       "      <td>6.0</td>\n",
       "    </tr>\n",
       "    <tr>\n",
       "      <th>41373</th>\n",
       "      <td>10.0</td>\n",
       "    </tr>\n",
       "    <tr>\n",
       "      <th>49272</th>\n",
       "      <td>4.0</td>\n",
       "    </tr>\n",
       "    <tr>\n",
       "      <th>52089</th>\n",
       "      <td>30658.0</td>\n",
       "    </tr>\n",
       "    <tr>\n",
       "      <th>52636</th>\n",
       "      <td>30925.0</td>\n",
       "    </tr>\n",
       "    <tr>\n",
       "      <th>58179</th>\n",
       "      <td>38430.0</td>\n",
       "    </tr>\n",
       "  </tbody>\n",
       "</table>\n",
       "</div>"
      ]
     },
     "execution_count": 33,
     "metadata": {},
     "output_type": "execute_result"
    }
   ],
   "execution_count": 33
  },
  {
   "metadata": {
    "ExecuteTime": {
     "end_time": "2024-07-12T00:28:18.897655Z",
     "start_time": "2024-07-12T00:28:18.892867Z"
    }
   },
   "cell_type": "code",
   "source": [
    "with open('unavailable_books_list.txt', 'w', encoding='utf-8') as file:\n",
    "    unavailable_books_list = unavailable_books['bookID'].values.flatten()\n",
    "    unavailable_books_list = unavailable_books_list[~np.isnan(unavailable_books_list)]\n",
    "    unavailable_books_list = unavailable_books_list.astype(int)\n",
    "    unavailable_books_list = unavailable_books_list.tolist()\n",
    "    unavailable_books_list = sorted(list(set(unavailable_books_list)))\n",
    "    file.write(str(unavailable_books_list))"
   ],
   "id": "e6be46dd4731bf2d",
   "outputs": [],
   "execution_count": 34
  },
  {
   "metadata": {},
   "cell_type": "markdown",
   "source": "# Labeling",
   "id": "1842cadb0c4920f1"
  },
  {
   "metadata": {
    "ExecuteTime": {
     "end_time": "2024-07-12T00:28:18.943347Z",
     "start_time": "2024-07-12T00:28:18.899571Z"
    }
   },
   "cell_type": "code",
   "source": [
    "labeled_data = data.copy()\n",
    "labeled_data['label'] = [[0]] * len(labeled_data)\n",
    "labeled_data.head()"
   ],
   "id": "3fd9015e9e792f06",
   "outputs": [
    {
     "data": {
      "text/plain": [
       "                                             comment  \\\n",
       "0  [اسم, کتاب, no, one, write, ##s, to, the, colo...   \n",
       "1  [طاقچه, عزیز, نام, کتاب, کسی, به, سرهنگ, نامه,...   \n",
       "2  [بنظرم, این, اثر, مارکز, خیلی, از, صد, سال, تن...   \n",
       "3  [به, نظر, کتاب, خوبی, میومد, اما, من, از, ترجم...   \n",
       "4                                  [کتاب, خوبی, است]   \n",
       "\n",
       "                                   bookname   id  \\\n",
       "0  [سرهنگ, کسی, ندارد, برایش, نامه, بنویسد]  3.0   \n",
       "1  [سرهنگ, کسی, ندارد, برایش, نامه, بنویسد]  3.0   \n",
       "2  [سرهنگ, کسی, ندارد, برایش, نامه, بنویسد]  3.0   \n",
       "3  [سرهنگ, کسی, ندارد, برایش, نامه, بنویسد]  3.0   \n",
       "4  [سرهنگ, کسی, ندارد, برایش, نامه, بنویسد]  3.0   \n",
       "\n",
       "                                       name                   author  \\\n",
       "0  [سرهنگ, کسی, ندارد, برایش, نامه, بنویسد]  [گابریل, گارسیا, مارکز]   \n",
       "1  [سرهنگ, کسی, ندارد, برایش, نامه, بنویسد]  [گابریل, گارسیا, مارکز]   \n",
       "2  [سرهنگ, کسی, ندارد, برایش, نامه, بنویسد]  [گابریل, گارسیا, مارکز]   \n",
       "3  [سرهنگ, کسی, ندارد, برایش, نامه, بنویسد]  [گابریل, گارسیا, مارکز]   \n",
       "4  [سرهنگ, کسی, ندارد, برایش, نامه, بنویسد]  [گابریل, گارسیا, مارکز]   \n",
       "\n",
       "        translator                          publisher label  \n",
       "0  [نازنین, نوذری]  [موسسه, فرهنگی, هنری, نوروز, هنر]   [0]  \n",
       "1  [نازنین, نوذری]  [موسسه, فرهنگی, هنری, نوروز, هنر]   [0]  \n",
       "2  [نازنین, نوذری]  [موسسه, فرهنگی, هنری, نوروز, هنر]   [0]  \n",
       "3  [نازنین, نوذری]  [موسسه, فرهنگی, هنری, نوروز, هنر]   [0]  \n",
       "4  [نازنین, نوذری]  [موسسه, فرهنگی, هنری, نوروز, هنر]   [0]  "
      ],
      "text/html": [
       "<div>\n",
       "<style scoped>\n",
       "    .dataframe tbody tr th:only-of-type {\n",
       "        vertical-align: middle;\n",
       "    }\n",
       "\n",
       "    .dataframe tbody tr th {\n",
       "        vertical-align: top;\n",
       "    }\n",
       "\n",
       "    .dataframe thead th {\n",
       "        text-align: right;\n",
       "    }\n",
       "</style>\n",
       "<table border=\"1\" class=\"dataframe\">\n",
       "  <thead>\n",
       "    <tr style=\"text-align: right;\">\n",
       "      <th></th>\n",
       "      <th>comment</th>\n",
       "      <th>bookname</th>\n",
       "      <th>id</th>\n",
       "      <th>name</th>\n",
       "      <th>author</th>\n",
       "      <th>translator</th>\n",
       "      <th>publisher</th>\n",
       "      <th>label</th>\n",
       "    </tr>\n",
       "  </thead>\n",
       "  <tbody>\n",
       "    <tr>\n",
       "      <th>0</th>\n",
       "      <td>[اسم, کتاب, no, one, write, ##s, to, the, colo...</td>\n",
       "      <td>[سرهنگ, کسی, ندارد, برایش, نامه, بنویسد]</td>\n",
       "      <td>3.0</td>\n",
       "      <td>[سرهنگ, کسی, ندارد, برایش, نامه, بنویسد]</td>\n",
       "      <td>[گابریل, گارسیا, مارکز]</td>\n",
       "      <td>[نازنین, نوذری]</td>\n",
       "      <td>[موسسه, فرهنگی, هنری, نوروز, هنر]</td>\n",
       "      <td>[0]</td>\n",
       "    </tr>\n",
       "    <tr>\n",
       "      <th>1</th>\n",
       "      <td>[طاقچه, عزیز, نام, کتاب, کسی, به, سرهنگ, نامه,...</td>\n",
       "      <td>[سرهنگ, کسی, ندارد, برایش, نامه, بنویسد]</td>\n",
       "      <td>3.0</td>\n",
       "      <td>[سرهنگ, کسی, ندارد, برایش, نامه, بنویسد]</td>\n",
       "      <td>[گابریل, گارسیا, مارکز]</td>\n",
       "      <td>[نازنین, نوذری]</td>\n",
       "      <td>[موسسه, فرهنگی, هنری, نوروز, هنر]</td>\n",
       "      <td>[0]</td>\n",
       "    </tr>\n",
       "    <tr>\n",
       "      <th>2</th>\n",
       "      <td>[بنظرم, این, اثر, مارکز, خیلی, از, صد, سال, تن...</td>\n",
       "      <td>[سرهنگ, کسی, ندارد, برایش, نامه, بنویسد]</td>\n",
       "      <td>3.0</td>\n",
       "      <td>[سرهنگ, کسی, ندارد, برایش, نامه, بنویسد]</td>\n",
       "      <td>[گابریل, گارسیا, مارکز]</td>\n",
       "      <td>[نازنین, نوذری]</td>\n",
       "      <td>[موسسه, فرهنگی, هنری, نوروز, هنر]</td>\n",
       "      <td>[0]</td>\n",
       "    </tr>\n",
       "    <tr>\n",
       "      <th>3</th>\n",
       "      <td>[به, نظر, کتاب, خوبی, میومد, اما, من, از, ترجم...</td>\n",
       "      <td>[سرهنگ, کسی, ندارد, برایش, نامه, بنویسد]</td>\n",
       "      <td>3.0</td>\n",
       "      <td>[سرهنگ, کسی, ندارد, برایش, نامه, بنویسد]</td>\n",
       "      <td>[گابریل, گارسیا, مارکز]</td>\n",
       "      <td>[نازنین, نوذری]</td>\n",
       "      <td>[موسسه, فرهنگی, هنری, نوروز, هنر]</td>\n",
       "      <td>[0]</td>\n",
       "    </tr>\n",
       "    <tr>\n",
       "      <th>4</th>\n",
       "      <td>[کتاب, خوبی, است]</td>\n",
       "      <td>[سرهنگ, کسی, ندارد, برایش, نامه, بنویسد]</td>\n",
       "      <td>3.0</td>\n",
       "      <td>[سرهنگ, کسی, ندارد, برایش, نامه, بنویسد]</td>\n",
       "      <td>[گابریل, گارسیا, مارکز]</td>\n",
       "      <td>[نازنین, نوذری]</td>\n",
       "      <td>[موسسه, فرهنگی, هنری, نوروز, هنر]</td>\n",
       "      <td>[0]</td>\n",
       "    </tr>\n",
       "  </tbody>\n",
       "</table>\n",
       "</div>"
      ]
     },
     "execution_count": 35,
     "metadata": {},
     "output_type": "execute_result"
    }
   ],
   "execution_count": 35
  },
  {
   "metadata": {
    "ExecuteTime": {
     "end_time": "2024-07-12T00:28:18.947795Z",
     "start_time": "2024-07-12T00:28:18.944740Z"
    }
   },
   "cell_type": "code",
   "source": "tags = ['name', 'author', 'translator', 'publisher']",
   "id": "db1adddfbeb9a161",
   "outputs": [],
   "execution_count": 36
  },
  {
   "metadata": {
    "ExecuteTime": {
     "end_time": "2024-07-12T00:28:18.962780Z",
     "start_time": "2024-07-12T00:28:18.949640Z"
    }
   },
   "cell_type": "code",
   "source": [
    "def get_label(tag):\n",
    "    if tag == 'name':\n",
    "        return 'Book'\n",
    "    elif tag == 'author':\n",
    "        return 'Author'\n",
    "    elif tag == 'translator':\n",
    "        return 'Translator'\n",
    "    elif tag == 'publisher':\n",
    "        return 'Publisher'\n",
    "    else:\n",
    "        return None\n",
    "\n",
    "\n",
    "def convert_index_to_label(index, tag):\n",
    "    labels = []\n",
    "\n",
    "    for i in range(len(index)):\n",
    "        if index[i] == -1:\n",
    "            labels.append('O')\n",
    "        else:\n",
    "            if i == 0 or index[i - 1] == -1 or index[i] - index[i - 1] != 1:\n",
    "                labels.append(f'B-{get_label(tag)}')\n",
    "            else:\n",
    "                labels.append(f'I-{get_label(tag)}')\n",
    "\n",
    "    return labels\n",
    "\n",
    "\n",
    "def combine_labels(labels):\n",
    "    global tags\n",
    "\n",
    "    result = []\n",
    "\n",
    "    for i in range(len(labels[tags[0]])):\n",
    "        name = labels[tags[0]][i] if len(labels[tags[0]]) > 0 else 'O'\n",
    "        author = labels[tags[1]][i] if len(labels[tags[1]]) > 0 else 'O'\n",
    "        translator = labels[tags[2]][i] if len(labels[tags[2]]) > 0 else 'O'\n",
    "        publisher = labels[tags[3]][i] if len(labels[tags[3]]) > 0 else 'O'\n",
    "\n",
    "        if name != 'O':\n",
    "            result.append(name)\n",
    "        elif author != 'O':\n",
    "            result.append(author)\n",
    "        elif translator != 'O':\n",
    "            result.append(translator)\n",
    "        elif publisher != 'O':\n",
    "            result.append(publisher)\n",
    "        else:\n",
    "            result.append('O')\n",
    "\n",
    "    return result\n",
    "\n",
    "\n",
    "def get_labels(row):\n",
    "    indexes = {\n",
    "        tag: []\n",
    "        for tag in tags\n",
    "    }\n",
    "    labels = {\n",
    "        tag: []\n",
    "        for tag in tags\n",
    "    }\n",
    "\n",
    "    for tag in tags:\n",
    "        cell = row[tag]\n",
    "        if cell == {np.nan}:\n",
    "            continue\n",
    "\n",
    "        filled_indexes = set()\n",
    "        for word in row['comment']:\n",
    "            try:\n",
    "                current_index = cell.index(word)\n",
    "                if current_index in filled_indexes:\n",
    "                    raise ValueError\n",
    "                indexes[tag].append(current_index)\n",
    "                filled_indexes.add(current_index)\n",
    "            except ValueError:\n",
    "                indexes[tag].append(-1)\n",
    "\n",
    "        labels[tag] = convert_index_to_label(indexes[tag], tag)\n",
    "\n",
    "    return combine_labels(labels)"
   ],
   "id": "dcd2299b9b69edba",
   "outputs": [],
   "execution_count": 37
  },
  {
   "metadata": {
    "ExecuteTime": {
     "end_time": "2024-07-12T00:28:31.982488Z",
     "start_time": "2024-07-12T00:28:18.964367Z"
    }
   },
   "cell_type": "code",
   "source": "labeled_data['label'] = labeled_data.progress_apply(get_labels, axis=1)",
   "id": "c57c549b012f312d",
   "outputs": [
    {
     "data": {
      "text/plain": [
       "  0%|          | 0/74383 [00:00<?, ?it/s]"
      ],
      "application/vnd.jupyter.widget-view+json": {
       "version_major": 2,
       "version_minor": 0,
       "model_id": "cd320cbb6a3045a6bc58dcd018cc600c"
      }
     },
     "metadata": {},
     "output_type": "display_data"
    }
   ],
   "execution_count": 38
  },
  {
   "metadata": {},
   "cell_type": "code",
   "source": [
    "# labeled_data.to_csv('datasets/preprocessed/labeled_data.csv', index=False)\n",
    "# labeled_data = pd.read_csv('datasets/preprocessed/labeled_data.csv')"
   ],
   "id": "236e5d29632881f7",
   "outputs": [],
   "execution_count": 39
  },
  {
   "metadata": {
    "ExecuteTime": {
     "end_time": "2024-07-12T00:28:32.013329Z",
     "start_time": "2024-07-12T00:28:31.989393Z"
    }
   },
   "cell_type": "code",
   "source": "labeled_data.head()",
   "id": "1a27c5d6f87ffe8f",
   "outputs": [
    {
     "data": {
      "text/plain": [
       "                                             comment  \\\n",
       "0  [اسم, کتاب, no, one, write, ##s, to, the, colo...   \n",
       "1  [طاقچه, عزیز, نام, کتاب, کسی, به, سرهنگ, نامه,...   \n",
       "2  [بنظرم, این, اثر, مارکز, خیلی, از, صد, سال, تن...   \n",
       "3  [به, نظر, کتاب, خوبی, میومد, اما, من, از, ترجم...   \n",
       "4                                  [کتاب, خوبی, است]   \n",
       "\n",
       "                                   bookname   id  \\\n",
       "0  [سرهنگ, کسی, ندارد, برایش, نامه, بنویسد]  3.0   \n",
       "1  [سرهنگ, کسی, ندارد, برایش, نامه, بنویسد]  3.0   \n",
       "2  [سرهنگ, کسی, ندارد, برایش, نامه, بنویسد]  3.0   \n",
       "3  [سرهنگ, کسی, ندارد, برایش, نامه, بنویسد]  3.0   \n",
       "4  [سرهنگ, کسی, ندارد, برایش, نامه, بنویسد]  3.0   \n",
       "\n",
       "                                       name                   author  \\\n",
       "0  [سرهنگ, کسی, ندارد, برایش, نامه, بنویسد]  [گابریل, گارسیا, مارکز]   \n",
       "1  [سرهنگ, کسی, ندارد, برایش, نامه, بنویسد]  [گابریل, گارسیا, مارکز]   \n",
       "2  [سرهنگ, کسی, ندارد, برایش, نامه, بنویسد]  [گابریل, گارسیا, مارکز]   \n",
       "3  [سرهنگ, کسی, ندارد, برایش, نامه, بنویسد]  [گابریل, گارسیا, مارکز]   \n",
       "4  [سرهنگ, کسی, ندارد, برایش, نامه, بنویسد]  [گابریل, گارسیا, مارکز]   \n",
       "\n",
       "        translator                          publisher  \\\n",
       "0  [نازنین, نوذری]  [موسسه, فرهنگی, هنری, نوروز, هنر]   \n",
       "1  [نازنین, نوذری]  [موسسه, فرهنگی, هنری, نوروز, هنر]   \n",
       "2  [نازنین, نوذری]  [موسسه, فرهنگی, هنری, نوروز, هنر]   \n",
       "3  [نازنین, نوذری]  [موسسه, فرهنگی, هنری, نوروز, هنر]   \n",
       "4  [نازنین, نوذری]  [موسسه, فرهنگی, هنری, نوروز, هنر]   \n",
       "\n",
       "                                               label  \n",
       "0  [O, O, O, O, O, O, O, O, O, O, O, O, O, B-Book...  \n",
       "1  [O, O, O, O, B-Book, O, B-Book, B-Book, O, O, ...  \n",
       "2  [O, O, O, B-Author, O, O, O, O, O, O, O, O, O,...  \n",
       "3  [O, O, O, O, O, O, O, O, O, O, O, O, O, O, O, ...  \n",
       "4                                          [O, O, O]  "
      ],
      "text/html": [
       "<div>\n",
       "<style scoped>\n",
       "    .dataframe tbody tr th:only-of-type {\n",
       "        vertical-align: middle;\n",
       "    }\n",
       "\n",
       "    .dataframe tbody tr th {\n",
       "        vertical-align: top;\n",
       "    }\n",
       "\n",
       "    .dataframe thead th {\n",
       "        text-align: right;\n",
       "    }\n",
       "</style>\n",
       "<table border=\"1\" class=\"dataframe\">\n",
       "  <thead>\n",
       "    <tr style=\"text-align: right;\">\n",
       "      <th></th>\n",
       "      <th>comment</th>\n",
       "      <th>bookname</th>\n",
       "      <th>id</th>\n",
       "      <th>name</th>\n",
       "      <th>author</th>\n",
       "      <th>translator</th>\n",
       "      <th>publisher</th>\n",
       "      <th>label</th>\n",
       "    </tr>\n",
       "  </thead>\n",
       "  <tbody>\n",
       "    <tr>\n",
       "      <th>0</th>\n",
       "      <td>[اسم, کتاب, no, one, write, ##s, to, the, colo...</td>\n",
       "      <td>[سرهنگ, کسی, ندارد, برایش, نامه, بنویسد]</td>\n",
       "      <td>3.0</td>\n",
       "      <td>[سرهنگ, کسی, ندارد, برایش, نامه, بنویسد]</td>\n",
       "      <td>[گابریل, گارسیا, مارکز]</td>\n",
       "      <td>[نازنین, نوذری]</td>\n",
       "      <td>[موسسه, فرهنگی, هنری, نوروز, هنر]</td>\n",
       "      <td>[O, O, O, O, O, O, O, O, O, O, O, O, O, B-Book...</td>\n",
       "    </tr>\n",
       "    <tr>\n",
       "      <th>1</th>\n",
       "      <td>[طاقچه, عزیز, نام, کتاب, کسی, به, سرهنگ, نامه,...</td>\n",
       "      <td>[سرهنگ, کسی, ندارد, برایش, نامه, بنویسد]</td>\n",
       "      <td>3.0</td>\n",
       "      <td>[سرهنگ, کسی, ندارد, برایش, نامه, بنویسد]</td>\n",
       "      <td>[گابریل, گارسیا, مارکز]</td>\n",
       "      <td>[نازنین, نوذری]</td>\n",
       "      <td>[موسسه, فرهنگی, هنری, نوروز, هنر]</td>\n",
       "      <td>[O, O, O, O, B-Book, O, B-Book, B-Book, O, O, ...</td>\n",
       "    </tr>\n",
       "    <tr>\n",
       "      <th>2</th>\n",
       "      <td>[بنظرم, این, اثر, مارکز, خیلی, از, صد, سال, تن...</td>\n",
       "      <td>[سرهنگ, کسی, ندارد, برایش, نامه, بنویسد]</td>\n",
       "      <td>3.0</td>\n",
       "      <td>[سرهنگ, کسی, ندارد, برایش, نامه, بنویسد]</td>\n",
       "      <td>[گابریل, گارسیا, مارکز]</td>\n",
       "      <td>[نازنین, نوذری]</td>\n",
       "      <td>[موسسه, فرهنگی, هنری, نوروز, هنر]</td>\n",
       "      <td>[O, O, O, B-Author, O, O, O, O, O, O, O, O, O,...</td>\n",
       "    </tr>\n",
       "    <tr>\n",
       "      <th>3</th>\n",
       "      <td>[به, نظر, کتاب, خوبی, میومد, اما, من, از, ترجم...</td>\n",
       "      <td>[سرهنگ, کسی, ندارد, برایش, نامه, بنویسد]</td>\n",
       "      <td>3.0</td>\n",
       "      <td>[سرهنگ, کسی, ندارد, برایش, نامه, بنویسد]</td>\n",
       "      <td>[گابریل, گارسیا, مارکز]</td>\n",
       "      <td>[نازنین, نوذری]</td>\n",
       "      <td>[موسسه, فرهنگی, هنری, نوروز, هنر]</td>\n",
       "      <td>[O, O, O, O, O, O, O, O, O, O, O, O, O, O, O, ...</td>\n",
       "    </tr>\n",
       "    <tr>\n",
       "      <th>4</th>\n",
       "      <td>[کتاب, خوبی, است]</td>\n",
       "      <td>[سرهنگ, کسی, ندارد, برایش, نامه, بنویسد]</td>\n",
       "      <td>3.0</td>\n",
       "      <td>[سرهنگ, کسی, ندارد, برایش, نامه, بنویسد]</td>\n",
       "      <td>[گابریل, گارسیا, مارکز]</td>\n",
       "      <td>[نازنین, نوذری]</td>\n",
       "      <td>[موسسه, فرهنگی, هنری, نوروز, هنر]</td>\n",
       "      <td>[O, O, O]</td>\n",
       "    </tr>\n",
       "  </tbody>\n",
       "</table>\n",
       "</div>"
      ]
     },
     "execution_count": 40,
     "metadata": {},
     "output_type": "execute_result"
    }
   ],
   "execution_count": 40
  },
  {
   "metadata": {
    "ExecuteTime": {
     "end_time": "2024-07-12T00:28:32.018170Z",
     "start_time": "2024-07-12T00:28:32.015314Z"
    }
   },
   "cell_type": "code",
   "source": [
    "# percentage_of_o = [len([tag for tag in label if tag == 'O']) / len(label) for label in labeled_data['label']]\n",
    "# fig = px.histogram(percentage_of_o, title='Percentage of O in Each Label List Histogram')\n",
    "# fig.update_layout(showlegend=False)\n",
    "# fig.show()"
   ],
   "id": "6a72ced908c7a617",
   "outputs": [],
   "execution_count": 41
  },
  {
   "metadata": {
    "ExecuteTime": {
     "end_time": "2024-07-12T00:28:32.023701Z",
     "start_time": "2024-07-12T00:28:32.020597Z"
    }
   },
   "cell_type": "code",
   "source": [
    "# before_dropping = len(labeled_data)\n",
    "# labeled_data = labeled_data[[percentage < 0.99 for percentage in percentage_of_o]]\n",
    "# print(f'Dropped {before_dropping - len(labeled_data)} rows with more than 99% O.')\n",
    "# print(f'New length: {len(labeled_data)}')"
   ],
   "id": "b068382a0892b225",
   "outputs": [],
   "execution_count": 42
  },
  {
   "metadata": {
    "ExecuteTime": {
     "end_time": "2024-07-12T00:28:32.028386Z",
     "start_time": "2024-07-12T00:28:32.025237Z"
    }
   },
   "cell_type": "code",
   "source": [
    "# fig = px.histogram([tag for label in labeled_data['label'] for tag in label], title='Tag Distribution with O')\n",
    "# fig.update_layout(showlegend=False)\n",
    "# fig.show()"
   ],
   "id": "a3d363c99e75cc0b",
   "outputs": [],
   "execution_count": 43
  },
  {
   "metadata": {
    "ExecuteTime": {
     "end_time": "2024-07-12T00:28:32.033031Z",
     "start_time": "2024-07-12T00:28:32.029936Z"
    }
   },
   "cell_type": "code",
   "source": [
    "# fig = px.histogram([tag for label in labeled_data['label'] for tag in label if tag != 'O'], title='Tag Distribution without O')\n",
    "# fig.update_layout(showlegend=False)\n",
    "# fig.show()"
   ],
   "id": "fbf8ec4a6e91bf3b",
   "outputs": [],
   "execution_count": 44
  },
  {
   "metadata": {},
   "cell_type": "markdown",
   "source": "# Transformer Model",
   "id": "79cb173c3aba1ead"
  },
  {
   "metadata": {},
   "cell_type": "markdown",
   "source": "## Importing Libraries",
   "id": "af0f9be244f1fb7a"
  },
  {
   "metadata": {
    "ExecuteTime": {
     "end_time": "2024-07-12T00:28:32.037786Z",
     "start_time": "2024-07-12T00:28:32.034980Z"
    }
   },
   "cell_type": "code",
   "source": "# !pip install livelossplot",
   "id": "4d75bd9721a746d1",
   "outputs": [],
   "execution_count": 45
  },
  {
   "metadata": {
    "ExecuteTime": {
     "end_time": "2024-07-12T00:36:28.970131Z",
     "start_time": "2024-07-12T00:36:28.964693Z"
    }
   },
   "cell_type": "code",
   "source": [
    "from transformers import BertConfig\n",
    "from transformers import TFBertForTokenClassification, InputFeatures\n",
    "import tensorflow as tf\n",
    "from livelossplot.tf_keras import PlotLossesCallback\n",
    "from sklearn.model_selection import train_test_split\n",
    "from sklearn.metrics import classification_report, accuracy_score, confusion_matrix, precision_score, recall_score, f1_score"
   ],
   "id": "8cb38afbf0c0a0de",
   "outputs": [],
   "execution_count": 74
  },
  {
   "metadata": {},
   "cell_type": "markdown",
   "source": "## Preparing Data",
   "id": "1499a98be496d6c7"
  },
  {
   "metadata": {
    "ExecuteTime": {
     "end_time": "2024-07-12T00:28:48.719065Z",
     "start_time": "2024-07-12T00:28:48.624554Z"
    }
   },
   "cell_type": "code",
   "source": [
    "tags = sorted(list(set([tag for label in labeled_data['label'] for tag in label])))\n",
    "tags_size = len(tags)\n",
    "tags_size, tags"
   ],
   "id": "20292f8022a7be04",
   "outputs": [
    {
     "data": {
      "text/plain": [
       "(9,\n",
       " ['B-Author',\n",
       "  'B-Book',\n",
       "  'B-Publisher',\n",
       "  'B-Translator',\n",
       "  'I-Author',\n",
       "  'I-Book',\n",
       "  'I-Publisher',\n",
       "  'I-Translator',\n",
       "  'O'])"
      ]
     },
     "execution_count": 48,
     "metadata": {},
     "output_type": "execute_result"
    }
   ],
   "execution_count": 48
  },
  {
   "metadata": {
    "ExecuteTime": {
     "end_time": "2024-07-12T00:28:48.723253Z",
     "start_time": "2024-07-12T00:28:48.720332Z"
    }
   },
   "cell_type": "code",
   "source": [
    "tag2idx = {tag: idx for idx, tag in enumerate(tags)}\n",
    "idx2tag = {idx: tag for tag, idx in tag2idx.items()}"
   ],
   "id": "534f7b23a5bf13d7",
   "outputs": [],
   "execution_count": 49
  },
  {
   "metadata": {
    "ExecuteTime": {
     "end_time": "2024-07-12T00:28:48.741939Z",
     "start_time": "2024-07-12T00:28:48.724796Z"
    }
   },
   "cell_type": "code",
   "source": [
    "X_train, X_test, y_train, y_test = train_test_split(labeled_data['comment'], labeled_data['label'], test_size=0.2)\n",
    "X_val, X_test, y_val, y_test = train_test_split(X_test, y_test, test_size=0.5)"
   ],
   "id": "fc30e1ec7f57d975",
   "outputs": [],
   "execution_count": 50
  },
  {
   "metadata": {
    "ExecuteTime": {
     "end_time": "2024-07-12T00:28:48.750765Z",
     "start_time": "2024-07-12T00:28:48.743461Z"
    }
   },
   "cell_type": "code",
   "source": [
    "train = pd.DataFrame({'comment': X_train, 'label': y_train})\n",
    "val = pd.DataFrame({'comment': X_val, 'label': y_val})\n",
    "test = pd.DataFrame({'comment': X_test, 'label': y_test})"
   ],
   "id": "5e32e98f9b454d66",
   "outputs": [],
   "execution_count": 51
  },
  {
   "metadata": {
    "ExecuteTime": {
     "end_time": "2024-07-12T00:28:48.755389Z",
     "start_time": "2024-07-12T00:28:48.752459Z"
    }
   },
   "cell_type": "code",
   "source": [
    "train = train[:64]\n",
    "val = val[:64]\n",
    "test = test[:64]"
   ],
   "id": "ad52c3d80f86be58",
   "outputs": [],
   "execution_count": 52
  },
  {
   "metadata": {
    "ExecuteTime": {
     "end_time": "2024-07-12T00:28:48.761364Z",
     "start_time": "2024-07-12T00:28:48.756740Z"
    }
   },
   "cell_type": "code",
   "source": [
    "train = train.reset_index(drop=True)\n",
    "val = val.reset_index(drop=True)\n",
    "test = test.reset_index(drop=True)"
   ],
   "id": "d93e12b5bf67177b",
   "outputs": [],
   "execution_count": 53
  },
  {
   "metadata": {
    "ExecuteTime": {
     "end_time": "2024-07-12T00:28:48.770495Z",
     "start_time": "2024-07-12T00:28:48.762907Z"
    }
   },
   "cell_type": "code",
   "source": "train.head()",
   "id": "7774ba2e8ea4893a",
   "outputs": [
    {
     "data": {
      "text/plain": [
       "                                             comment  \\\n",
       "0   [خوب, بود, البته, این, نسخه, رو, نخو, ##ند, ##م]   \n",
       "1  [کتاب, بسیار, عالی, هست, حیف, که, نمیتونم, بری...   \n",
       "2                                             [عالی]   \n",
       "3  [تلاش, نویسنده, برای, تحلیل, این, همه, زبان, م...   \n",
       "4  [انتوان, مثل, همیشه, خیلی, زیبا, صحنه, هارو, ت...   \n",
       "\n",
       "                                               label  \n",
       "0                        [O, O, O, O, O, O, O, O, O]  \n",
       "1                  [O, O, O, O, O, O, O, O, O, O, O]  \n",
       "2                                                [O]  \n",
       "3  [O, O, O, O, O, O, O, O, O, B-Book, O, O, O, O...  \n",
       "4              [B-Author, O, O, O, O, O, O, O, O, O]  "
      ],
      "text/html": [
       "<div>\n",
       "<style scoped>\n",
       "    .dataframe tbody tr th:only-of-type {\n",
       "        vertical-align: middle;\n",
       "    }\n",
       "\n",
       "    .dataframe tbody tr th {\n",
       "        vertical-align: top;\n",
       "    }\n",
       "\n",
       "    .dataframe thead th {\n",
       "        text-align: right;\n",
       "    }\n",
       "</style>\n",
       "<table border=\"1\" class=\"dataframe\">\n",
       "  <thead>\n",
       "    <tr style=\"text-align: right;\">\n",
       "      <th></th>\n",
       "      <th>comment</th>\n",
       "      <th>label</th>\n",
       "    </tr>\n",
       "  </thead>\n",
       "  <tbody>\n",
       "    <tr>\n",
       "      <th>0</th>\n",
       "      <td>[خوب, بود, البته, این, نسخه, رو, نخو, ##ند, ##م]</td>\n",
       "      <td>[O, O, O, O, O, O, O, O, O]</td>\n",
       "    </tr>\n",
       "    <tr>\n",
       "      <th>1</th>\n",
       "      <td>[کتاب, بسیار, عالی, هست, حیف, که, نمیتونم, بری...</td>\n",
       "      <td>[O, O, O, O, O, O, O, O, O, O, O]</td>\n",
       "    </tr>\n",
       "    <tr>\n",
       "      <th>2</th>\n",
       "      <td>[عالی]</td>\n",
       "      <td>[O]</td>\n",
       "    </tr>\n",
       "    <tr>\n",
       "      <th>3</th>\n",
       "      <td>[تلاش, نویسنده, برای, تحلیل, این, همه, زبان, م...</td>\n",
       "      <td>[O, O, O, O, O, O, O, O, O, B-Book, O, O, O, O...</td>\n",
       "    </tr>\n",
       "    <tr>\n",
       "      <th>4</th>\n",
       "      <td>[انتوان, مثل, همیشه, خیلی, زیبا, صحنه, هارو, ت...</td>\n",
       "      <td>[B-Author, O, O, O, O, O, O, O, O, O]</td>\n",
       "    </tr>\n",
       "  </tbody>\n",
       "</table>\n",
       "</div>"
      ]
     },
     "execution_count": 54,
     "metadata": {},
     "output_type": "execute_result"
    }
   ],
   "execution_count": 54
  },
  {
   "metadata": {},
   "cell_type": "markdown",
   "source": "## Add Padding",
   "id": "4cb136ce0d9ca88c"
  },
  {
   "metadata": {
    "ExecuteTime": {
     "end_time": "2024-07-12T00:28:48.776515Z",
     "start_time": "2024-07-12T00:28:48.772040Z"
    }
   },
   "cell_type": "code",
   "source": [
    "def add_padding(data: pd.DataFrame, max_length: int):\n",
    "    progress_bar = tqdm(range(len(data)))\n",
    "    \n",
    "    for i in progress_bar:\n",
    "        data['comment'][i] = data['comment'][i][:max_length]\n",
    "        data['label'][i] = data['label'][i][:max_length]\n",
    "        \n",
    "        if len(data['comment'][i]) < max_length:\n",
    "            data['comment'][i] += ['[PAD]'] * (max_length - len(data['comment'][i]))\n",
    "            data['label'][i] += ['O'] * (max_length - len(data['label'][i]))\n",
    "            \n",
    "    return data"
   ],
   "id": "3c26c32288780cc2",
   "outputs": [],
   "execution_count": 55
  },
  {
   "metadata": {
    "ExecuteTime": {
     "end_time": "2024-07-12T00:28:48.876842Z",
     "start_time": "2024-07-12T00:28:48.778108Z"
    }
   },
   "cell_type": "code",
   "source": [
    "max_length = 128\n",
    "\n",
    "train = add_padding(train, max_length)\n",
    "val = add_padding(val, max_length)\n",
    "test = add_padding(test, max_length)"
   ],
   "id": "e1daff9c4868882e",
   "outputs": [
    {
     "data": {
      "text/plain": [
       "  0%|          | 0/64 [00:00<?, ?it/s]"
      ],
      "application/vnd.jupyter.widget-view+json": {
       "version_major": 2,
       "version_minor": 0,
       "model_id": "5e88a860830049cd854019b59bfb3eff"
      }
     },
     "metadata": {},
     "output_type": "display_data"
    },
    {
     "data": {
      "text/plain": [
       "  0%|          | 0/64 [00:00<?, ?it/s]"
      ],
      "application/vnd.jupyter.widget-view+json": {
       "version_major": 2,
       "version_minor": 0,
       "model_id": "139cdc4d0018414988d0ce0efc37e510"
      }
     },
     "metadata": {},
     "output_type": "display_data"
    },
    {
     "data": {
      "text/plain": [
       "  0%|          | 0/64 [00:00<?, ?it/s]"
      ],
      "application/vnd.jupyter.widget-view+json": {
       "version_major": 2,
       "version_minor": 0,
       "model_id": "f5635d4de0e54dceb99a8d0c22d34bf7"
      }
     },
     "metadata": {},
     "output_type": "display_data"
    }
   ],
   "execution_count": 56
  },
  {
   "metadata": {
    "ExecuteTime": {
     "end_time": "2024-07-12T00:28:48.880948Z",
     "start_time": "2024-07-12T00:28:48.878486Z"
    }
   },
   "cell_type": "code",
   "source": "# train.head()",
   "id": "79671e82ba45bded",
   "outputs": [],
   "execution_count": 57
  },
  {
   "metadata": {},
   "cell_type": "markdown",
   "source": "## Convert to GLUE Format",
   "id": "e398b325f565a6ec"
  },
  {
   "metadata": {
    "ExecuteTime": {
     "end_time": "2024-07-12T00:28:48.885608Z",
     "start_time": "2024-07-12T00:28:48.882542Z"
    }
   },
   "cell_type": "code",
   "source": [
    "class InputExample:\n",
    "    def __init__(self, guid, text_a, text_b=None, label=None):\n",
    "        self.guid = guid\n",
    "        self.text_a = text_a\n",
    "        self.text_b = text_b\n",
    "        self.label = label"
   ],
   "id": "bca10c0097f6541a",
   "outputs": [],
   "execution_count": 58
  },
  {
   "metadata": {
    "ExecuteTime": {
     "end_time": "2024-07-12T00:28:48.894740Z",
     "start_time": "2024-07-12T00:28:48.887039Z"
    }
   },
   "cell_type": "code",
   "source": [
    "def convert_data_to_examples(data: pd.DataFrame):\n",
    "    examples = []\n",
    "    \n",
    "    for i in range(len(data)):\n",
    "        guid = i\n",
    "        text_a = data['comment'][i]\n",
    "        label = data['label'][i]\n",
    "        examples.append(InputExample(guid=guid, text_a=text_a, label=label))\n",
    "        \n",
    "    return examples\n",
    "\n",
    "\n",
    "def convert_examples_to_features(examples, tokenizer, max_length, task=None):\n",
    "    features = []\n",
    "    \n",
    "    for example in examples:\n",
    "        input_dict = tokenizer.encode_plus(\n",
    "            example.text_a,\n",
    "            add_special_tokens=True,\n",
    "            max_length=max_length,\n",
    "            return_token_type_ids=True,\n",
    "            return_attention_mask=True,\n",
    "            padding='max_length',\n",
    "            truncation=True\n",
    "        )\n",
    "        \n",
    "        input_ids = input_dict['input_ids']\n",
    "        attention_mask = input_dict['attention_mask']\n",
    "        token_type_ids = input_dict['token_type_ids']\n",
    "        \n",
    "        label = example.label\n",
    "        \n",
    "        if task is not None:\n",
    "            label = [tag2idx[tag] for tag in label]\n",
    "        \n",
    "        features.append(\n",
    "            InputFeatures(\n",
    "                input_ids=input_ids,\n",
    "                attention_mask=attention_mask,\n",
    "                token_type_ids=token_type_ids,\n",
    "                label=label\n",
    "            )\n",
    "        )\n",
    "        \n",
    "    return features\n",
    "\n",
    "\n",
    "def convert_data_to_features(data: pd.DataFrame, tokenizer, max_length, task=None):\n",
    "    examples = convert_data_to_examples(data)\n",
    "    return convert_examples_to_features(examples, tokenizer, max_length, task)\n",
    "\n",
    "\n",
    "def convert_data_to_tf_dataset(data: pd.DataFrame, tokenizer, max_length, task=None):\n",
    "    features = convert_data_to_features(data, tokenizer, max_length, task)\n",
    "    \n",
    "    all_input_ids = []\n",
    "    all_attention_masks = []\n",
    "    all_token_type_ids = []\n",
    "    all_labels = []\n",
    "    \n",
    "    for feature in features:\n",
    "        all_input_ids.append(feature.input_ids)\n",
    "        all_attention_masks.append(feature.attention_mask)\n",
    "        all_token_type_ids.append(feature.token_type_ids)\n",
    "        all_labels.append(feature.label)\n",
    "        \n",
    "    return (\n",
    "        tf.data.Dataset.from_tensor_slices((\n",
    "            {\n",
    "                'input_ids': all_input_ids,\n",
    "                'attention_mask': all_attention_masks,\n",
    "                'token_type_ids': all_token_type_ids\n",
    "            },\n",
    "            all_labels\n",
    "        ))\n",
    "    )"
   ],
   "id": "5e1b840704e7179f",
   "outputs": [],
   "execution_count": 59
  },
  {
   "metadata": {
    "ExecuteTime": {
     "end_time": "2024-07-12T00:28:49.104479Z",
     "start_time": "2024-07-12T00:28:48.896311Z"
    }
   },
   "cell_type": "code",
   "source": [
    "max_length = 128\n",
    "task = 'ner'\n",
    "\n",
    "train_dataset = convert_data_to_tf_dataset(train, tokenizer, max_length, task=task)\n",
    "val_dataset = convert_data_to_tf_dataset(val, tokenizer, max_length, task=task)\n",
    "test_dataset = convert_data_to_tf_dataset(test, tokenizer, max_length, task=task)\n",
    "\n",
    "train_dataset = train_dataset.shuffle(100).batch(32).repeat(2)\n",
    "val_dataset = val_dataset.batch(64)\n",
    "test_dataset = test_dataset.batch(64)\n",
    "\n",
    "train_dataset.element_spec, val_dataset.element_spec, test_dataset.element_spec"
   ],
   "id": "e2521463051220e0",
   "outputs": [
    {
     "data": {
      "text/plain": [
       "(({'input_ids': TensorSpec(shape=(None, 128), dtype=tf.int32, name=None),\n",
       "   'attention_mask': TensorSpec(shape=(None, 128), dtype=tf.int32, name=None),\n",
       "   'token_type_ids': TensorSpec(shape=(None, 128), dtype=tf.int32, name=None)},\n",
       "  TensorSpec(shape=(None, 128), dtype=tf.int32, name=None)),\n",
       " ({'input_ids': TensorSpec(shape=(None, 128), dtype=tf.int32, name=None),\n",
       "   'attention_mask': TensorSpec(shape=(None, 128), dtype=tf.int32, name=None),\n",
       "   'token_type_ids': TensorSpec(shape=(None, 128), dtype=tf.int32, name=None)},\n",
       "  TensorSpec(shape=(None, 128), dtype=tf.int32, name=None)),\n",
       " ({'input_ids': TensorSpec(shape=(None, 128), dtype=tf.int32, name=None),\n",
       "   'attention_mask': TensorSpec(shape=(None, 128), dtype=tf.int32, name=None),\n",
       "   'token_type_ids': TensorSpec(shape=(None, 128), dtype=tf.int32, name=None)},\n",
       "  TensorSpec(shape=(None, 128), dtype=tf.int32, name=None)))"
      ]
     },
     "execution_count": 60,
     "metadata": {},
     "output_type": "execute_result"
    }
   ],
   "execution_count": 60
  },
  {
   "metadata": {
    "ExecuteTime": {
     "end_time": "2024-07-12T00:28:50.380938Z",
     "start_time": "2024-07-12T00:28:49.105899Z"
    }
   },
   "cell_type": "code",
   "source": "config = BertConfig.from_pretrained(MODEL_NAME_OR_PATH, num_labels=tags_size, id2label=idx2tag, label2id=tag2idx)",
   "id": "69297e8f7334a63f",
   "outputs": [],
   "execution_count": 61
  },
  {
   "metadata": {
    "ExecuteTime": {
     "end_time": "2024-07-12T00:28:53.653985Z",
     "start_time": "2024-07-12T00:28:50.383196Z"
    }
   },
   "cell_type": "code",
   "source": [
    "model = TFBertForTokenClassification.from_pretrained(MODEL_NAME_OR_PATH, config=config)\n",
    "model.summary()"
   ],
   "id": "24f7b315fb3990ba",
   "outputs": [
    {
     "name": "stderr",
     "output_type": "stream",
     "text": [
      "All model checkpoint layers were used when initializing TFBertForTokenClassification.\n",
      "\n",
      "Some layers of TFBertForTokenClassification were not initialized from the model checkpoint at HooshvareLab/bert-fa-base-uncased and are newly initialized: ['classifier']\n",
      "You should probably TRAIN this model on a down-stream task to be able to use it for predictions and inference.\n"
     ]
    },
    {
     "name": "stdout",
     "output_type": "stream",
     "text": [
      "Model: \"tf_bert_for_token_classification\"\n",
      "_________________________________________________________________\n",
      " Layer (type)                Output Shape              Param #   \n",
      "=================================================================\n",
      " bert (TFBertMainLayer)      multiple                  162250752 \n",
      "                                                                 \n",
      " dropout_37 (Dropout)        multiple                  0         \n",
      "                                                                 \n",
      " classifier (Dense)          multiple                  6921      \n",
      "                                                                 \n",
      "=================================================================\n",
      "Total params: 162257673 (618.96 MB)\n",
      "Trainable params: 162257673 (618.96 MB)\n",
      "Non-trainable params: 0 (0.00 Byte)\n",
      "_________________________________________________________________\n"
     ]
    }
   ],
   "execution_count": 62
  },
  {
   "metadata": {
    "ExecuteTime": {
     "end_time": "2024-07-12T00:28:53.674403Z",
     "start_time": "2024-07-12T00:28:53.656705Z"
    }
   },
   "cell_type": "code",
   "source": [
    "multi_label_loss = tf.keras.losses.SparseCategoricalCrossentropy(from_logits=True)\n",
    "model.compile(optimizer='adam', loss=multi_label_loss, metrics=['accuracy'])"
   ],
   "id": "2b0037ce8ef6e0c1",
   "outputs": [],
   "execution_count": 63
  },
  {
   "metadata": {
    "ExecuteTime": {
     "end_time": "2024-07-12T00:28:54.391358Z",
     "start_time": "2024-07-12T00:28:53.676284Z"
    }
   },
   "cell_type": "code",
   "source": "plot_losses = PlotLossesCallback()",
   "id": "70dec1be13fdabdb",
   "outputs": [],
   "execution_count": 64
  },
  {
   "metadata": {},
   "cell_type": "code",
   "source": "model.fit(train_dataset, epochs=1, validation_data=val_dataset, callbacks=[plot_losses])",
   "id": "6d40d22576b1552f",
   "execution_count": 65,
   "outputs": [
    {
     "name": "stdout",
     "output_type": "stream",
     "text": [
      "accuracy\n",
      "\ttraining         \t (min:    0.851, max:    0.851, cur:    0.851)\n",
      "\tvalidation       \t (min:    0.995, max:    0.995, cur:    0.995)\n",
      "Loss\n",
      "\ttraining         \t (min:    0.496, max:    0.496, cur:    0.496)\n",
      "\tvalidation       \t (min:    0.049, max:    0.049, cur:    0.049)\n",
      "4/4 [==============================] - 200s 49s/step - loss: 0.4962 - accuracy: 0.8514 - val_loss: 0.0488 - val_accuracy: 0.9954\n"
     ]
    },
    {
     "data": {
      "text/plain": [
       "<keras.src.callbacks.History at 0x7fc03e6b53d0>"
      ]
     },
     "execution_count": 65,
     "metadata": {},
     "output_type": "execute_result"
    }
   ]
  },
  {
   "metadata": {
    "ExecuteTime": {
     "end_time": "2024-07-12T00:32:16.785174Z",
     "start_time": "2024-07-12T00:32:14.059393Z"
    }
   },
   "cell_type": "code",
   "source": "# model.save_pretrained(OUTPUT_PATH)",
   "id": "8493cee76b0fec81",
   "outputs": [
    {
     "ename": "OSError",
     "evalue": "[Errno 30] Read-only file system: '/resources'",
     "output_type": "error",
     "traceback": [
      "\u001B[0;31m---------------------------------------------------------------------------\u001B[0m",
      "\u001B[0;31mOSError\u001B[0m                                   Traceback (most recent call last)",
      "Cell \u001B[0;32mIn[66], line 1\u001B[0m\n\u001B[0;32m----> 1\u001B[0m \u001B[43mmodel\u001B[49m\u001B[38;5;241;43m.\u001B[39;49m\u001B[43msave_pretrained\u001B[49m\u001B[43m(\u001B[49m\u001B[43mOUTPUT_PATH\u001B[49m\u001B[43m)\u001B[49m\n",
      "File \u001B[0;32m~/opt/anaconda3/lib/python3.8/site-packages/transformers/modeling_tf_utils.py:2395\u001B[0m, in \u001B[0;36mTFPreTrainedModel.save_pretrained\u001B[0;34m(self, save_directory, saved_model, version, push_to_hub, signatures, max_shard_size, create_pr, safe_serialization, token, **kwargs)\u001B[0m\n\u001B[1;32m   2392\u001B[0m     logger\u001B[38;5;241m.\u001B[39merror(\u001B[38;5;124mf\u001B[39m\u001B[38;5;124m\"\u001B[39m\u001B[38;5;124mProvided path (\u001B[39m\u001B[38;5;132;01m{\u001B[39;00msave_directory\u001B[38;5;132;01m}\u001B[39;00m\u001B[38;5;124m) should be a directory, not a file\u001B[39m\u001B[38;5;124m\"\u001B[39m)\n\u001B[1;32m   2393\u001B[0m     \u001B[38;5;28;01mreturn\u001B[39;00m\n\u001B[0;32m-> 2395\u001B[0m \u001B[43mos\u001B[49m\u001B[38;5;241;43m.\u001B[39;49m\u001B[43mmakedirs\u001B[49m\u001B[43m(\u001B[49m\u001B[43msave_directory\u001B[49m\u001B[43m,\u001B[49m\u001B[43m \u001B[49m\u001B[43mexist_ok\u001B[49m\u001B[38;5;241;43m=\u001B[39;49m\u001B[38;5;28;43;01mTrue\u001B[39;49;00m\u001B[43m)\u001B[49m\n\u001B[1;32m   2397\u001B[0m \u001B[38;5;28;01mif\u001B[39;00m push_to_hub:\n\u001B[1;32m   2398\u001B[0m     commit_message \u001B[38;5;241m=\u001B[39m kwargs\u001B[38;5;241m.\u001B[39mpop(\u001B[38;5;124m\"\u001B[39m\u001B[38;5;124mcommit_message\u001B[39m\u001B[38;5;124m\"\u001B[39m, \u001B[38;5;28;01mNone\u001B[39;00m)\n",
      "File \u001B[0;32m~/opt/anaconda3/lib/python3.8/os.py:213\u001B[0m, in \u001B[0;36mmakedirs\u001B[0;34m(name, mode, exist_ok)\u001B[0m\n\u001B[1;32m    211\u001B[0m \u001B[38;5;28;01mif\u001B[39;00m head \u001B[38;5;129;01mand\u001B[39;00m tail \u001B[38;5;129;01mand\u001B[39;00m \u001B[38;5;129;01mnot\u001B[39;00m path\u001B[38;5;241m.\u001B[39mexists(head):\n\u001B[1;32m    212\u001B[0m     \u001B[38;5;28;01mtry\u001B[39;00m:\n\u001B[0;32m--> 213\u001B[0m         \u001B[43mmakedirs\u001B[49m\u001B[43m(\u001B[49m\u001B[43mhead\u001B[49m\u001B[43m,\u001B[49m\u001B[43m \u001B[49m\u001B[43mexist_ok\u001B[49m\u001B[38;5;241;43m=\u001B[39;49m\u001B[43mexist_ok\u001B[49m\u001B[43m)\u001B[49m\n\u001B[1;32m    214\u001B[0m     \u001B[38;5;28;01mexcept\u001B[39;00m \u001B[38;5;167;01mFileExistsError\u001B[39;00m:\n\u001B[1;32m    215\u001B[0m         \u001B[38;5;66;03m# Defeats race condition when another thread created the path\u001B[39;00m\n\u001B[1;32m    216\u001B[0m         \u001B[38;5;28;01mpass\u001B[39;00m\n",
      "File \u001B[0;32m~/opt/anaconda3/lib/python3.8/os.py:213\u001B[0m, in \u001B[0;36mmakedirs\u001B[0;34m(name, mode, exist_ok)\u001B[0m\n\u001B[1;32m    211\u001B[0m \u001B[38;5;28;01mif\u001B[39;00m head \u001B[38;5;129;01mand\u001B[39;00m tail \u001B[38;5;129;01mand\u001B[39;00m \u001B[38;5;129;01mnot\u001B[39;00m path\u001B[38;5;241m.\u001B[39mexists(head):\n\u001B[1;32m    212\u001B[0m     \u001B[38;5;28;01mtry\u001B[39;00m:\n\u001B[0;32m--> 213\u001B[0m         \u001B[43mmakedirs\u001B[49m\u001B[43m(\u001B[49m\u001B[43mhead\u001B[49m\u001B[43m,\u001B[49m\u001B[43m \u001B[49m\u001B[43mexist_ok\u001B[49m\u001B[38;5;241;43m=\u001B[39;49m\u001B[43mexist_ok\u001B[49m\u001B[43m)\u001B[49m\n\u001B[1;32m    214\u001B[0m     \u001B[38;5;28;01mexcept\u001B[39;00m \u001B[38;5;167;01mFileExistsError\u001B[39;00m:\n\u001B[1;32m    215\u001B[0m         \u001B[38;5;66;03m# Defeats race condition when another thread created the path\u001B[39;00m\n\u001B[1;32m    216\u001B[0m         \u001B[38;5;28;01mpass\u001B[39;00m\n",
      "File \u001B[0;32m~/opt/anaconda3/lib/python3.8/os.py:223\u001B[0m, in \u001B[0;36mmakedirs\u001B[0;34m(name, mode, exist_ok)\u001B[0m\n\u001B[1;32m    221\u001B[0m         \u001B[38;5;28;01mreturn\u001B[39;00m\n\u001B[1;32m    222\u001B[0m \u001B[38;5;28;01mtry\u001B[39;00m:\n\u001B[0;32m--> 223\u001B[0m     \u001B[43mmkdir\u001B[49m\u001B[43m(\u001B[49m\u001B[43mname\u001B[49m\u001B[43m,\u001B[49m\u001B[43m \u001B[49m\u001B[43mmode\u001B[49m\u001B[43m)\u001B[49m\n\u001B[1;32m    224\u001B[0m \u001B[38;5;28;01mexcept\u001B[39;00m \u001B[38;5;167;01mOSError\u001B[39;00m:\n\u001B[1;32m    225\u001B[0m     \u001B[38;5;66;03m# Cannot rely on checking for EEXIST, since the operating system\u001B[39;00m\n\u001B[1;32m    226\u001B[0m     \u001B[38;5;66;03m# could give priority to other errors like EACCES or EROFS\u001B[39;00m\n\u001B[1;32m    227\u001B[0m     \u001B[38;5;28;01mif\u001B[39;00m \u001B[38;5;129;01mnot\u001B[39;00m exist_ok \u001B[38;5;129;01mor\u001B[39;00m \u001B[38;5;129;01mnot\u001B[39;00m path\u001B[38;5;241m.\u001B[39misdir(name):\n",
      "\u001B[0;31mOSError\u001B[0m: [Errno 30] Read-only file system: '/resources'"
     ]
    }
   ],
   "execution_count": 66
  },
  {
   "metadata": {},
   "cell_type": "markdown",
   "source": "## Evaluation",
   "id": "c2ec0f5d6a56f921"
  },
  {
   "metadata": {
    "ExecuteTime": {
     "end_time": "2024-07-12T00:33:00.095700Z",
     "start_time": "2024-07-12T00:32:51.328132Z"
    }
   },
   "cell_type": "code",
   "source": "model.evaluate(test_dataset)",
   "id": "c773151df454a297",
   "outputs": [
    {
     "name": "stdout",
     "output_type": "stream",
     "text": [
      "1/1 [==============================] - 9s 9s/step - loss: 0.0525 - accuracy: 0.9951\n"
     ]
    },
    {
     "data": {
      "text/plain": [
       "[0.05250873416662216, 0.9951171875]"
      ]
     },
     "execution_count": 67,
     "metadata": {},
     "output_type": "execute_result"
    }
   ],
   "execution_count": 67
  },
  {
   "metadata": {
    "ExecuteTime": {
     "end_time": "2024-07-12T00:33:16.804368Z",
     "start_time": "2024-07-12T00:33:04.168057Z"
    }
   },
   "cell_type": "code",
   "source": [
    "y_pred = model.predict(test_dataset)\n",
    "y_pred = np.argmax(y_pred.logits, axis=2)\n",
    "y_pred = [[idx2tag[idx] for idx in row] for row in y_pred]\n",
    "y_true = test['label'].values"
   ],
   "id": "81f25144a05fa151",
   "outputs": [
    {
     "name": "stdout",
     "output_type": "stream",
     "text": [
      "1/1 [==============================] - 13s 13s/step\n"
     ]
    }
   ],
   "execution_count": 68
  },
  {
   "metadata": {
    "ExecuteTime": {
     "end_time": "2024-07-12T00:33:20.250450Z",
     "start_time": "2024-07-12T00:33:20.115483Z"
    }
   },
   "cell_type": "code",
   "source": [
    "y_pred = [tag for row in y_pred for tag in row]\n",
    "y_true = [tag for row in y_true for tag in row]\n",
    "\n",
    "print(classification_report(y_true, y_pred))"
   ],
   "id": "2d8e7a0d911076d7",
   "outputs": [
    {
     "name": "stdout",
     "output_type": "stream",
     "text": [
      "              precision    recall  f1-score   support\n",
      "\n",
      "    B-Author       0.00      0.00      0.00         9\n",
      "      B-Book       0.00      0.00      0.00        19\n",
      " B-Publisher       0.00      0.00      0.00         2\n",
      "B-Translator       0.00      0.00      0.00         1\n",
      "    I-Author       0.00      0.00      0.00         3\n",
      "      I-Book       0.00      0.00      0.00         5\n",
      "I-Translator       0.00      0.00      0.00         1\n",
      "           O       1.00      1.00      1.00      8152\n",
      "\n",
      "    accuracy                           1.00      8192\n",
      "   macro avg       0.12      0.12      0.12      8192\n",
      "weighted avg       0.99      1.00      0.99      8192\n",
      "\n"
     ]
    },
    {
     "name": "stderr",
     "output_type": "stream",
     "text": [
      "/Users/AMF/opt/anaconda3/lib/python3.8/site-packages/sklearn/metrics/_classification.py:1471: UndefinedMetricWarning: Precision and F-score are ill-defined and being set to 0.0 in labels with no predicted samples. Use `zero_division` parameter to control this behavior.\n",
      "  _warn_prf(average, modifier, msg_start, len(result))\n",
      "/Users/AMF/opt/anaconda3/lib/python3.8/site-packages/sklearn/metrics/_classification.py:1471: UndefinedMetricWarning: Precision and F-score are ill-defined and being set to 0.0 in labels with no predicted samples. Use `zero_division` parameter to control this behavior.\n",
      "  _warn_prf(average, modifier, msg_start, len(result))\n",
      "/Users/AMF/opt/anaconda3/lib/python3.8/site-packages/sklearn/metrics/_classification.py:1471: UndefinedMetricWarning: Precision and F-score are ill-defined and being set to 0.0 in labels with no predicted samples. Use `zero_division` parameter to control this behavior.\n",
      "  _warn_prf(average, modifier, msg_start, len(result))\n"
     ]
    }
   ],
   "execution_count": 69
  },
  {
   "metadata": {
    "ExecuteTime": {
     "end_time": "2024-07-12T00:35:41.089405Z",
     "start_time": "2024-07-12T00:35:40.196876Z"
    }
   },
   "cell_type": "code",
   "source": [
    "cm = confusion_matrix(y_true, y_pred)\n",
    "cm = cm / cm.sum(axis=1)[:, np.newaxis]\n",
    "plt.figure(figsize=(10, 7))\n",
    "sns.heatmap(cm, annot=True, xticklabels=tags, yticklabels=tags, cmap='Blues')\n",
    "plt.show()"
   ],
   "id": "52acbd721b76542a",
   "outputs": [
    {
     "data": {
      "text/plain": [
       "<Figure size 1000x700 with 2 Axes>"
      ],
      "image/png": "[encoded data removed]"
     },
     "metadata": {},
     "output_type": "display_data"
    }
   ],
   "execution_count": 72
  },
  {
   "metadata": {
    "ExecuteTime": {
     "end_time": "2024-07-12T00:37:00.646904Z",
     "start_time": "2024-07-12T00:37:00.118882Z"
    }
   },
   "cell_type": "code",
   "source": [
    "print('Accuracy:', accuracy_score(y_true, y_pred))\n",
    "print()\n",
    "print('Micro Precision:', precision_score(y_true, y_pred, average='micro'))\n",
    "print('Macro Precision:', precision_score(y_true, y_pred, average='macro'))\n",
    "print('Weighted Precision:', precision_score(y_true, y_pred, average='weighted'))\n",
    "print()\n",
    "print('Micro Recall:', recall_score(y_true, y_pred, average='micro'))\n",
    "print('Macro Recall:', recall_score(y_true, y_pred, average='macro'))\n",
    "print('Weighted Recall:', recall_score(y_true, y_pred, average='weighted'))\n",
    "print()\n",
    "print('Micro F1-score:', f1_score(y_true, y_pred, average='micro'))\n",
    "print('Macro F1-score:', f1_score(y_true, y_pred, average='macro'))\n",
    "print('Weighted F1-score:', f1_score(y_true, y_pred, average='weighted'))"
   ],
   "id": "adf7c624ad0bcf86",
   "outputs": [
    {
     "name": "stdout",
     "output_type": "stream",
     "text": [
      "Accuracy: 0.9951171875\n",
      "\n",
      "Micro Precision: 0.9951171875\n",
      "Macro Precision: 0.1243896484375\n",
      "Weighted Precision: 0.9902582168579102\n",
      "\n",
      "Micro Recall: 0.9951171875\n"
     ]
    },
    {
     "name": "stderr",
     "output_type": "stream",
     "text": [
      "/Users/AMF/opt/anaconda3/lib/python3.8/site-packages/sklearn/metrics/_classification.py:1471: UndefinedMetricWarning: Precision is ill-defined and being set to 0.0 in labels with no predicted samples. Use `zero_division` parameter to control this behavior.\n",
      "  _warn_prf(average, modifier, msg_start, len(result))\n",
      "/Users/AMF/opt/anaconda3/lib/python3.8/site-packages/sklearn/metrics/_classification.py:1471: UndefinedMetricWarning: Precision is ill-defined and being set to 0.0 in labels with no predicted samples. Use `zero_division` parameter to control this behavior.\n",
      "  _warn_prf(average, modifier, msg_start, len(result))\n"
     ]
    },
    {
     "name": "stdout",
     "output_type": "stream",
     "text": [
      "Macro Recall: 0.125\n",
      "Weighted Recall: 0.9951171875\n",
      "\n",
      "Micro F1-score: 0.9951171875\n",
      "Macro F1-score: 0.12469407733724915\n",
      "Weighted F1-score: 0.9926817563020068\n"
     ]
    }
   ],
   "execution_count": 75
  }
 ],
 "metadata": {
  "kernelspec": {
   "display_name": "Python 3",
   "language": "python",
   "name": "python3"
  },
  "language_info": {
   "codemirror_mode": {
    "name": "ipython",
    "version": 2
   },
   "file_extension": ".py",
   "mimetype": "text/x-python",
   "name": "python",
   "nbconvert_exporter": "python",
   "pygments_lexer": "ipython2",
   "version": "2.7.6"
  }
 },
 "nbformat": 4,
 "nbformat_minor": 5
}
