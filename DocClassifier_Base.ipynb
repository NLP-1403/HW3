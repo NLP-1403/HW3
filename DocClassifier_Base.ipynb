{
 "cells": [
  {
   "cell_type": "markdown",
   "metadata": {},
   "source": [
    "## Import Necessary Libraries"
   ]
  },
  {
   "cell_type": "code",
   "execution_count": 23,
   "metadata": {
    "execution": {
     "iopub.execute_input": "2024-07-10T07:25:34.584835Z",
     "iopub.status.busy": "2024-07-10T07:25:34.584248Z",
     "iopub.status.idle": "2024-07-10T07:25:34.590724Z",
     "shell.execute_reply": "2024-07-10T07:25:34.589812Z",
     "shell.execute_reply.started": "2024-07-10T07:25:34.584806Z"
    }
   },
   "outputs": [],
   "source": [
    "import re\n",
    "import pandas as pd\n",
    "import seaborn as sns\n",
    "from tqdm import tqdm\n",
    "import matplotlib.pyplot as plt\n",
    "from sklearn.utils import resample\n",
    "from sklearn.pipeline import Pipeline\n",
    "from sklearn.linear_model import LogisticRegression\n",
    "from sklearn.feature_extraction.text import TfidfVectorizer\n",
    "from sklearn.model_selection import train_test_split, GridSearchCV\n",
    "from sklearn.metrics import classification_report, confusion_matrix, accuracy_score, precision_score, recall_score, f1_score"
   ]
  },
  {
   "cell_type": "markdown",
   "metadata": {},
   "source": [
    "## Loading the Dataset"
   ]
  },
  {
   "cell_type": "code",
   "execution_count": 14,
   "metadata": {
    "execution": {
     "iopub.execute_input": "2024-07-10T07:15:04.609324Z",
     "iopub.status.busy": "2024-07-10T07:15:04.608591Z",
     "iopub.status.idle": "2024-07-10T07:15:05.190388Z",
     "shell.execute_reply": "2024-07-10T07:15:05.189460Z",
     "shell.execute_reply.started": "2024-07-10T07:15:04.609291Z"
    }
   },
   "outputs": [
    {
     "data": {
      "text/html": [
       "<div>\n",
       "<style scoped>\n",
       "    .dataframe tbody tr th:only-of-type {\n",
       "        vertical-align: middle;\n",
       "    }\n",
       "\n",
       "    .dataframe tbody tr th {\n",
       "        vertical-align: top;\n",
       "    }\n",
       "\n",
       "    .dataframe thead th {\n",
       "        text-align: right;\n",
       "    }\n",
       "</style>\n",
       "<table border=\"1\" class=\"dataframe\">\n",
       "  <thead>\n",
       "    <tr style=\"text-align: right;\">\n",
       "      <th></th>\n",
       "      <th>date</th>\n",
       "      <th>comment</th>\n",
       "      <th>bookname</th>\n",
       "      <th>rate</th>\n",
       "      <th>bookID</th>\n",
       "      <th>like</th>\n",
       "    </tr>\n",
       "  </thead>\n",
       "  <tbody>\n",
       "    <tr>\n",
       "      <th>0</th>\n",
       "      <td>1395/11/14</td>\n",
       "      <td>اسم کتاب   No one writes to the Colonel\\nترجمش...</td>\n",
       "      <td>سرهنگ کسی ندارد برایش نامه بنویسد</td>\n",
       "      <td>0.0</td>\n",
       "      <td>3.0</td>\n",
       "      <td>2.0</td>\n",
       "    </tr>\n",
       "    <tr>\n",
       "      <th>1</th>\n",
       "      <td>1395/11/14</td>\n",
       "      <td>طاقچه عزیز،نام کتاب\"کسی به سرهنگ نامه نمینویسد...</td>\n",
       "      <td>سرهنگ کسی ندارد برایش نامه بنویسد</td>\n",
       "      <td>5.0</td>\n",
       "      <td>3.0</td>\n",
       "      <td>2.0</td>\n",
       "    </tr>\n",
       "    <tr>\n",
       "      <th>2</th>\n",
       "      <td>1394/06/06</td>\n",
       "      <td>بنظرم این اثر مارکز خیلی از صد سال تنهایی که ب...</td>\n",
       "      <td>سرهنگ کسی ندارد برایش نامه بنویسد</td>\n",
       "      <td>5.0</td>\n",
       "      <td>3.0</td>\n",
       "      <td>0.0</td>\n",
       "    </tr>\n",
       "    <tr>\n",
       "      <th>3</th>\n",
       "      <td>1393/09/02</td>\n",
       "      <td>به نظر کتاب خوبی میومد اما من از ترجمش خوشم نی...</td>\n",
       "      <td>سرهنگ کسی ندارد برایش نامه بنویسد</td>\n",
       "      <td>2.0</td>\n",
       "      <td>3.0</td>\n",
       "      <td>0.0</td>\n",
       "    </tr>\n",
       "    <tr>\n",
       "      <th>4</th>\n",
       "      <td>1393/06/29</td>\n",
       "      <td>کتاب خوبی است</td>\n",
       "      <td>سرهنگ کسی ندارد برایش نامه بنویسد</td>\n",
       "      <td>3.0</td>\n",
       "      <td>3.0</td>\n",
       "      <td>0.0</td>\n",
       "    </tr>\n",
       "  </tbody>\n",
       "</table>\n",
       "</div>"
      ],
      "text/plain": [
       "         date                                            comment  \\\n",
       "0  1395/11/14  اسم کتاب   No one writes to the Colonel\\nترجمش...   \n",
       "1  1395/11/14  طاقچه عزیز،نام کتاب\"کسی به سرهنگ نامه نمینویسد...   \n",
       "2  1394/06/06  بنظرم این اثر مارکز خیلی از صد سال تنهایی که ب...   \n",
       "3  1393/09/02  به نظر کتاب خوبی میومد اما من از ترجمش خوشم نی...   \n",
       "4  1393/06/29                                      کتاب خوبی است   \n",
       "\n",
       "                            bookname  rate  bookID  like  \n",
       "0  سرهنگ کسی ندارد برایش نامه بنویسد   0.0     3.0   2.0  \n",
       "1  سرهنگ کسی ندارد برایش نامه بنویسد   5.0     3.0   2.0  \n",
       "2  سرهنگ کسی ندارد برایش نامه بنویسد   5.0     3.0   0.0  \n",
       "3  سرهنگ کسی ندارد برایش نامه بنویسد   2.0     3.0   0.0  \n",
       "4  سرهنگ کسی ندارد برایش نامه بنویسد   3.0     3.0   0.0  "
      ]
     },
     "execution_count": 14,
     "metadata": {},
     "output_type": "execute_result"
    }
   ],
   "source": [
    "# Import the pandas library for data manipulation\n",
    "import pandas as pd\n",
    "\n",
    "# Load the CSV file into a pandas DataFrame\n",
    "# The file 'taghche.csv' is located in the 'datasets/' directory\n",
    "data = pd.read_csv('datasets/taghche.csv')\n",
    "\n",
    "# Remove any duplicate rows in the DataFrame\n",
    "data = data.drop_duplicates()\n",
    "\n",
    "# Drop rows where the 'comment' or 'rate' columns have missing values (NaN)\n",
    "data.dropna(subset=['comment', 'rate'], inplace=True)\n",
    "\n",
    "# Print the first 5 rows of the cleaned DataFrame\n",
    "print(data.head())"
   ]
  },
  {
   "cell_type": "code",
   "execution_count": 15,
   "metadata": {
    "execution": {
     "iopub.execute_input": "2024-07-10T07:15:05.193813Z",
     "iopub.status.busy": "2024-07-10T07:15:05.193170Z",
     "iopub.status.idle": "2024-07-10T07:15:05.198217Z",
     "shell.execute_reply": "2024-07-10T07:15:05.197352Z",
     "shell.execute_reply.started": "2024-07-10T07:15:05.193785Z"
    }
   },
   "outputs": [],
   "source": [
    "# Function to label the sentiment based on rating thresholds\n",
    "def label_sentiment(rate, positive_threshold, neutral_threshold):\n",
    "    \"\"\"\n",
    "    Labels sentiment based on rating thresholds.\n",
    "\n",
    "    Args:\n",
    "    - rate (int or float): The numerical rating to evaluate.\n",
    "    - positive_threshold (int or float): The minimum rating value that qualifies as 'positive'.\n",
    "    - neutral_threshold (int or float): The minimum rating value that qualifies as 'neutral'; ratings below this are considered 'negative'.\n",
    "\n",
    "    Returns:\n",
    "    - str: The sentiment label ('positive', 'neutral', or 'negative') based on the rating.\n",
    "    \"\"\"\n",
    "    # Check if the rating is greater than or equal to the positive threshold\n",
    "    if rate >= positive_threshold:\n",
    "        return 'positive'\n",
    "    # If the rating is not 'positive', check if it is greater than or equal to the neutral threshold\n",
    "    elif rate >= neutral_threshold:\n",
    "        return 'neutral'\n",
    "    # If the rating is neither 'positive' nor 'neutral', label the sentiment as 'negative'\n",
    "    else:\n",
    "        return 'negative'"
   ]
  },
  {
   "cell_type": "markdown",
   "metadata": {},
   "source": [
    "## Balancing Dataset"
   ]
  },
  {
   "cell_type": "code",
   "execution_count": 16,
   "metadata": {
    "execution": {
     "iopub.execute_input": "2024-07-10T07:15:05.200529Z",
     "iopub.status.busy": "2024-07-10T07:15:05.199534Z",
     "iopub.status.idle": "2024-07-10T07:15:05.210675Z",
     "shell.execute_reply": "2024-07-10T07:15:05.209796Z",
     "shell.execute_reply.started": "2024-07-10T07:15:05.200495Z"
    }
   },
   "outputs": [],
   "source": [
    "# Function to prepare data and labels based on given thresholds\n",
    "def prepare_data(positive_threshold, neutral_threshold):\n",
    "    \"\"\"\n",
    "    Prepares the data and labels based on given thresholds for sentiment classification.\n",
    "\n",
    "    Args:\n",
    "    - positive_threshold (int or float): The minimum rating value that qualifies as 'positive'.\n",
    "    - neutral_threshold (int or float): The minimum rating value that qualifies as 'neutral'; ratings below this are considered 'negative'.\n",
    "\n",
    "    Returns:\n",
    "    - tuple: A tuple containing:\n",
    "        - pandas.Series: The comments from the balanced dataset.\n",
    "        - pandas.Series: The corresponding sentiment labels from the balanced dataset.\n",
    "    \"\"\"\n",
    "    # Create a copy of the original data to avoid modifying it\n",
    "    labeled_data = data.copy()\n",
    "    \n",
    "    # Apply the label_sentiment function to the 'rate' column to create a new 'sentiment' column\n",
    "    labeled_data['sentiment'] = labeled_data['rate'].apply(lambda x: label_sentiment(x, positive_threshold, neutral_threshold))\n",
    "    \n",
    "    # Combine the 'comment' and 'sentiment' columns into a single DataFrame\n",
    "    df = pd.concat([labeled_data['comment'], labeled_data['sentiment']], axis=1)\n",
    "\n",
    "    # Separate the DataFrame into three classes based on sentiment\n",
    "    positive = df[df['sentiment'] == 'positive']\n",
    "    neutral = df[df['sentiment'] == 'neutral']\n",
    "    negative = df[df['sentiment'] == 'negative']\n",
    "\n",
    "    # Determine the size of the smallest class to balance the dataset\n",
    "    min_class_size = min(len(positive), len(neutral), len(negative))\n",
    "\n",
    "    # Downsample each class to the size of the smallest class to ensure balance\n",
    "    positive_downsampled = resample(positive, replace=False, n_samples=min_class_size, random_state=42)\n",
    "    neutral_downsampled = resample(neutral, replace=False, n_samples=min_class_size, random_state=42)\n",
    "    negative_downsampled = resample(negative, replace=False, n_samples=min_class_size, random_state=42)\n",
    "\n",
    "    # Combine the downsampled classes into a single DataFrame\n",
    "    df_balanced = pd.concat([positive_downsampled, neutral_downsampled, negative_downsampled])\n",
    "\n",
    "    # Shuffle the balanced DataFrame to mix the rows\n",
    "    df_balanced = df_balanced.sample(frac=1, random_state=42).reset_index(drop=True)\n",
    "    \n",
    "    # Return the 'comment' and 'sentiment' columns as separate pandas Series\n",
    "    return df_balanced['comment'], df_balanced['sentiment']"
   ]
  },
  {
   "cell_type": "markdown",
   "metadata": {},
   "source": [
    "## Preprocess"
   ]
  },
  {
   "cell_type": "code",
   "execution_count": 17,
   "metadata": {
    "execution": {
     "iopub.execute_input": "2024-07-10T07:15:05.212153Z",
     "iopub.status.busy": "2024-07-10T07:15:05.211819Z",
     "iopub.status.idle": "2024-07-10T07:15:07.001487Z",
     "shell.execute_reply": "2024-07-10T07:15:07.000717Z",
     "shell.execute_reply.started": "2024-07-10T07:15:05.212121Z"
    }
   },
   "outputs": [],
   "source": [
    "# Function to preprocess and normalize the text\n",
    "def preprocess(text):\n",
    "    \"\"\"\n",
    "    Preprocesses and normalizes text data by removing special characters,\n",
    "    non-Persian characters, digits, and multiple spaces.\n",
    "\n",
    "    Args:\n",
    "    - text (str): Input text to be processed.\n",
    "\n",
    "    Returns:\n",
    "    - str: Processed text with normalized format.\n",
    "    \"\"\"\n",
    "    # Replace one or more newline characters with a single newline\n",
    "    pattern = re.compile(r\"\\n+\")\n",
    "    text = pattern.sub(\"\\n\", text)\n",
    "    \n",
    "    # Replace '\\n' and '\\n' with a single space\n",
    "    text = re.sub(r'\\\\n|\\n', ' ', text)\n",
    "    \n",
    "    # Remove non-Persian characters and digits\n",
    "    text = re.sub(r'[^آ-ی\\s]', ' ', text)\n",
    "    \n",
    "    # Replace one or more spaces with a single space\n",
    "    pattern = re.compile(r\" +\")\n",
    "    text = pattern.sub(\" \", text)\n",
    "    \n",
    "    return text\n",
    "\n",
    "# Apply the preprocess function to the 'comment' column in the DataFrame data\n",
    "data['comment'] = data['comment'].apply(preprocess)"
   ]
  },
  {
   "cell_type": "code",
   "execution_count": 18,
   "metadata": {
    "execution": {
     "iopub.execute_input": "2024-07-10T07:15:07.002774Z",
     "iopub.status.busy": "2024-07-10T07:15:07.002525Z",
     "iopub.status.idle": "2024-07-10T07:15:07.141528Z",
     "shell.execute_reply": "2024-07-10T07:15:07.140744Z",
     "shell.execute_reply.started": "2024-07-10T07:15:07.002752Z"
    }
   },
   "outputs": [],
   "source": [
    "# Remove any duplicate rows in the DataFrame\n",
    "data = data.drop_duplicates()\n",
    "\n",
    "# Drop rows where the 'comment' or 'rate' columns have missing values (NaN)\n",
    "data.dropna(subset=['comment', 'rate'], inplace=True)"
   ]
  },
  {
   "cell_type": "markdown",
   "metadata": {},
   "source": [
    "## TF-IDF Vectorizer - Logistic Regression"
   ]
  },
  {
   "cell_type": "code",
   "execution_count": 30,
   "metadata": {
    "execution": {
     "iopub.execute_input": "2024-07-10T08:46:23.882796Z",
     "iopub.status.busy": "2024-07-10T08:46:23.881903Z",
     "iopub.status.idle": "2024-07-10T09:15:46.570649Z",
     "shell.execute_reply": "2024-07-10T09:15:46.569684Z",
     "shell.execute_reply.started": "2024-07-10T08:46:23.882763Z"
    }
   },
   "outputs": [
    {
     "name": "stderr",
     "output_type": "stream",
     "text": [
      "100%|██████████| 6/6 [29:22<00:00, 293.78s/it]"
     ]
    },
    {
     "name": "stdout",
     "output_type": "stream",
     "text": [
      "Best parameters for TF-IDF model are: {'logreg__C': 1, 'tfidf__max_features': 10000, 'tfidf__ngram_range': (1, 2), 'positive_threshold': 4, 'neutral_threshold': 2}\n"
     ]
    },
    {
     "name": "stderr",
     "output_type": "stream",
     "text": [
      "\n"
     ]
    }
   ],
   "source": [
    "# Create a pipeline with TF-IDF and logistic regression\n",
    "logReg_PL = Pipeline([\n",
    "    (\"tfidf\", TfidfVectorizer()),\n",
    "    (\"logreg\", LogisticRegression(max_iter=500, solver='newton-cg'))\n",
    "])\n",
    "\n",
    "# Define the parameter grid for GridSearchCV\n",
    "param_grid = {\n",
    "    'tfidf__ngram_range': [(1, 1), (1, 2), (1, 3)],\n",
    "    'tfidf__max_features': [5000, 10000],\n",
    "    'logreg__C': [0.01, 0.1, 1, 10]\n",
    "}\n",
    "\n",
    "# Custom GridSearchCV implementation to iterate over parameter grid\n",
    "best_score = 0\n",
    "best_params = None\n",
    "\n",
    "# Thresholds to evaluate\n",
    "rate_thresholds = [(1, 2), (1, 3), (1, 4), (2, 3), (2, 4), (3, 4)]\n",
    "\n",
    "# Iterate over each pair of thresholds and perform GridSearchCV\n",
    "for neutral_threshold, positive_threshold in tqdm(rate_thresholds):\n",
    "    # Prepare the data using the specified thresholds\n",
    "    X_prepared, y_prepared = prepare_data(positive_threshold, neutral_threshold)\n",
    "    \n",
    "    # Split the data into training and testing sets\n",
    "    X_train, X_test, y_train, y_test = train_test_split(X_prepared, y_prepared, test_size=0.1, random_state=42)\n",
    "    \n",
    "    # Initialize GridSearchCV with the pipeline and parameter grid\n",
    "    grid_search = GridSearchCV(logReg_PL, param_grid, cv=5, scoring='accuracy')\n",
    "    \n",
    "    # Fit GridSearchCV on the training data\n",
    "    grid_search.fit(X_train, y_train)\n",
    "    \n",
    "    # Get the best score and parameters from GridSearchCV\n",
    "    score = grid_search.best_score_\n",
    "    \n",
    "    # Update the best score and best parameters if the current score is better\n",
    "    if score > best_score:\n",
    "        best_score = score\n",
    "        best_params = grid_search.best_params_\n",
    "        best_params['positive_threshold'] = positive_threshold\n",
    "        best_params['neutral_threshold'] = neutral_threshold\n",
    "\n",
    "# Print the best parameters found by GridSearchCV\n",
    "print(\"Best parameters for TF-IDF model are:\", best_params)"
   ]
  },
  {
   "cell_type": "code",
   "execution_count": 31,
   "metadata": {
    "execution": {
     "iopub.execute_input": "2024-07-10T09:23:05.074303Z",
     "iopub.status.busy": "2024-07-10T09:23:05.073454Z",
     "iopub.status.idle": "2024-07-10T09:23:11.725264Z",
     "shell.execute_reply": "2024-07-10T09:23:11.724312Z",
     "shell.execute_reply.started": "2024-07-10T09:23:05.074268Z"
    }
   },
   "outputs": [
    {
     "name": "stdout",
     "output_type": "stream",
     "text": [
      "Test accuracy of Logistic Regression model:  0.614314115308151\n"
     ]
    }
   ],
   "source": [
    "# Prepare the data using the best parameters found from GridSearchCV\n",
    "X_prepared, y_prepared = prepare_data(best_params['positive_threshold'], best_params['neutral_threshold'])\n",
    "\n",
    "# Split the prepared data into training and testing sets\n",
    "X_train, X_test, y_train, y_test = train_test_split(X_prepared, y_prepared, test_size=0.1, random_state=42)\n",
    "\n",
    "# Create a pipeline for the best Logistic Regression model with the best parameters\n",
    "best_logReg_model = Pipeline([\n",
    "    (\"tfidf\", TfidfVectorizer(ngram_range=best_params['tfidf__ngram_range'], max_features=best_params['tfidf__max_features'])),\n",
    "    (\"logreg\", LogisticRegression(C=best_params['logreg__C'], max_iter=500, solver='newton-cg'))\n",
    "])\n",
    "\n",
    "# Fit the best Logistic Regression model on the training data\n",
    "best_logReg_model.fit(X_train, y_train)\n",
    "\n",
    "# Predict the labels on the test set using the best model\n",
    "y_test_pred = best_logReg_model.predict(X_test)\n",
    "\n",
    "# Calculate the accuracy score of the best model on the test set\n",
    "test_accuracy = accuracy_score(y_test, y_test_pred)\n",
    "\n",
    "# Print the test accuracy score of the best Logistic Regression model\n",
    "print(\"Test accuracy of Logistic Regression model:\", test_accuracy)"
   ]
  },
  {
   "cell_type": "markdown",
   "metadata": {},
   "source": [
    "## Results and Evaluation Metrics"
   ]
  },
  {
   "cell_type": "code",
   "execution_count": 32,
   "metadata": {
    "execution": {
     "iopub.execute_input": "2024-07-10T09:23:27.017369Z",
     "iopub.status.busy": "2024-07-10T09:23:27.017009Z",
     "iopub.status.idle": "2024-07-10T09:23:27.574128Z",
     "shell.execute_reply": "2024-07-10T09:23:27.572937Z",
     "shell.execute_reply.started": "2024-07-10T09:23:27.017341Z"
    }
   },
   "outputs": [
    {
     "name": "stdout",
     "output_type": "stream",
     "text": [
      "Classification Report:\n",
      "               precision    recall  f1-score      support\n",
      "Negative       0.576887  0.623992  0.599516   992.000000\n",
      "Neutral        0.592161  0.557884  0.574512  1002.000000\n",
      "Positive       0.675325  0.660156  0.667654  1024.000000\n",
      "accuracy       0.614314  0.614314  0.614314     0.614314\n",
      "macro avg      0.614791  0.614011  0.613894  3018.000000\n",
      "weighted avg   0.615358  0.614314  0.614333  3018.000000\n"
     ]
    },
    {
     "data": {
      "image/png": "[encoded data removed]",
      "text/plain": [
       "<Figure size 1000x700 with 2 Axes>"
      ]
     },
     "metadata": {},
     "output_type": "display_data"
    },
    {
     "name": "stdout",
     "output_type": "stream",
     "text": [
      "\n",
      "Overall Metrics:\n",
      "Accuracy: 0.6143\n",
      "Precision: 0.6154\n",
      "Recall: 0.6143\n",
      "F1 Score: 0.6143\n"
     ]
    }
   ],
   "source": [
    "def evaluate_model(y_true, y_pred, class_names):\n",
    "    \"\"\"\n",
    "    Evaluates the performance of a classification model using various metrics and visualizations.\n",
    "\n",
    "    Args:\n",
    "    - y_true (array-like): True labels of the data.\n",
    "    - y_pred (array-like): Predicted labels of the data.\n",
    "    - class_names (list): List of class names in the same order as the confusion matrix.\n",
    "\n",
    "    Returns:\n",
    "    - pd.DataFrame: DataFrame containing the classification report.\n",
    "    \"\"\"\n",
    "    # Generate and print the classification report\n",
    "    report = classification_report(y_true, y_pred, target_names=class_names, output_dict=True)\n",
    "    report_df = pd.DataFrame(report).transpose()\n",
    "    print(\"Classification Report:\\n\", report_df)\n",
    "\n",
    "    # Generate and display the confusion matrix as a heatmap\n",
    "    cm = confusion_matrix(y_true, y_pred)\n",
    "    plt.figure(figsize=(10, 7))\n",
    "    sns.heatmap(cm, annot=True, fmt='d', cmap='Blues', xticklabels=class_names, yticklabels=class_names)\n",
    "    plt.xlabel('Predicted')\n",
    "    plt.ylabel('True')\n",
    "    plt.title('Confusion Matrix')\n",
    "    plt.show()\n",
    "\n",
    "    # Calculate and print overall metrics: accuracy, precision, recall, and F1 score\n",
    "    accuracy = accuracy_score(y_true, y_pred)\n",
    "    precision = precision_score(y_true, y_pred, average='weighted')\n",
    "    recall = recall_score(y_true, y_pred, average='weighted')\n",
    "    f1 = f1_score(y_true, y_pred, average='weighted')\n",
    "\n",
    "    metrics = {\n",
    "        \"Accuracy\": accuracy,\n",
    "        \"Precision\": precision,\n",
    "        \"Recall\": recall,\n",
    "        \"F1 Score\": f1\n",
    "    }\n",
    "\n",
    "    print(\"\\nOverall Metrics:\")\n",
    "    for metric, value in metrics.items():\n",
    "        print(f\"{metric}: {value:.4f}\")\n",
    "    \n",
    "    return report_df\n",
    "\n",
    "# Evaluate the model\n",
    "report_df = evaluate_model(y_test, y_test_pred, [\"Negative\", \"Neutral\", \"Positive\"])"
   ]
  }
 ],
 "metadata": {
  "kaggle": {
   "accelerator": "gpu",
   "dataSources": [
    {
     "datasetId": 5362008,
     "sourceId": 8916124,
     "sourceType": "datasetVersion"
    }
   ],
   "dockerImageVersionId": 30733,
   "isGpuEnabled": true,
   "isInternetEnabled": true,
   "language": "python",
   "sourceType": "notebook"
  },
  "kernelspec": {
   "display_name": "Python 3 (ipykernel)",
   "language": "python",
   "name": "python3"
  },
  "language_info": {
   "codemirror_mode": {
    "name": "ipython",
    "version": 3
   },
   "file_extension": ".py",
   "mimetype": "text/x-python",
   "name": "python",
   "nbconvert_exporter": "python",
   "pygments_lexer": "ipython3",
   "version": "3.10.3"
  }
 },
 "nbformat": 4,
 "nbformat_minor": 4
}
