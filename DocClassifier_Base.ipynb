{
 "cells": [
  {
   "cell_type": "markdown",
   "source": [
    "## Import Necessary Libraries"
   ],
   "metadata": {
    "collapsed": false
   },
   "id": "39aa1084fab3b3e4"
  },
  {
   "cell_type": "code",
   "execution_count": 1,
   "outputs": [],
   "source": [
    "import pandas as pd\n",
    "import re\n",
    "from spacing import Spacing\n",
    "from sklearn.model_selection import train_test_split, GridSearchCV, cross_val_score\n",
    "from sklearn.feature_extraction.text import TfidfVectorizer\n",
    "from sklearn.linear_model import LogisticRegression\n",
    "from sklearn.pipeline import Pipeline\n",
    "from sklearn.metrics import accuracy_score, classification_report\n",
    "from sklearn.utils import resample\n",
    "from hazm import *"
   ],
   "metadata": {
    "collapsed": false,
    "ExecuteTime": {
     "end_time": "2024-06-23T12:38:11.325558400Z",
     "start_time": "2024-06-23T12:38:10.105290500Z"
    }
   },
   "id": "97f0d1fee59d718e"
  },
  {
   "cell_type": "markdown",
   "source": [
    "## Loading the Dataset"
   ],
   "metadata": {
    "collapsed": false
   },
   "id": "b7802c057607f3b6"
  },
  {
   "cell_type": "code",
   "execution_count": 2,
   "id": "initial_id",
   "metadata": {
    "collapsed": true,
    "ExecuteTime": {
     "end_time": "2024-06-23T12:38:12.882434700Z",
     "start_time": "2024-06-23T12:38:12.436358400Z"
    }
   },
   "outputs": [
    {
     "data": {
      "text/plain": "         date                                            comment  \\\n0  1395/11/14  اسم کتاب   No one writes to the Colonel\\nترجمش...   \n1  1395/11/14  طاقچه عزیز،نام کتاب\"کسی به سرهنگ نامه نمینویسد...   \n2  1394/06/06  بنظرم این اثر مارکز خیلی از صد سال تنهایی که ب...   \n3  1393/09/02  به نظر کتاب خوبی میومد اما من از ترجمش خوشم نی...   \n4  1393/06/29                                      کتاب خوبی است   \n\n                            bookname  rate  bookID  like  \n0  سرهنگ کسی ندارد برایش نامه بنویسد   0.0     3.0   2.0  \n1  سرهنگ کسی ندارد برایش نامه بنویسد   5.0     3.0   2.0  \n2  سرهنگ کسی ندارد برایش نامه بنویسد   5.0     3.0   0.0  \n3  سرهنگ کسی ندارد برایش نامه بنویسد   2.0     3.0   0.0  \n4  سرهنگ کسی ندارد برایش نامه بنویسد   3.0     3.0   0.0  ",
      "text/html": "<div>\n<style scoped>\n    .dataframe tbody tr th:only-of-type {\n        vertical-align: middle;\n    }\n\n    .dataframe tbody tr th {\n        vertical-align: top;\n    }\n\n    .dataframe thead th {\n        text-align: right;\n    }\n</style>\n<table border=\"1\" class=\"dataframe\">\n  <thead>\n    <tr style=\"text-align: right;\">\n      <th></th>\n      <th>date</th>\n      <th>comment</th>\n      <th>bookname</th>\n      <th>rate</th>\n      <th>bookID</th>\n      <th>like</th>\n    </tr>\n  </thead>\n  <tbody>\n    <tr>\n      <th>0</th>\n      <td>1395/11/14</td>\n      <td>اسم کتاب   No one writes to the Colonel\\nترجمش...</td>\n      <td>سرهنگ کسی ندارد برایش نامه بنویسد</td>\n      <td>0.0</td>\n      <td>3.0</td>\n      <td>2.0</td>\n    </tr>\n    <tr>\n      <th>1</th>\n      <td>1395/11/14</td>\n      <td>طاقچه عزیز،نام کتاب\"کسی به سرهنگ نامه نمینویسد...</td>\n      <td>سرهنگ کسی ندارد برایش نامه بنویسد</td>\n      <td>5.0</td>\n      <td>3.0</td>\n      <td>2.0</td>\n    </tr>\n    <tr>\n      <th>2</th>\n      <td>1394/06/06</td>\n      <td>بنظرم این اثر مارکز خیلی از صد سال تنهایی که ب...</td>\n      <td>سرهنگ کسی ندارد برایش نامه بنویسد</td>\n      <td>5.0</td>\n      <td>3.0</td>\n      <td>0.0</td>\n    </tr>\n    <tr>\n      <th>3</th>\n      <td>1393/09/02</td>\n      <td>به نظر کتاب خوبی میومد اما من از ترجمش خوشم نی...</td>\n      <td>سرهنگ کسی ندارد برایش نامه بنویسد</td>\n      <td>2.0</td>\n      <td>3.0</td>\n      <td>0.0</td>\n    </tr>\n    <tr>\n      <th>4</th>\n      <td>1393/06/29</td>\n      <td>کتاب خوبی است</td>\n      <td>سرهنگ کسی ندارد برایش نامه بنویسد</td>\n      <td>3.0</td>\n      <td>3.0</td>\n      <td>0.0</td>\n    </tr>\n  </tbody>\n</table>\n</div>"
     },
     "execution_count": 2,
     "metadata": {},
     "output_type": "execute_result"
    }
   ],
   "source": [
    "# Load the CSV file\n",
    "data = pd.read_csv('taghche.csv')\n",
    "# Remove duplicate rows and the ones with empty or NaN values in 'comment' or 'rate' columns\n",
    "data = data.drop_duplicates()\n",
    "data.dropna(subset=['comment', 'rate'], inplace=True)\n",
    "\n",
    "# Print the first 5 rows\n",
    "data.head()"
   ]
  },
  {
   "cell_type": "code",
   "execution_count": 3,
   "outputs": [],
   "source": [
    "# Define a function to label the sentiment based on rating thresholds\n",
    "def label_sentiment(rate, positive_threshold, neutral_threshold):\n",
    "    if rate >= positive_threshold:\n",
    "        return 'positive'\n",
    "    elif rate >= neutral_threshold:\n",
    "        return 'neutral'\n",
    "    else:\n",
    "        return 'negative'"
   ],
   "metadata": {
    "collapsed": false,
    "ExecuteTime": {
     "end_time": "2024-06-23T12:38:14.243447700Z",
     "start_time": "2024-06-23T12:38:14.224952200Z"
    }
   },
   "id": "f2b9d108266961a2"
  },
  {
   "cell_type": "markdown",
   "source": [
    "## Balancing Dataset"
   ],
   "metadata": {
    "collapsed": false
   },
   "id": "76c66f4a57acace7"
  },
  {
   "cell_type": "code",
   "execution_count": 4,
   "outputs": [],
   "source": [
    "# Function to prepare data and labels based on given thresholds\n",
    "def prepare_data(positive_threshold, neutral_threshold):\n",
    "    labeled_data = data.copy()\n",
    "    labeled_data['sentiment'] = labeled_data['rate'].apply(lambda x: label_sentiment(x, positive_threshold, neutral_threshold))\n",
    "    \n",
    "    # Combine the features and labels into a single dataframe\n",
    "    df = pd.concat([labeled_data['comment'], labeled_data['sentiment']], axis=1)\n",
    "\n",
    "    # Separate the classes\n",
    "    positive = df[df['sentiment'] == 'positive']\n",
    "    neutral = df[df['sentiment'] == 'neutral']\n",
    "    negative = df[df['sentiment'] == 'negative']\n",
    "\n",
    "    # Find the minority class\n",
    "    min_class_size = min(len(positive), len(neutral), len(negative))\n",
    "\n",
    "    # Downsample the majority classes\n",
    "    positive_downsampled = resample(positive, replace=False, n_samples=min_class_size, random_state=42)\n",
    "    neutral_downsampled = resample(neutral, replace=False, n_samples=min_class_size, random_state=42)\n",
    "    negative_downsampled = resample(negative, replace=False, n_samples=min_class_size, random_state=42)\n",
    "\n",
    "    # Combine the downsampled classes into a single dataframe\n",
    "    df_balanced = pd.concat([positive_downsampled, neutral_downsampled, negative_downsampled])\n",
    "\n",
    "    # Shuffle the dataset\n",
    "    df_balanced = df_balanced.sample(frac=1, random_state=42).reset_index(drop=True)\n",
    "    \n",
    "    return df_balanced['comment'], df_balanced['sentiment']"
   ],
   "metadata": {
    "collapsed": false,
    "ExecuteTime": {
     "end_time": "2024-06-23T12:38:22.305369300Z",
     "start_time": "2024-06-23T12:38:22.288712100Z"
    }
   },
   "id": "f6b943d99b594dd5"
  },
  {
   "cell_type": "markdown",
   "source": [
    "## Preprocess"
   ],
   "metadata": {
    "collapsed": false
   },
   "id": "b7c50b6fc396356"
  },
  {
   "cell_type": "code",
   "execution_count": 5,
   "outputs": [
    {
     "data": {
      "text/plain": "         date                                            comment  \\\n0  1395/11/14  اسم کتاب ترجمش میشه سرهنگ نامه نمینویسد مترجمی...   \n1  1395/11/14  طاقچه عزیز کتاب سرهنگ نامه نمینویسد متن اشتباه...   \n2  1394/06/06  بنظرم اثر مارکز سال تنهایی بخاطرش نوبل ادبیات ...   \n3  1393/09/02  نظر کتاب خوبی میومد ترجمش خوشم نیومد لحنش طوری...   \n4  1393/06/29                                          کتاب خوبی   \n\n                            bookname  rate  bookID  like  \n0  سرهنگ کسی ندارد برایش نامه بنویسد   0.0     3.0   2.0  \n1  سرهنگ کسی ندارد برایش نامه بنویسد   5.0     3.0   2.0  \n2  سرهنگ کسی ندارد برایش نامه بنویسد   5.0     3.0   0.0  \n3  سرهنگ کسی ندارد برایش نامه بنویسد   2.0     3.0   0.0  \n4  سرهنگ کسی ندارد برایش نامه بنویسد   3.0     3.0   0.0  ",
      "text/html": "<div>\n<style scoped>\n    .dataframe tbody tr th:only-of-type {\n        vertical-align: middle;\n    }\n\n    .dataframe tbody tr th {\n        vertical-align: top;\n    }\n\n    .dataframe thead th {\n        text-align: right;\n    }\n</style>\n<table border=\"1\" class=\"dataframe\">\n  <thead>\n    <tr style=\"text-align: right;\">\n      <th></th>\n      <th>date</th>\n      <th>comment</th>\n      <th>bookname</th>\n      <th>rate</th>\n      <th>bookID</th>\n      <th>like</th>\n    </tr>\n  </thead>\n  <tbody>\n    <tr>\n      <th>0</th>\n      <td>1395/11/14</td>\n      <td>اسم کتاب ترجمش میشه سرهنگ نامه نمینویسد مترجمی...</td>\n      <td>سرهنگ کسی ندارد برایش نامه بنویسد</td>\n      <td>0.0</td>\n      <td>3.0</td>\n      <td>2.0</td>\n    </tr>\n    <tr>\n      <th>1</th>\n      <td>1395/11/14</td>\n      <td>طاقچه عزیز کتاب سرهنگ نامه نمینویسد متن اشتباه...</td>\n      <td>سرهنگ کسی ندارد برایش نامه بنویسد</td>\n      <td>5.0</td>\n      <td>3.0</td>\n      <td>2.0</td>\n    </tr>\n    <tr>\n      <th>2</th>\n      <td>1394/06/06</td>\n      <td>بنظرم اثر مارکز سال تنهایی بخاطرش نوبل ادبیات ...</td>\n      <td>سرهنگ کسی ندارد برایش نامه بنویسد</td>\n      <td>5.0</td>\n      <td>3.0</td>\n      <td>0.0</td>\n    </tr>\n    <tr>\n      <th>3</th>\n      <td>1393/09/02</td>\n      <td>نظر کتاب خوبی میومد ترجمش خوشم نیومد لحنش طوری...</td>\n      <td>سرهنگ کسی ندارد برایش نامه بنویسد</td>\n      <td>2.0</td>\n      <td>3.0</td>\n      <td>0.0</td>\n    </tr>\n    <tr>\n      <th>4</th>\n      <td>1393/06/29</td>\n      <td>کتاب خوبی</td>\n      <td>سرهنگ کسی ندارد برایش نامه بنویسد</td>\n      <td>3.0</td>\n      <td>3.0</td>\n      <td>0.0</td>\n    </tr>\n  </tbody>\n</table>\n</div>"
     },
     "execution_count": 5,
     "metadata": {},
     "output_type": "execute_result"
    }
   ],
   "source": [
    "# Define a list of Farsi stop words\n",
    "def load_stop_words(file_paths):\n",
    "    stop_words_set = set()\n",
    "    for file_path in file_paths:\n",
    "        with open('stopwords/' + file_path, 'r', encoding='utf-8') as file:\n",
    "            stop_words_set.update(file.read().splitlines())\n",
    "    return stop_words_set\n",
    "\n",
    "# List of paths to your stop words files\n",
    "stop_words_files = ['verbal.txt', 'persian.txt', 'short.txt', 'chars.txt', 'nonverbal.txt']\n",
    "\n",
    "# Load stop words from files\n",
    "stop_words = load_stop_words(stop_words_files)\n",
    "\n",
    "# Define a function to preprocess and normalize the text\n",
    "def preprocess(text):\n",
    "    # Remove special characters\n",
    "    text = re.sub(r'\\|\\\\n|\\n', ' ', text)\n",
    "    # Remove non-Persian characters and digits\n",
    "    text = re.sub(r'[^آ-ی\\s]', ' ', text)\n",
    "    # Define a regular expression pattern that matches one or more spaces\n",
    "    pattern = re.compile(r\" +\")\n",
    "    # Apply the pattern to the text and replace the matches with a single space\n",
    "    text = pattern.sub(\" \", text)\n",
    "    # Normalize again using the function for HW1 (mostly for fixing half spaces)\n",
    "    #sp = Spacing()\n",
    "    #text = sp.fix(text)\n",
    "    # Remove stopwords\n",
    "    text = text.split()\n",
    "    text = [word for word in text if word not in stop_words]\n",
    "    # Join words back\n",
    "    text = \" \".join(text)\n",
    "    return text\n",
    "\n",
    "# Apply the function to the 'comment' column\n",
    "data['comment'] = data['comment'].apply(preprocess)\n",
    "\n",
    "# Remove duplicate rows and the ones with empty or NaN values in 'comment' or 'rate' columns\n",
    "data = data.drop_duplicates()\n",
    "data.dropna(subset=['comment', 'rate'], inplace=True)\n",
    "\n",
    "data.head()"
   ],
   "metadata": {
    "collapsed": false,
    "ExecuteTime": {
     "end_time": "2024-06-23T12:38:25.613790100Z",
     "start_time": "2024-06-23T12:38:24.498559700Z"
    }
   },
   "id": "f396978c945ab8e"
  },
  {
   "cell_type": "markdown",
   "source": [
    "# Don't run this cell"
   ],
   "metadata": {
    "collapsed": false
   },
   "id": "12cc0fde5ec15f00"
  },
  {
   "cell_type": "code",
   "execution_count": 5,
   "outputs": [
    {
     "data": {
      "text/plain": "         date                                            comment  \\\n0  1395/11/14  اسم کتاب No one writes to the Colonel ترجمش می...   \n1  1395/11/14  طاقچه عزیز ، نام کتاب \" کسی به سرهنگ نامه نمین...   \n2  1394/06/06  بنظر این اثر مارکز خیلی از صد سال تنهایی که بخ...   \n3  1393/09/02  به نظر کتاب خوبی میومد اما من از ترجمش خو نیوم...   \n4  1393/06/29                                      کتاب خوبی است   \n5  1393/05/02                          راستش خیلی خو نیومد ازش !   \n6  1393/04/11  کتابی شیوا و بینظیر یکی دیگر از شاهکار های اقا...   \n7  1398/09/30  هر هشت تای این داستان توی کتاب \" بهترین داستان...   \n8  1393/12/02  سلام چرا این نمونه نداره که بدون کدوم داستان ک...   \n9  1393/05/20  داشت#دار ب این جمع بست#بند میرسم ک مارکز هیچ ج...   \n\n                            bookname  rate  bookID  like  \n0  سرهنگ کسی ندارد برایش نامه بنویسد   0.0     3.0   2.0  \n1  سرهنگ کسی ندارد برایش نامه بنویسد   5.0     3.0   2.0  \n2  سرهنگ کسی ندارد برایش نامه بنویسد   5.0     3.0   0.0  \n3  سرهنگ کسی ندارد برایش نامه بنویسد   2.0     3.0   0.0  \n4  سرهنگ کسی ندارد برایش نامه بنویسد   3.0     3.0   0.0  \n5  سرهنگ کسی ندارد برایش نامه بنویسد   3.0     3.0   0.0  \n6  سرهنگ کسی ندارد برایش نامه بنویسد   5.0     3.0   0.0  \n7                   هشت داستان کوتاه   3.0     5.0   1.0  \n8                   هشت داستان کوتاه   1.0     5.0   1.0  \n9                   هشت داستان کوتاه   2.0     5.0   1.0  ",
      "text/html": "<div>\n<style scoped>\n    .dataframe tbody tr th:only-of-type {\n        vertical-align: middle;\n    }\n\n    .dataframe tbody tr th {\n        vertical-align: top;\n    }\n\n    .dataframe thead th {\n        text-align: right;\n    }\n</style>\n<table border=\"1\" class=\"dataframe\">\n  <thead>\n    <tr style=\"text-align: right;\">\n      <th></th>\n      <th>date</th>\n      <th>comment</th>\n      <th>bookname</th>\n      <th>rate</th>\n      <th>bookID</th>\n      <th>like</th>\n    </tr>\n  </thead>\n  <tbody>\n    <tr>\n      <th>0</th>\n      <td>1395/11/14</td>\n      <td>اسم کتاب No one writes to the Colonel ترجمش می...</td>\n      <td>سرهنگ کسی ندارد برایش نامه بنویسد</td>\n      <td>0.0</td>\n      <td>3.0</td>\n      <td>2.0</td>\n    </tr>\n    <tr>\n      <th>1</th>\n      <td>1395/11/14</td>\n      <td>طاقچه عزیز ، نام کتاب \" کسی به سرهنگ نامه نمین...</td>\n      <td>سرهنگ کسی ندارد برایش نامه بنویسد</td>\n      <td>5.0</td>\n      <td>3.0</td>\n      <td>2.0</td>\n    </tr>\n    <tr>\n      <th>2</th>\n      <td>1394/06/06</td>\n      <td>بنظر این اثر مارکز خیلی از صد سال تنهایی که بخ...</td>\n      <td>سرهنگ کسی ندارد برایش نامه بنویسد</td>\n      <td>5.0</td>\n      <td>3.0</td>\n      <td>0.0</td>\n    </tr>\n    <tr>\n      <th>3</th>\n      <td>1393/09/02</td>\n      <td>به نظر کتاب خوبی میومد اما من از ترجمش خو نیوم...</td>\n      <td>سرهنگ کسی ندارد برایش نامه بنویسد</td>\n      <td>2.0</td>\n      <td>3.0</td>\n      <td>0.0</td>\n    </tr>\n    <tr>\n      <th>4</th>\n      <td>1393/06/29</td>\n      <td>کتاب خوبی است</td>\n      <td>سرهنگ کسی ندارد برایش نامه بنویسد</td>\n      <td>3.0</td>\n      <td>3.0</td>\n      <td>0.0</td>\n    </tr>\n    <tr>\n      <th>5</th>\n      <td>1393/05/02</td>\n      <td>راستش خیلی خو نیومد ازش !</td>\n      <td>سرهنگ کسی ندارد برایش نامه بنویسد</td>\n      <td>3.0</td>\n      <td>3.0</td>\n      <td>0.0</td>\n    </tr>\n    <tr>\n      <th>6</th>\n      <td>1393/04/11</td>\n      <td>کتابی شیوا و بینظیر یکی دیگر از شاهکار های اقا...</td>\n      <td>سرهنگ کسی ندارد برایش نامه بنویسد</td>\n      <td>5.0</td>\n      <td>3.0</td>\n      <td>0.0</td>\n    </tr>\n    <tr>\n      <th>7</th>\n      <td>1398/09/30</td>\n      <td>هر هشت تای این داستان توی کتاب \" بهترین داستان...</td>\n      <td>هشت داستان کوتاه</td>\n      <td>3.0</td>\n      <td>5.0</td>\n      <td>1.0</td>\n    </tr>\n    <tr>\n      <th>8</th>\n      <td>1393/12/02</td>\n      <td>سلام چرا این نمونه نداره که بدون کدوم داستان ک...</td>\n      <td>هشت داستان کوتاه</td>\n      <td>1.0</td>\n      <td>5.0</td>\n      <td>1.0</td>\n    </tr>\n    <tr>\n      <th>9</th>\n      <td>1393/05/20</td>\n      <td>داشت#دار ب این جمع بست#بند میرسم ک مارکز هیچ ج...</td>\n      <td>هشت داستان کوتاه</td>\n      <td>2.0</td>\n      <td>5.0</td>\n      <td>1.0</td>\n    </tr>\n  </tbody>\n</table>\n</div>"
     },
     "execution_count": 5,
     "metadata": {},
     "output_type": "execute_result"
    }
   ],
   "source": [
    "def lemmatization(text):\n",
    "    # Tokenize text\n",
    "    tokens = word_tokenize(text)\n",
    "    # Lemmatize the tokens and then concatenate\n",
    "    lemmatizer = Lemmatizer()\n",
    "    tokens = [lemmatizer.lemmatize(token) for token in tokens]\n",
    "    lemmatized_text = ' '.join(tokens)\n",
    "    return lemmatized_text\n",
    "\n",
    "# Apply the lemmatizer function to the 'comment' column\n",
    "data['comment'] = data['comment'].apply(lemmatization)\n",
    "\n",
    "data.head(10)"
   ],
   "metadata": {
    "collapsed": false,
    "ExecuteTime": {
     "end_time": "2024-06-23T12:11:35.617415200Z",
     "start_time": "2024-06-23T12:11:27.766596300Z"
    }
   },
   "id": "39b5a5ad963ef1e7"
  },
  {
   "cell_type": "code",
   "execution_count": null,
   "outputs": [],
   "source": [
    "data.to_csv('preprocessed_taghche.csv', index=False)"
   ],
   "metadata": {
    "collapsed": false
   },
   "id": "2b4be568d9d58d7"
  },
  {
   "cell_type": "markdown",
   "source": [
    "## TF-IDF Vectorizer - Logistic Regression"
   ],
   "metadata": {
    "collapsed": false
   },
   "id": "449b6170fb3e5416"
  },
  {
   "cell_type": "code",
   "execution_count": 6,
   "outputs": [
    {
     "name": "stdout",
     "output_type": "stream",
     "text": [
      "Best parameters for TF-IDF model are: {'logreg__C': 0.1, 'tfidf__max_features': 10000, 'tfidf__ngram_range': (1, 2), 'positive_threshold': 4, 'neutral_threshold': 2}\n",
      "Test accuracy of Logistic Regression model:  0.5606361829025845\n",
      "              precision    recall  f1-score   support\n",
      "\n",
      "    negative       0.53      0.59      0.56      1020\n",
      "     neutral       0.52      0.52      0.52       987\n",
      "    positive       0.65      0.58      0.61      1011\n",
      "\n",
      "    accuracy                           0.56      3018\n",
      "   macro avg       0.56      0.56      0.56      3018\n",
      "weighted avg       0.57      0.56      0.56      3018\n"
     ]
    }
   ],
   "source": [
    "# Custom scorer function to handle dynamic threshold changes\n",
    "def custom_scorer(estimator, X, y, positive_threshold, neutral_threshold):\n",
    "    X_prepared, y_prepared = prepare_data(positive_threshold, neutral_threshold)\n",
    "    X_train, X_test, y_train, y_test = train_test_split(X_prepared, y_prepared, test_size=0.1, random_state=42)\n",
    "    estimator.fit(X_train, y_train)\n",
    "    y_pred = estimator.predict(X_test)\n",
    "    return accuracy_score(y_test, y_pred)\n",
    "\n",
    "# Create a pipeline with TF-IDF and logistic regression\n",
    "logReg_PL = Pipeline([\n",
    "    (\"tfidf\", TfidfVectorizer()),\n",
    "    (\"logreg\", LogisticRegression(max_iter=500))\n",
    "])\n",
    "\n",
    "# Define the parameter grid for GridSearchCV\n",
    "param_grid = {\n",
    "    'tfidf__ngram_range': [(1, 1), (1, 2), (1, 3)],\n",
    "    'tfidf__max_features': [5000, 10000],\n",
    "    'logreg__C': [0.01, 0.1, 1, 10]\n",
    "}\n",
    "\n",
    "# Custom GridSearchCV implementation to iterate over parameter grid\n",
    "best_score = 0\n",
    "best_params = None\n",
    "\n",
    "# Thresholds to evaluate\n",
    "rate_thresholds = [(1, 2), (1, 3), (1, 4), (2, 3), (2, 4), (3, 4)]\n",
    "\n",
    "for neutral_threshold, positive_threshold in rate_thresholds:\n",
    "        X_prepared, y_prepared = prepare_data(positive_threshold, neutral_threshold)\n",
    "        X_train, X_test, y_train, y_test = train_test_split(X_prepared, y_prepared, test_size=0.1, random_state=42)\n",
    "        \n",
    "        grid_search = GridSearchCV(logReg_PL, param_grid, cv=5, scoring='accuracy')\n",
    "        grid_search.fit(X_train, y_train)\n",
    "        \n",
    "        score = grid_search.best_score_\n",
    "        if score > best_score:\n",
    "            best_score = score\n",
    "            best_params = grid_search.best_params_\n",
    "            best_params['positive_threshold'] = positive_threshold\n",
    "            best_params['neutral_threshold'] = neutral_threshold\n",
    "\n",
    "# Print best parameters\n",
    "print(\"Best parameters for TF-IDF model are:\", best_params)\n",
    "\n",
    "# Get the best model with the best parameters\n",
    "X_prepared, y_prepared = prepare_data(best_params['positive_threshold'], best_params['neutral_threshold'])\n",
    "X_train, X_test, y_train, y_test = train_test_split(X_prepared, y_prepared, test_size=0.1, random_state=42)\n",
    "\n",
    "best_logReg_model = Pipeline([\n",
    "    (\"tfidf\", TfidfVectorizer(ngram_range=best_params['tfidf__ngram_range'], max_features=best_params['tfidf__max_features'])),\n",
    "    (\"logreg\", LogisticRegression(C=best_params['logreg__C'], max_iter=500))\n",
    "])\n",
    "\n",
    "best_logReg_model.fit(X_train, y_train)\n",
    "\n",
    "# Predict the labels on the test set\n",
    "y_test_pred = best_logReg_model.predict(X_test)\n",
    "\n",
    "# Calculate the accuracy score\n",
    "test_accuracy = accuracy_score(y_test, y_test_pred)\n",
    "\n",
    "# Print the result\n",
    "print(\"Test accuracy of Logistic Regression model: \", test_accuracy)\n",
    "\n",
    "# Print detailed classification report\n",
    "print(classification_report(y_test, y_test_pred))"
   ],
   "metadata": {
    "collapsed": false,
    "ExecuteTime": {
     "end_time": "2024-06-23T12:48:39.632484700Z",
     "start_time": "2024-06-23T12:38:47.965357400Z"
    }
   },
   "id": "8720628c2b6a6d1d"
  },
  {
   "cell_type": "code",
   "execution_count": null,
   "outputs": [],
   "source": [],
   "metadata": {
    "collapsed": false
   },
   "id": "662dfaf3c9be3e49"
  }
 ],
 "metadata": {
  "kernelspec": {
   "display_name": "Python 3",
   "language": "python",
   "name": "python3"
  },
  "language_info": {
   "codemirror_mode": {
    "name": "ipython",
    "version": 2
   },
   "file_extension": ".py",
   "mimetype": "text/x-python",
   "name": "python",
   "nbconvert_exporter": "python",
   "pygments_lexer": "ipython2",
   "version": "2.7.6"
  }
 },
 "nbformat": 4,
 "nbformat_minor": 5
}
